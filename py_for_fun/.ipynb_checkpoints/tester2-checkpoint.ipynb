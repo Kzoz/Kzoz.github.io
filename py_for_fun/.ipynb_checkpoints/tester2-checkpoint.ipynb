{
 "cells": [
  {
   "cell_type": "code",
   "execution_count": 3,
   "metadata": {},
   "outputs": [
    {
     "data": {
      "text/plain": [
       "720"
      ]
     },
     "execution_count": 3,
     "metadata": {},
     "output_type": "execute_result"
    }
   ],
   "source": [
    "def factorial(number):\n",
    "     # Validate input\n",
    "     if not isinstance(number, int):\n",
    "         raise TypeError(\"Sorry. 'number' must be an integer.\")\n",
    "     if number < 0:\n",
    "         raise ValueError(\"Sorry. 'number' must be zero or positive.\")\n",
    "     # Calculate the factorial of number\n",
    "     def inner_factorial(number):\n",
    "         if number <= 1:\n",
    "             return 1\n",
    "         return number * inner_factorial(number - 1)\n",
    "     return inner_factorial(number)\n",
    "\n",
    "\n",
    "factorial(6)"
   ]
  },
  {
   "cell_type": "code",
   "execution_count": 16,
   "metadata": {},
   "outputs": [
    {
     "data": {
      "text/plain": [
       "(b'CONTINUE', 'received', 0)"
      ]
     },
     "execution_count": 16,
     "metadata": {},
     "output_type": "execute_result"
    }
   ],
   "source": [
    "#testing encapsulation\n",
    "import time\n",
    "def first():\n",
    "    data = bytes(b\"KANA6\")\n",
    "    sok = ''\n",
    "    def second(data,sok):\n",
    "        if data == bytes(b'KANA6'):\n",
    "            while data == bytes(b'KANA6'):\n",
    "                work =  21\n",
    "                time.sleep(0.02)\n",
    "                sok='received'\n",
    "                data = input(\"new data: \")\n",
    "                data = bytes(b''+data.encode('ascii'))\n",
    "                if data != bytes(b'KANA6'):\n",
    "                    break\n",
    "        return data,sok,work\n",
    "    \n",
    "    data,sok,work = second(data,sok)\n",
    "    \n",
    "    if data == bytes(b'CONTINUE'):\n",
    "        work = 0\n",
    "    return data,sok,work\n",
    "first()\n"
   ]
  },
  {
   "cell_type": "code",
   "execution_count": 11,
   "metadata": {},
   "outputs": [
    {
     "name": "stdout",
     "output_type": "stream",
     "text": [
      "'192.168.0.1'\n",
      "'sarah'\n",
      "'privatepassword'\n",
      "'192.168.20.2'\n",
      "'john'\n",
      "'password1'\n"
     ]
    }
   ],
   "source": [
    "f = open(r'test.txt' , 'r') #open file\n",
    "for x in f:\n",
    "    x=x.rstrip()\n",
    "    x = x.split(',')\n",
    "    ip,name, pwd = x\n",
    "    print(ip)\n",
    "    print(name)\n",
    "    print(pwd)\n",
    "\n"
   ]
  },
  {
   "cell_type": "code",
   "execution_count": 63,
   "metadata": {},
   "outputs": [
    {
     "data": {
      "text/plain": [
       "True"
      ]
     },
     "execution_count": 63,
     "metadata": {},
     "output_type": "execute_result"
    }
   ],
   "source": [
    "\n",
    "def isPalindrome(x):\n",
    "    y = str(x)\n",
    "    y = y[::-1]\n",
    "    if str(x) == y:\n",
    "        return True\n",
    "    else:\n",
    "        return False\n",
    "isPalindrome(121)"
   ]
  },
  {
   "cell_type": "code",
   "execution_count": 24,
   "metadata": {},
   "outputs": [
    {
     "name": "stdout",
     "output_type": "stream",
     "text": [
      "MC so far!\n",
      "1199\n"
     ]
    }
   ],
   "source": [
    "lst2 = {'IV':4,'IX':9,'XL':40,'XC':90,'CD':400,'CM':900}\n",
    "lst1 = {'I':1,'V':5,'X':10,'L':50,'C':100,'D':500,'M':1000}\n",
    "check = [item for item in lst2]\n",
    "check2 = [item for item in lst1]\n",
    "empty=[]\n",
    "cnt = 0\n",
    "\n",
    "\n",
    "for j in range(len(lst2)):\n",
    "    for x in check:\n",
    "        if x in a :\n",
    "            empty.append(x)\n",
    "            m = list(a)\n",
    "            for i in empty:\n",
    "                v = a.find(i)\n",
    "                del m[v:v+2]\n",
    "                a=''.join(m)\n",
    "                del empty[0]\n",
    "                cnt+=lst2.get(i)\n",
    "        indx = check.index(x)\n",
    "\n",
    "\n",
    "\n",
    "for j in range(len(lst1)):\n",
    "    for x in check2:\n",
    "        if x in a :\n",
    "            empty.append(x)\n",
    "            m = list(a)\n",
    "            for i in empty:\n",
    "                v = a.find(i)\n",
    "                del m[v]\n",
    "                a=''.join(m)\n",
    "                del empty[0]\n",
    "                cnt+=lst1.get(i)\n",
    "     \n",
    "\n",
    "        \n",
    "        \n",
    "            \n",
    "print(cnt)"
   ]
  },
  {
   "cell_type": "code",
   "execution_count": 27,
   "metadata": {},
   "outputs": [
    {
     "data": {
      "text/plain": [
       "3"
      ]
     },
     "execution_count": 27,
     "metadata": {},
     "output_type": "execute_result"
    }
   ],
   "source": [
    "def romanToInt(s):\n",
    "        map = {\"I\":1,\"V\":5,\"X\":10,\"L\":50,\"C\":100,\"D\":500,\"M\":1000}\n",
    "        ans = 0\n",
    "        for i in range(len(s)):\n",
    "            if i == len(s)-1:\n",
    "                ans += map[s[i]]\n",
    "            elif map[s[i+1]] > map[s[i]]:\n",
    "                \n",
    "                ans -= map[s[i]]\n",
    "            else:\n",
    "                ans += map[s[i]]\n",
    "        return ans\n",
    "romanToInt('III')"
   ]
  },
  {
   "cell_type": "code",
   "execution_count": null,
   "metadata": {},
   "outputs": [],
   "source": [
    "zip\n",
    "map\n",
    "dictionary\n"
   ]
  },
  {
   "cell_type": "code",
   "execution_count": 95,
   "metadata": {},
   "outputs": [
    {
     "name": "stdout",
     "output_type": "stream",
     "text": [
      "c\n",
      "fl\n",
      "\n",
      "aa\n"
     ]
    }
   ],
   "source": [
    "def longestCommonPrefix(strs):\n",
    "    empty =[]\n",
    "    res =[]\n",
    "    for a in strs:\n",
    "        for b in a:\n",
    "            if all(b in i for i in strs):\n",
    "                empty.append(b)\n",
    "                ty=''.join(empty)\n",
    "                #print(ty)\n",
    "                if all(ty in x for x in strs) and all(y.index(ty) == 0 for y in strs)and ty not in res:\n",
    "                    res=[]\n",
    "                    res.append(ty)\n",
    "    res=''.join(res)\n",
    "    return res\n",
    "print(longestCommonPrefix([\"cir\",\"car\"]))\n",
    "print(longestCommonPrefix([\"flower\",\"flow\",\"flight\"]))\n",
    "print(longestCommonPrefix([\"reflower\",\"flow\",\"flight\"]))\n",
    "print(longestCommonPrefix([\"aa\",\"aa\"]))"
   ]
  },
  {
   "cell_type": "code",
   "execution_count": 103,
   "metadata": {},
   "outputs": [
    {
     "name": "stdout",
     "output_type": "stream",
     "text": [
      "c\n",
      "fl\n",
      "\n",
      "aa\n"
     ]
    }
   ],
   "source": [
    "def longestCommonPrefix(strs):\n",
    "    word = \"\"\n",
    "    for i in range(len(strs[0])):\n",
    "        for s in strs:\n",
    "            if(i==len(s) or s[i]!=strs[0][i]):\n",
    "                return word\n",
    "        word+=strs[0][i]\n",
    "    return word\n",
    "print(longestCommonPrefix([\"cir\",\"car\"]))\n",
    "print(longestCommonPrefix([\"flower\",\"flow\",\"flight\"]))\n",
    "print(longestCommonPrefix([\"reflower\",\"flow\",\"flight\"]))\n",
    "print(longestCommonPrefix([\"aa\",\"aa\"]))"
   ]
  },
  {
   "cell_type": "code",
   "execution_count": 112,
   "metadata": {},
   "outputs": [
    {
     "name": "stdout",
     "output_type": "stream",
     "text": [
      "True\n",
      "True\n",
      "False\n",
      "False\n"
     ]
    }
   ],
   "source": [
    "def isValid(s):\n",
    "    a = \"()\" \n",
    "    b = '{}'\n",
    "    c = '[]'\n",
    "    d = [a,b,c]\n",
    "    \n",
    "    for i in range(len(s)):\n",
    "        if i%2 == 0 and ''.join(s[i:i+2]) not in d:\n",
    "            return False\n",
    "        elif i%2!= 0 and ''.join(s[i:i+2]) in d:\n",
    "            return True\n",
    "        else:\n",
    "            return True\n",
    "            \n",
    "\n",
    "print(isValid(\"()\"))\n",
    "print(isValid(\"()[]{}\"))\n",
    "print(isValid(\"(]\"))\n",
    "print(isValid(\"{[]}\"))"
   ]
  },
  {
   "cell_type": "code",
   "execution_count": 244,
   "metadata": {},
   "outputs": [
    {
     "data": {
      "text/plain": [
       "[1, 1, 2, 3, 4, 4]"
      ]
     },
     "execution_count": 244,
     "metadata": {},
     "output_type": "execute_result"
    }
   ],
   "source": [
    "def mergeTwoLists(list1, list2):\n",
    "    for i in list2:\n",
    "        if i != '':\n",
    "            list1.append(i)\n",
    "    return sorted(list1)\n",
    "mergeTwoLists([1,2,4],[1,3,4])"
   ]
  },
  {
   "cell_type": "code",
   "execution_count": 251,
   "metadata": {},
   "outputs": [
    {
     "name": "stdout",
     "output_type": "stream",
     "text": [
      "['1', '2', '4']\n",
      "['4', '3', '2', '2']\n",
      "['1', '0']\n"
     ]
    }
   ],
   "source": [
    "def plusOne(digits):\n",
    "    digits=[str(i) for i in digits]\n",
    "    digits=str(int(''.join(digits))+1)\n",
    "    digits=[i for i in digits]\n",
    "    return digits\n",
    "print(plusOne([1,2,3]))\n",
    "print(plusOne([4,3,2,1]))\n",
    "print(plusOne([9]))\n"
   ]
  },
  {
   "cell_type": "code",
   "execution_count": 278,
   "metadata": {},
   "outputs": [
    {
     "name": "stdout",
     "output_type": "stream",
     "text": [
      "True\n",
      "False\n",
      "True\n"
     ]
    }
   ],
   "source": [
    "def containsDuplicate(nums):\n",
    "    if len(nums)!= len(set(nums)):\n",
    "        return True\n",
    "    return False\n",
    "print(containsDuplicate([5,1,2,3,1]))\n",
    "print(containsDuplicate([1,2,3,4]))\n",
    "print(containsDuplicate([5,9,1,1,1,3,3,4,3,2,4,2]))"
   ]
  },
  {
   "cell_type": "code",
   "execution_count": 295,
   "metadata": {},
   "outputs": [
    {
     "name": "stdout",
     "output_type": "stream",
     "text": [
      "2\n"
     ]
    }
   ],
   "source": [
    "nums=[2,1]\n",
    "nums.sort(reverse=True)\n",
    "nums=set(nums)\n",
    "if len(nums) > 2:\n",
    "    print(nums[2])\n",
    "else:\n",
    "    print(max(nums))#"
   ]
  },
  {
   "cell_type": "code",
   "execution_count": 345,
   "metadata": {},
   "outputs": [
    {
     "name": "stdout",
     "output_type": "stream",
     "text": [
      "['alaska', 'peace', 'wert']\n"
     ]
    }
   ],
   "source": [
    "row1 = ['q','w','e','r','t','y','u','i','o','p']\n",
    "row2 = ['a','s','d','f','g','h','j','k','l']\n",
    "row3 = ['z','x','c','v','b','n','m']\n",
    "words = [\"Hello\",\"Alaska\",\"Dad\",\"Peace\",'oiuytre','wert','wetr']\n",
    "words = [i.lower() for i in words]\n",
    "word = ''\n",
    "lst = []\n",
    "\n",
    "for x in words:\n",
    "    for i in range(len(x)):\n",
    "        #print(x)\n",
    "        if (x[i:] in row1):\n",
    "            #print('removing 1',i,x[i])\n",
    "            pass\n",
    "        elif (x[i:] in row2):\n",
    "            pass\n",
    "        elif (x[i:] in row3):\n",
    "            pass\n",
    "        else:\n",
    "            words.remove(x)\n",
    "            break\n",
    "\n",
    "print(words)\n"
   ]
  }
 ],
 "metadata": {
  "file_extension": ".py",
  "interpreter": {
   "hash": "31f2aee4e71d21fbe5cf8b01ff0e069b9275f58929596ceb00d14d90e3e16cd6"
  },
  "kernelspec": {
   "display_name": "Python 3 (ipykernel)",
   "language": "python",
   "name": "python3"
  },
  "language_info": {
   "codemirror_mode": {
    "name": "ipython",
    "version": 3
   },
   "file_extension": ".py",
   "mimetype": "text/x-python",
   "name": "python",
   "nbconvert_exporter": "python",
   "pygments_lexer": "ipython3",
   "version": "3.8.12"
  },
  "mimetype": "text/x-python",
  "name": "python",
  "npconvert_exporter": "python",
  "pygments_lexer": "ipython3",
  "version": 3
 },
 "nbformat": 4,
 "nbformat_minor": 2
}
