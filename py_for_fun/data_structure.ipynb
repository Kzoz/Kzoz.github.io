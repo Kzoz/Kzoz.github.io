{
 "cells": [
  {
   "cell_type": "markdown",
   "metadata": {},
   "source": [
    "# Learning Data Structure with Python:\n",
    "\n",
    "    #there are mainly 2 categories of data structures in CS, which are Liner Data Strucutures and Non-Liner Data Structures.\n",
    "    #Liner Data Structures: These are the data strucutures which store the data elements in a sequential manner.\n",
    "        #Array ; It is a sequential arrangement of data elements paired with the index of the data element.\n",
    "        #link-list ; Each data element contains a link to another element along with the data present in it.\n",
    "        #Stack ; It is a data structure which follows only to specific order of operation. LIFO(last in First Out) or FILO(First in Last Out).\n",
    "        #Queue ;  It is similar to Stack but the order of operation is only FIFO(First In First Out).\n",
    "        #Matrix ; It is two dimensional data structure in which the data element is referred by a pair of indices.\n",
    "\n",
    "    #Non-Liner Data Strucutures: These are the data structures in which there is no sequential linking of data elements\n",
    "    #Any pair or group of data elements can be linked to each other and can be accessed without a strict sequence.\n",
    "        #Binary Tree ; It is a data structure where each data element can be connected to maximum two other data elements and it starts with a root node.\n",
    "        #Heap ; It is a special case of Tree data structure where the data in the parent node is either strictly greater than/ equal to the child nodes or strictly less than it’s child nodes.\n",
    "        #Hash table ; It is a data structure which is made of arrays associated with each other using a hash function. It retrieves values using keys rather than index from a data element.\n",
    "        #Graph ; It is an arrangement of vertices and nodes where some of the nodes are connected to each other through links.\n",
    "    \n",
    "    #Python Specific Data Structures\n",
    "        # Tuple\n",
    "        # List \n",
    "        # Dictinary  \n",
    "        \n",
    "        "
   ]
  },
  {
   "cell_type": "markdown",
   "metadata": {},
   "source": [
    "#    Arrays\n",
    "\n",
    "The basic operations supported by an array are as stated below −\n",
    "\n",
    "        Traverse − print all the array elements one by one.\n",
    "\n",
    "        Insertion − Adds an element at the given index.\n",
    "\n",
    "        Deletion − Deletes an element at the given index.\n",
    "\n",
    "        Search − Searches an element using the given index or by the value.\n",
    "\n",
    "        Update − Updates an element at the given index.\n",
    "\n",
    "Array is created in Python by importing array module to the python program. Then, the array is declared as shown below −"
   ]
  },
  {
   "cell_type": "markdown",
   "metadata": {},
   "source": [
    "## Import the array lib\n",
    "\n",
    "from array import *\n",
    "\n",
    "#arrayName = array(typecode, [Initializers])\n",
    "\n",
    "common typecode used in python:\n",
    "Typecode\tValue\n",
    "b\t        Represents signed integer of size 1 byte\n",
    "B\t        Represents unsigned integer of size 1 byte\n",
    "c\t        Represents character of size 1 byte\n",
    "i\t        Represents signed integer of size 2 bytes\n",
    "I\t        Represents unsigned integer of size 2 bytes\n",
    "f\t        Represents floating point of size 4 bytes\n",
    "d\t        Represents floating point of size 8 bytes"
   ]
  },
  {
   "cell_type": "code",
   "execution_count": 2,
   "metadata": {},
   "outputs": [
    {
     "name": "stdout",
     "output_type": "stream",
     "text": [
      "10\n",
      "20\n",
      "30\n",
      "40\n",
      "50\n",
      "----///----\n",
      "\n",
      "10\n",
      "40\n",
      "----///----\n",
      "\n",
      "10 20 30 40 50 60\n",
      "----///----\n",
      "\n",
      "10 20 40 50 60\n",
      "----///----\n",
      "\n",
      "0\n",
      "----///----\n",
      "\n",
      "10 21 40 50 60\n",
      "----///----\n",
      "\n"
     ]
    }
   ],
   "source": [
    "from array import *\n",
    "\n",
    "array1 = array('i',[10,20,30,40,50])\n",
    "\n",
    "for i in array1:\n",
    "    print(i)\n",
    "print('----///----\\n')\n",
    "\n",
    "\n",
    "print(array1[0])\n",
    "print(array1[3])\n",
    "print('----///----\\n')\n",
    "\n",
    "\n",
    "# use .insert(index, value) after the arrayName to insert a value at a particular index.\n",
    "array1.insert(len(array1),60)\n",
    "print(*array1)\n",
    "print('----///----\\n')\n",
    "\n",
    "\n",
    "# use the .remove(value) after the arrayName to remove a particular value x .\n",
    "# This most likely will remove the first value x given and not its duplicate\n",
    "array1.remove(30)\n",
    "print(*array1)\n",
    "print('----///----\\n')\n",
    "\n",
    "\n",
    "#Search Operation: search for an array element based on its value or its index.\n",
    "# Use the .index(value) to search for the index of a particular val\n",
    "#If the value does not exist, it will raise a ValueError\n",
    "# It gives the index of the val x not its duplicate within the same array\n",
    "print (array1.index(10))\n",
    "print('----///----\\n')\n",
    "\n",
    "\n",
    "#Update Operation: updating an existing element from the array at a given index.\n",
    "array1[1] = 21\n",
    "print(*array1)\n",
    "print('----///----\\n')"
   ]
  },
  {
   "cell_type": "markdown",
   "metadata": {},
   "source": [
    "## ------------------------------------ARRAYS{END}----------------------------------------------------"
   ]
  },
  {
   "cell_type": "markdown",
   "metadata": {},
   "source": [
    "## Lists\n",
    "\n",
    "items of a List don't necessarily need to be of the same data type"
   ]
  },
  {
   "cell_type": "code",
   "execution_count": 30,
   "metadata": {},
   "outputs": [
    {
     "name": "stdout",
     "output_type": "stream",
     "text": [
      "['physics', 'chemistry', 2000]\n"
     ]
    }
   ],
   "source": [
    "list1 = ['physics', 'chemistry', 1997, 2000]\n",
    "list1.remove(1997)\n",
    "print(list1)"
   ]
  },
  {
   "cell_type": "markdown",
   "metadata": {},
   "source": [
    "## ------------------------------------LISTS{END}----------------------------------------------------"
   ]
  },
  {
   "cell_type": "markdown",
   "metadata": {},
   "source": [
    "## Tuples\n",
    "\n",
    "A tuple is a sequence of immutable Python objects. Tuples are sequences, just like lists. The differences between tuples and lists are, the tuples cannot be changed unlike lists.\n"
   ]
  },
  {
   "cell_type": "code",
   "execution_count": 44,
   "metadata": {},
   "outputs": [
    {
     "name": "stdout",
     "output_type": "stream",
     "text": [
      "<class 'tuple'>\n",
      "<class 'str'>\n",
      "----///----\n",
      "\n",
      "chemistry\n",
      "2 4 6\n",
      "----///----\n",
      "\n",
      "100 chemistry 1997 2000\n",
      "----///----\n",
      "\n"
     ]
    }
   ],
   "source": [
    "# To write a tuple containing a single value you have to include a comma, even though there is only one value −\n",
    "tup = ('a',)\n",
    "tup1 = ('a')\n",
    "print(type(tup))\n",
    "print(type(tup1))\n",
    "print('----///----\\n')\n",
    "\n",
    "\n",
    "#Accessing Values in Tuples: use the square brackets for slicing along with the index or indices \n",
    "#to obtain value available at that index.\n",
    "tup1 = ('physics', 'chemistry', 1997, 2000)\n",
    "tup2 = (1, 2, 3, 4, 5, 6, 7 )\n",
    "print(tup1[1])\n",
    "print(*tup2[1::2])\n",
    "print('----///----\\n')\n",
    "\n",
    "#Updating tuples: Tuples are immutable which means you cannot update or change the values of tuple elements. \n",
    "# Following action is not valid for tuples\n",
    "# tup1[0] = 100;\n",
    "#Solution\n",
    "tup1 = list(tup1)\n",
    "tup1[0]=100\n",
    "tup1 = tuple(tup1)\n",
    "print(*tup1)\n",
    "print('----///----\\n')\n",
    "\n",
    "\n",
    "#Delete tuple Elements: Removing individual tuple elements is not possible. \n",
    "#There is, of course, nothing wrong with putting together another tuple with the undesired elements discarded.\n",
    "#Solution is to transform it to a list first and get it back to tuple."
   ]
  },
  {
   "cell_type": "markdown",
   "metadata": {},
   "source": [
    "## ------------------------------------TUPLES{END}----------------------------------------------------"
   ]
  },
  {
   "cell_type": "markdown",
   "metadata": {},
   "source": [
    "## Dictionary"
   ]
  },
  {
   "cell_type": "code",
   "execution_count": null,
   "metadata": {},
   "outputs": [],
   "source": [
    "dict = {'Name': 'Zara', 'Age': 7, 'Class': 'First'}"
   ]
  },
  {
   "cell_type": "code",
   "execution_count": null,
   "metadata": {},
   "outputs": [],
   "source": []
  },
  {
   "cell_type": "code",
   "execution_count": null,
   "metadata": {},
   "outputs": [],
   "source": []
  },
  {
   "cell_type": "code",
   "execution_count": null,
   "metadata": {},
   "outputs": [],
   "source": []
  },
  {
   "cell_type": "markdown",
   "metadata": {},
   "source": [
    "## Frequent Conversions\n",
    "\n",
    "## Binary 2b Integer to  Decimal Integer\n",
    "\n",
    "n = '101'\n",
    "converse = int(n,2)\n",
    "\n",
    "## Decimal Integer to Binary 2b Integer\n",
    "\n",
    "n= 5\n",
    "converse = format(n,'b')\n",
    "\n",
    "## Decimal Integer to Binary 32b Integer\n",
    "\n",
    "n = 10\n",
    "'{:032b}'.format(n)\n",
    "\n",
    "## Binary 32b Integer to Decimal Integer \n",
    "\n",
    "n = 00000000000000000000000000001010\n",
    "converse = int(n,2)\n",
    "\n",
    "## Integer to List\n",
    "\n",
    "n = 2346723\n",
    "converse = list(map(int, str(n)))\n",
    "OR\n",
    "converse = [int(i) for i in str(n)]\n",
    "\n",
    "## List of Integers (or List of Strings) to Integer\n",
    "\n",
    "lst = [1,2,3,4]\n",
    "strList = [str(i) for i in lst]\n",
    "n = int(''.join(strList))\n",
    "\n",
    "## String to List \n",
    "\n",
    "string1 = 'Frequent Questions'\n",
    "strList = list(string1)\n",
    "# ['Frequent','Questions']\n",
    "\n",
    "## string2 = 'Questions'\n",
    "strList2 = list(string2)\n",
    "# ['Q','u','e','s','t','i','o','n','s']\n",
    "\n",
    "\n",
    "## Filter a List (Strip it through conditions)\n",
    "\n",
    "nums = [1,0,3,0,54,29]\n",
    "filteredList = list(filter(lambda n: n!=0, nums)) ==> This will return a list in which 0s have been filtered\n",
    "\n",
    "## Dictionary out of 2 different Lists\n",
    "fruits = [\"Apple\", \"Pear\", \"Peach\", \"Banana\"]\n",
    "prices = [0.35, 0.40, 0.40, 0.28]\n",
    "fruit_dictionary = dict(zip(fruits, prices))\n",
    "\n",
    "s"
   ]
  },
  {
   "cell_type": "code",
   "execution_count": null,
   "metadata": {},
   "outputs": [],
   "source": []
  },
  {
   "cell_type": "code",
   "execution_count": null,
   "metadata": {},
   "outputs": [],
   "source": []
  },
  {
   "cell_type": "code",
   "execution_count": null,
   "metadata": {},
   "outputs": [],
   "source": []
  },
  {
   "cell_type": "code",
   "execution_count": null,
   "metadata": {},
   "outputs": [],
   "source": []
  },
  {
   "cell_type": "code",
   "execution_count": null,
   "metadata": {},
   "outputs": [],
   "source": []
  },
  {
   "cell_type": "code",
   "execution_count": null,
   "metadata": {},
   "outputs": [],
   "source": []
  },
  {
   "cell_type": "code",
   "execution_count": null,
   "metadata": {},
   "outputs": [],
   "source": []
  }
 ],
 "metadata": {
  "kernelspec": {
   "display_name": "Python 3 (ipykernel)",
   "language": "python",
   "name": "python3"
  },
  "language_info": {
   "codemirror_mode": {
    "name": "ipython",
    "version": 3
   },
   "file_extension": ".py",
   "mimetype": "text/x-python",
   "name": "python",
   "nbconvert_exporter": "python",
   "pygments_lexer": "ipython3",
   "version": "3.8.12"
  }
 },
 "nbformat": 4,
 "nbformat_minor": 2
}
