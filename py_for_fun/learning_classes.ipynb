{
 "cells": [
  {
   "cell_type": "code",
   "execution_count": 2,
   "metadata": {},
   "outputs": [
    {
     "name": "stdout",
     "output_type": "stream",
     "text": [
      "Leo is a persian cat. That is why it is not really cuddly.\n",
      "Rodrigo is a siberian cat. That is why it is very cuddly.\n"
     ]
    }
   ],
   "source": [
    "# Define a class with attributes and methods \n",
    "# Within the class, we have defined the attributes (self.xyz)\n",
    "# and also the method (behavior)\n",
    "class Cat:\n",
    "  def __init__(self, input_name, input_breed, input_age = 0):\n",
    "    self.name = input_name\n",
    "    self.breed = input_breed\n",
    "    self.age = input_age\n",
    "    self.is_cuddly = True\n",
    "  \n",
    "  # Create method to change\n",
    "  # at least one attribute.\n",
    "  # Ex: def change_att(self):\n",
    "  def behavior(self):\n",
    "    attrib = \"very\"\n",
    "    if self.breed == \"persian\":\n",
    "      self.is_cuddly = False\n",
    "      attrib = \"not really\"\n",
    "    print(\"{name} is a {breed} cat. That is why it is {attribute} cuddly.\".format(name = self.name, breed = self.breed, attribute = attrib))\n",
    "\n",
    "# Create your new pet.\n",
    "new_cat = Cat(\"Leo\", \"persian\", 3)\n",
    "another_cat = Cat(\"Rodrigo\", \"siberian\",5)\n",
    "\n",
    "# Call your method on your\n",
    "# new pet here.\n",
    "new_cat.behavior()\n",
    "another_cat.behavior()"
   ]
  },
  {
   "cell_type": "code",
   "execution_count": 15,
   "metadata": {},
   "outputs": [
    {
     "name": "stdout",
     "output_type": "stream",
     "text": [
      "The 3 years old cat, Leo of Tabby breed has infectious disease.\n"
     ]
    }
   ],
   "source": [
    "# You can start with the\n",
    "# Cat class or erase this\n",
    "# and use your own!\n",
    "class Cat:\n",
    "  def __init__(self, input_name, input_breed, input_age, input_hasymp):\n",
    "\n",
    "    self.name = input_name\n",
    "    self.breed = input_breed\n",
    "    self.age = input_age\n",
    "    self.has_symptoms = input_hasymp\n",
    "    self.is_sick = \"\"\n",
    "  # Create method where two\n",
    "  # pets interact.\n",
    "  # Ex: def name(self, pet):\n",
    "  def sickness(self, other_cat):\n",
    "    if self.has_symptoms and other_cat.has_symptoms:\n",
    "      self.is_sick = \"has infectious disease\"\n",
    "      other_cat.is_sick = \"has infectious disease\"\n",
    "\n",
    "    else:\n",
    "      self.is_sick = \"is probably not sick\"\n",
    "      other_cat.is_sick = \"is probably not sick\"\n",
    "    print(\"The {age} years old cat, {name} of {breed} breed {sickness}.\".format(age = self.age, name = self.name, breed = self.breed, sickness = self.is_sick))\n",
    "\n",
    "# Create two pets.\n",
    "cat_one = Cat(\"Leo\", \"Tabby\", 3, True)\n",
    "cat_two = Cat(\"Margot\", \"Persian\", 5, True)\n",
    "\n",
    "# Call your method below.\n",
    "cat_one.sickness(cat_two)"
   ]
  },
  {
   "cell_type": "code",
   "execution_count": 22,
   "metadata": {},
   "outputs": [
    {
     "name": "stdout",
     "output_type": "stream",
     "text": [
      "Leo is a cute Tabby cat. It is 3 years old. Leo \n",
      "Margot is a cute Persian cat. It is 5 years old. Margot \n",
      "Leo is a cute Tabby cat. It is 3 years old. Leo has infectious disease\n",
      "Margot is a cute Persian cat. It is 5 years old. Margot has infectious disease\n"
     ]
    }
   ],
   "source": [
    "class Cat:\n",
    "  def __init__(self, input_name, input_breed, input_age, input_hasymp):\n",
    "\n",
    "    self.name = input_name\n",
    "    self.breed = input_breed\n",
    "    self.age = input_age\n",
    "    self.has_symptoms = input_hasymp\n",
    "    self.is_sick = \"\"\n",
    "  # Create method where two\n",
    "  # pets interact.\n",
    "  # Ex: def name(self, pet):\n",
    "  def sickness(self, other_cat):\n",
    "    if self.has_symptoms and other_cat.has_symptoms:\n",
    "      self.is_sick = \"has infectious disease\"\n",
    "      other_cat.is_sick = \"has infectious disease\"\n",
    "\n",
    "    else:\n",
    "      self.is_sick = \"is probably not sick\"\n",
    "      other_cat.is_sick = \"is probably not sick\"\n",
    "    #print(\"The {age} years old cat, {name} of {breed} breed {sickness}.\".format(age = self.age, name = self.name, breed = self.breed, sickness = self.is_sick))\n",
    "  def __repr__(self):\n",
    "    description = \"{name} is a cute {breed} cat. It is {age} years old.\".format(name = self.name, age = self.age, breed = self.breed)\n",
    "    if self.has_symptoms:\n",
    "      description+= \" {name} {sickness}\".format(name = self.name, sickness = self.is_sick)\n",
    "    else:\n",
    "      description+= \"{name} is a healthy cat.\".format(name = self.name)\n",
    "    return description\n",
    "\n",
    "\n",
    "# Create two pets.\n",
    "cat_one = Cat(\"Leo\", \"Tabby\", 3, True)\n",
    "cat_two = Cat(\"Margot\", \"Persian\", 5, True)\n",
    "# Call your method below.\n",
    "print(cat_one)\n",
    "print(cat_two)\n",
    "#\n",
    "cat_one.sickness(cat_two)\n",
    "cat_two.sickness(cat_one)\n",
    "print(cat_one)\n",
    "print(cat_two)"
   ]
  }
 ],
 "metadata": {
  "interpreter": {
   "hash": "31f2aee4e71d21fbe5cf8b01ff0e069b9275f58929596ceb00d14d90e3e16cd6"
  },
  "kernelspec": {
   "display_name": "Python 3.7.3 64-bit",
   "language": "python",
   "name": "python3"
  },
  "language_info": {
   "codemirror_mode": {
    "name": "ipython",
    "version": 3
   },
   "file_extension": ".py",
   "mimetype": "text/x-python",
   "name": "python",
   "nbconvert_exporter": "python",
   "pygments_lexer": "ipython3",
   "version": "3.7.3"
  },
  "orig_nbformat": 4
 },
 "nbformat": 4,
 "nbformat_minor": 2
}
