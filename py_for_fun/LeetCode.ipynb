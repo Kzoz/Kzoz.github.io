{
 "cells": [
  {
   "cell_type": "code",
   "execution_count": 3,
   "metadata": {},
   "outputs": [
    {
     "data": {
      "text/plain": [
       "720"
      ]
     },
     "execution_count": 3,
     "metadata": {},
     "output_type": "execute_result"
    }
   ],
   "source": [
    "def factorial(number):\n",
    "     # Validate input\n",
    "     if not isinstance(number, int):\n",
    "         raise TypeError(\"Sorry. 'number' must be an integer.\")\n",
    "     if number < 0:\n",
    "         raise ValueError(\"Sorry. 'number' must be zero or positive.\")\n",
    "     # Calculate the factorial of number\n",
    "     def inner_factorial(number):\n",
    "         if number <= 1:\n",
    "             return 1\n",
    "         return number * inner_factorial(number - 1)\n",
    "     return inner_factorial(number)\n",
    "\n",
    "\n",
    "factorial(6)"
   ]
  },
  {
   "cell_type": "code",
   "execution_count": 16,
   "metadata": {},
   "outputs": [
    {
     "data": {
      "text/plain": [
       "(b'CONTINUE', 'received', 0)"
      ]
     },
     "execution_count": 16,
     "metadata": {},
     "output_type": "execute_result"
    }
   ],
   "source": [
    "#testing encapsulation\n",
    "import time\n",
    "def first():\n",
    "    data = bytes(b\"KANA6\")\n",
    "    sok = ''\n",
    "    def second(data,sok):\n",
    "        if data == bytes(b'KANA6'):\n",
    "            while data == bytes(b'KANA6'):\n",
    "                work =  21\n",
    "                time.sleep(0.02)\n",
    "                sok='received'\n",
    "                data = input(\"new data: \")\n",
    "                data = bytes(b''+data.encode('ascii'))\n",
    "                if data != bytes(b'KANA6'):\n",
    "                    break\n",
    "        return data,sok,work\n",
    "    \n",
    "    data,sok,work = second(data,sok)\n",
    "    \n",
    "    if data == bytes(b'CONTINUE'):\n",
    "        work = 0\n",
    "    return data,sok,work\n",
    "first()\n"
   ]
  },
  {
   "cell_type": "code",
   "execution_count": 11,
   "metadata": {},
   "outputs": [
    {
     "name": "stdout",
     "output_type": "stream",
     "text": [
      "'192.168.0.1'\n",
      "'sarah'\n",
      "'privatepassword'\n",
      "'192.168.20.2'\n",
      "'john'\n",
      "'password1'\n"
     ]
    }
   ],
   "source": [
    "f = open(r'test.txt' , 'r') #open file\n",
    "for x in f:\n",
    "    x=x.rstrip()\n",
    "    x = x.split(',')\n",
    "    ip,name, pwd = x\n",
    "    print(ip)\n",
    "    print(name)\n",
    "    print(pwd)\n",
    "\n"
   ]
  },
  {
   "cell_type": "code",
   "execution_count": 63,
   "metadata": {},
   "outputs": [
    {
     "data": {
      "text/plain": [
       "True"
      ]
     },
     "execution_count": 63,
     "metadata": {},
     "output_type": "execute_result"
    }
   ],
   "source": [
    "\n",
    "def isPalindrome(x):\n",
    "    y = str(x)\n",
    "    y = y[::-1]\n",
    "    if str(x) == y:\n",
    "        return True\n",
    "    else:\n",
    "        return False\n",
    "isPalindrome(121)"
   ]
  },
  {
   "cell_type": "code",
   "execution_count": 24,
   "metadata": {},
   "outputs": [
    {
     "name": "stdout",
     "output_type": "stream",
     "text": [
      "MC so far!\n",
      "1199\n"
     ]
    }
   ],
   "source": [
    "lst2 = {'IV':4,'IX':9,'XL':40,'XC':90,'CD':400,'CM':900}\n",
    "lst1 = {'I':1,'V':5,'X':10,'L':50,'C':100,'D':500,'M':1000}\n",
    "check = [item for item in lst2]\n",
    "check2 = [item for item in lst1]\n",
    "empty=[]\n",
    "cnt = 0\n",
    "\n",
    "\n",
    "for j in range(len(lst2)):\n",
    "    for x in check:\n",
    "        if x in a :\n",
    "            empty.append(x)\n",
    "            m = list(a)\n",
    "            for i in empty:\n",
    "                v = a.find(i)\n",
    "                del m[v:v+2]\n",
    "                a=''.join(m)\n",
    "                del empty[0]\n",
    "                cnt+=lst2.get(i)\n",
    "        indx = check.index(x)\n",
    "\n",
    "\n",
    "\n",
    "for j in range(len(lst1)):\n",
    "    for x in check2:\n",
    "        if x in a :\n",
    "            empty.append(x)\n",
    "            m = list(a)\n",
    "            for i in empty:\n",
    "                v = a.find(i)\n",
    "                del m[v]\n",
    "                a=''.join(m)\n",
    "                del empty[0]\n",
    "                cnt+=lst1.get(i)\n",
    "     \n",
    "\n",
    "        \n",
    "        \n",
    "            \n",
    "print(cnt)"
   ]
  },
  {
   "cell_type": "code",
   "execution_count": 27,
   "metadata": {},
   "outputs": [
    {
     "data": {
      "text/plain": [
       "3"
      ]
     },
     "execution_count": 27,
     "metadata": {},
     "output_type": "execute_result"
    }
   ],
   "source": [
    "def romanToInt(s):\n",
    "        map = {\"I\":1,\"V\":5,\"X\":10,\"L\":50,\"C\":100,\"D\":500,\"M\":1000}\n",
    "        ans = 0\n",
    "        for i in range(len(s)):\n",
    "            if i == len(s)-1:\n",
    "                ans += map[s[i]]\n",
    "            elif map[s[i+1]] > map[s[i]]:\n",
    "                \n",
    "                ans -= map[s[i]]\n",
    "            else:\n",
    "                ans += map[s[i]]\n",
    "        return ans\n",
    "romanToInt('III')"
   ]
  },
  {
   "cell_type": "code",
   "execution_count": null,
   "metadata": {},
   "outputs": [],
   "source": [
    "zip\n",
    "map\n",
    "dictionary\n"
   ]
  },
  {
   "cell_type": "code",
   "execution_count": 95,
   "metadata": {},
   "outputs": [
    {
     "name": "stdout",
     "output_type": "stream",
     "text": [
      "c\n",
      "fl\n",
      "\n",
      "aa\n"
     ]
    }
   ],
   "source": [
    "def longestCommonPrefix(strs):\n",
    "    empty =[]\n",
    "    res =[]\n",
    "    for a in strs:\n",
    "        for b in a:\n",
    "            if all(b in i for i in strs):\n",
    "                empty.append(b)\n",
    "                ty=''.join(empty)\n",
    "                #print(ty)\n",
    "                if all(ty in x for x in strs) and all(y.index(ty) == 0 for y in strs)and ty not in res:\n",
    "                    res=[]\n",
    "                    res.append(ty)\n",
    "    res=''.join(res)\n",
    "    return res\n",
    "print(longestCommonPrefix([\"cir\",\"car\"]))\n",
    "print(longestCommonPrefix([\"flower\",\"flow\",\"flight\"]))\n",
    "print(longestCommonPrefix([\"reflower\",\"flow\",\"flight\"]))\n",
    "print(longestCommonPrefix([\"aa\",\"aa\"]))"
   ]
  },
  {
   "cell_type": "code",
   "execution_count": 103,
   "metadata": {},
   "outputs": [
    {
     "name": "stdout",
     "output_type": "stream",
     "text": [
      "c\n",
      "fl\n",
      "\n",
      "aa\n"
     ]
    }
   ],
   "source": [
    "def longestCommonPrefix(strs):\n",
    "    word = \"\"\n",
    "    for i in range(len(strs[0])):\n",
    "        for s in strs:\n",
    "            if(i==len(s) or s[i]!=strs[0][i]):\n",
    "                return word\n",
    "        word+=strs[0][i]\n",
    "    return word\n",
    "print(longestCommonPrefix([\"cir\",\"car\"]))\n",
    "print(longestCommonPrefix([\"flower\",\"flow\",\"flight\"]))\n",
    "print(longestCommonPrefix([\"reflower\",\"flow\",\"flight\"]))\n",
    "print(longestCommonPrefix([\"aa\",\"aa\"]))"
   ]
  },
  {
   "cell_type": "code",
   "execution_count": 112,
   "metadata": {},
   "outputs": [
    {
     "name": "stdout",
     "output_type": "stream",
     "text": [
      "True\n",
      "True\n",
      "False\n",
      "False\n"
     ]
    }
   ],
   "source": [
    "def isValid(s):\n",
    "    a = \"()\" \n",
    "    b = '{}'\n",
    "    c = '[]'\n",
    "    d = [a,b,c]\n",
    "    \n",
    "    for i in range(len(s)):\n",
    "        if i%2 == 0 and ''.join(s[i:i+2]) not in d:\n",
    "            return False\n",
    "        elif i%2!= 0 and ''.join(s[i:i+2]) in d:\n",
    "            return True\n",
    "        else:\n",
    "            return True\n",
    "            \n",
    "\n",
    "print(isValid(\"()\"))\n",
    "print(isValid(\"()[]{}\"))\n",
    "print(isValid(\"(]\"))\n",
    "print(isValid(\"{[]}\"))"
   ]
  },
  {
   "cell_type": "code",
   "execution_count": 244,
   "metadata": {},
   "outputs": [
    {
     "data": {
      "text/plain": [
       "[1, 1, 2, 3, 4, 4]"
      ]
     },
     "execution_count": 244,
     "metadata": {},
     "output_type": "execute_result"
    }
   ],
   "source": [
    "def mergeTwoLists(list1, list2):\n",
    "    for i in list2:\n",
    "        if i != '':\n",
    "            list1.append(i)\n",
    "    return sorted(list1)\n",
    "mergeTwoLists([1,2,4],[1,3,4])"
   ]
  },
  {
   "cell_type": "code",
   "execution_count": 251,
   "metadata": {},
   "outputs": [
    {
     "name": "stdout",
     "output_type": "stream",
     "text": [
      "['1', '2', '4']\n",
      "['4', '3', '2', '2']\n",
      "['1', '0']\n"
     ]
    }
   ],
   "source": [
    "def plusOne(digits):\n",
    "    digits=[str(i) for i in digits]\n",
    "    digits=str(int(''.join(digits))+1)\n",
    "    digits=[i for i in digits]\n",
    "    return digits\n",
    "print(plusOne([1,2,3]))\n",
    "print(plusOne([4,3,2,1]))\n",
    "print(plusOne([9]))\n"
   ]
  },
  {
   "cell_type": "code",
   "execution_count": 278,
   "metadata": {},
   "outputs": [
    {
     "name": "stdout",
     "output_type": "stream",
     "text": [
      "True\n",
      "False\n",
      "True\n"
     ]
    }
   ],
   "source": [
    "def containsDuplicate(nums):\n",
    "    if len(nums)!= len(set(nums)):\n",
    "        return True\n",
    "    return False\n",
    "print(containsDuplicate([5,1,2,3,1]))\n",
    "print(containsDuplicate([1,2,3,4]))\n",
    "print(containsDuplicate([5,9,1,1,1,3,3,4,3,2,4,2]))"
   ]
  },
  {
   "cell_type": "code",
   "execution_count": 295,
   "metadata": {},
   "outputs": [
    {
     "name": "stdout",
     "output_type": "stream",
     "text": [
      "2\n"
     ]
    }
   ],
   "source": [
    "nums=[2,1]\n",
    "nums.sort(reverse=True)\n",
    "nums=set(nums)\n",
    "if len(nums) > 2:\n",
    "    print(nums[2])\n",
    "else:\n",
    "    print(max(nums))#"
   ]
  },
  {
   "cell_type": "code",
   "execution_count": 403,
   "metadata": {},
   "outputs": [
    {
     "data": {
      "text/plain": [
       "['adsdf', 'sfd']"
      ]
     },
     "execution_count": 403,
     "metadata": {},
     "output_type": "execute_result"
    }
   ],
   "source": [
    "def findWords(words):\n",
    "    row1 = ['q','w','e','r','t','y','u','i','o','p']\n",
    "    row2 = ['a','s','d','f','g','h','j','k','l']\n",
    "    row3 = ['z','x','c','v','b','n','m']\n",
    "    words2 = [] \n",
    "    words3 = []\n",
    "\n",
    "    for x in words:\n",
    "        for i in range(len(x)):\n",
    "            if x[i].lower() in row1:\n",
    "                x=x.replace(x[i],'1')\n",
    "            if x[i].lower() in row2:\n",
    "                x=x.replace(x[i],'2')\n",
    "            if x[i].lower() in row3:\n",
    "                x=x.replace(x[i],'3')\n",
    "                print(x,x[i])\n",
    "        words2.append(x)\n",
    "\n",
    "    words2 = [set(i) for i in words2]\n",
    "\n",
    "    for i in range(len(words)):\n",
    "        if len(words2[i]) == 1:\n",
    "            words3.append(words[i])\n",
    "    \n",
    "    return words3\n",
    "\n",
    "findWords([\"adsdf\",\"sfd\"])"
   ]
  },
  {
   "cell_type": "code",
   "execution_count": 423,
   "metadata": {},
   "outputs": [
    {
     "name": "stdout",
     "output_type": "stream",
     "text": [
      "5\n",
      "[3, 2, 1] holder\n",
      "3 third rank\n",
      "['Gold Medal', 'Silver Medal', 'Bronze Medal', 2, 1]\n",
      "10\n",
      "[3, 8, 4] holder\n",
      "8 third rank\n",
      "['Gold Medal', 3, 'Bronze Medal', 'Silver Medal', 4]\n"
     ]
    }
   ],
   "source": [
    "def findRelativeRanks(score):\n",
    "    holder = []\n",
    "    score = list(score)\n",
    "    st= score.index(max(score))\n",
    "    print(score[st])\n",
    "    score[st] = 'Gold Medal'\n",
    "\n",
    "    ndList = score[:st]+score[st+1:]\n",
    "    nd = max(ndList)\n",
    "    if nd in score:\n",
    "        score[score.index(nd)] = 'Silver Medal'\n",
    "    \n",
    "    for i in score:\n",
    "        if isinstance(i,int):\n",
    "            holder.append(i)\n",
    "    print(holder,'holder')\n",
    "    rd = max(holder)\n",
    "    print(rd,'third rank')\n",
    "    if rd in score:\n",
    "        score[score.index(rd)] = 'Bronze Medal'\n",
    "    #nd= score.index(max(score))\n",
    "    #score[nd] = “Silver Medal”\n",
    "\n",
    "    #rd= score.index(max(score))\n",
    "    #score[rd] = “Bronze Medal”\n",
    "\n",
    "    \n",
    "    return score\n",
    "print(findRelativeRanks([5,4,3,2,1]))\n",
    "print(findRelativeRanks([10,3,8,9,4]))\n",
    "#print(findRelativeRanks())\n",
    "#print(findRelativeRanks())\n"
   ]
  },
  {
   "cell_type": "code",
   "execution_count": 473,
   "metadata": {},
   "outputs": [
    {
     "name": "stdout",
     "output_type": "stream",
     "text": [
      "['Gold Medal', '5', 'Bronze Medal', 'Silver Medal', '4']\n"
     ]
    }
   ],
   "source": [
    "#def findRelativeRanks(score):\n",
    "score = [10,3,8,9,4]\n",
    "rank = [str(sorted(score, reverse=True).index(x)+1) for x in score ]\n",
    "for i in rank:\n",
    "    if i == '1':\n",
    "        rank[rank.index(i)] = 'Gold Medal'\n",
    "    if i == '2':\n",
    "        rank[rank.index(i)] = 'Silver Medal'\n",
    "    if i == '3':\n",
    "        rank[rank.index(i)] = 'Bronze Medal'\n",
    "        \n",
    "\n",
    "print(rank)"
   ]
  },
  {
   "cell_type": "code",
   "execution_count": 486,
   "metadata": {},
   "outputs": [
    {
     "name": "stdout",
     "output_type": "stream",
     "text": [
      "['Gold Medal', '5', 'Bronze Medal', 'Silver Medal', '4']\n"
     ]
    }
   ],
   "source": [
    "score = [10,3,8,9,4]\n",
    "rank = []\n",
    "for i in score:\n",
    "    x=str(sorted(score,reverse=True).index(i)+1)\n",
    "    if x == '1':\n",
    "        x='Gold Medal'\n",
    "    elif x=='2':\n",
    "        x='Silver Medal'\n",
    "    elif x=='3':\n",
    "        x='Bronze Medal'\n",
    "    rank.append(x)\n",
    "print(rank)"
   ]
  },
  {
   "cell_type": "code",
   "execution_count": 32,
   "metadata": {},
   "outputs": [
    {
     "data": {
      "text/plain": [
       "[[1, 2, 3], [1, 3, 2], [2, 1, 3], [2, 3, 1], [3, 1, 2], [3, 2, 1]]"
      ]
     },
     "execution_count": 32,
     "metadata": {},
     "output_type": "execute_result"
    }
   ],
   "source": [
    "def permute(nums):\n",
    "    if len(nums) == 0:\n",
    "        return []\n",
    "    if len(nums) == 1:\n",
    "        return [nums]\n",
    "    holder = []\n",
    "    for i in range(len(nums)):\n",
    "        x = nums[i]\n",
    "        remList = nums[:i] + nums[i+1:]\n",
    "\n",
    "        for j in permute(remList):\n",
    "            holder.append([x]+j)\n",
    "            \n",
    "\n",
    "    return holder\n",
    "            \n",
    "        \n",
    "permute([1,2,3])"
   ]
  },
  {
   "cell_type": "code",
   "execution_count": 97,
   "metadata": {},
   "outputs": [
    {
     "data": {
      "text/plain": [
       "[[1, 2, 3], [1, 3, 2], [2, 1, 3], [2, 3, 1], [3, 1, 2], [3, 2, 1]]"
      ]
     },
     "execution_count": 97,
     "metadata": {},
     "output_type": "execute_result"
    }
   ],
   "source": [
    "def ranDom(nums):\n",
    "\n",
    "    if len(nums)==0:\n",
    "        return []\n",
    "    if len(nums)==1:\n",
    "        return [nums]\n",
    "    \n",
    "\n",
    "\n",
    "    holder = []\n",
    "    for i in range(len(nums)):\n",
    "        x = nums[i]\n",
    "        remaining = nums[:i]+nums[i+1:]\n",
    "        \n",
    "        for j in ranDom(remaining):\n",
    "            holder.append([x]+j)\n",
    "    return holder\n",
    "ranDom([1,2,3])"
   ]
  },
  {
   "cell_type": "code",
   "execution_count": null,
   "metadata": {},
   "outputs": [],
   "source": [
    "def majorityElement(nums):\n",
    "    for i in nums:\n",
    "        if i \n",
    "majorityElement([2,2,1,1,1,2,2])"
   ]
  },
  {
   "cell_type": "code",
   "execution_count": 50,
   "metadata": {},
   "outputs": [
    {
     "name": "stdout",
     "output_type": "stream",
     "text": [
      "num: 3 count: 2\n",
      "num: 4 count: 1\n",
      "3\n"
     ]
    }
   ],
   "source": [
    "nums = [3,3,4]\n",
    "#nums = [str(i) for i in nums]\n",
    "holder = set(nums)\n",
    "higherCount = 0\n",
    "ans = 0\n",
    "for i in holder:\n",
    "    x=nums.count(i)\n",
    "    print('num:',i,'count:',x)\n",
    "    if x>higherCount:\n",
    "        higherCount=x\n",
    "        ans = i\n",
    "\n",
    "print(ans)"
   ]
  },
  {
   "cell_type": "code",
   "execution_count": 86,
   "metadata": {},
   "outputs": [
    {
     "name": "stdout",
     "output_type": "stream",
     "text": [
      "amanaplanacanalpanama\n"
     ]
    },
    {
     "data": {
      "text/plain": [
       "True"
      ]
     },
     "execution_count": 86,
     "metadata": {},
     "output_type": "execute_result"
    }
   ],
   "source": [
    "def isPalindrome():\n",
    "    s=\"A man, a plan, a canal: Panama\"\n",
    "    s = (''.join(filter(str.isalnum, s))).lower()\n",
    "   \n",
    "    \n",
    "    if s == s[::-1]:\n",
    "        return True\n",
    "    else:\n",
    "        return False\n",
    "\n",
    "isPalindrome()"
   ]
  },
  {
   "cell_type": "code",
   "execution_count": null,
   "metadata": {},
   "outputs": [],
   "source": [
    "def isHappy(n):\n",
    "    "
   ]
  },
  {
   "cell_type": "code",
   "execution_count": 110,
   "metadata": {},
   "outputs": [
    {
     "name": "stdout",
     "output_type": "stream",
     "text": [
      "[4, 16, 37, 58, 89, 145, 42, 20]\n",
      "False\n"
     ]
    }
   ],
   "source": [
    "dejavu = []\n",
    "def isHappy(n):\n",
    "    global dejavu\n",
    "    x=[int(i) for i in str(n)]\n",
    "\n",
    "    toTal = sum([x[i]**2 for i in range(len(x))])\n",
    "    #print(toTal)\n",
    "    if toTal in dejavu:\n",
    "        print(dejavu)\n",
    "        print(False)\n",
    "        return\n",
    "    if toTal == 1:\n",
    "        print(True)\n",
    "    else:\n",
    "        dejavu.append(toTal)\n",
    "        isHappy(toTal)\n",
    "isHappy(2)"
   ]
  },
  {
   "cell_type": "code",
   "execution_count": 149,
   "metadata": {},
   "outputs": [
    {
     "data": {
      "text/plain": [
       "False"
      ]
     },
     "execution_count": 149,
     "metadata": {},
     "output_type": "execute_result"
    }
   ],
   "source": [
    "class Solution:\n",
    "    def __init__(self):\n",
    "        self.dejavu = []\n",
    "    def isHappy(self, n: int) -> bool:\n",
    "        \n",
    "        x=[int(i) for i in str(n)]\n",
    "        toTal = sum([x[i]**2 for i in range(len(x))])\n",
    "\n",
    "        if toTal in self.dejavu:\n",
    "            return False\n",
    "        \n",
    "        if toTal == 1:\n",
    "            return True\n",
    "        \n",
    "        else:\n",
    "            self.dejavu.append(toTal)\n",
    "            return self.isHappy(toTal)\n",
    "st = Solution()\n",
    "st.isHappy(30)"
   ]
  },
  {
   "cell_type": "code",
   "execution_count": 150,
   "metadata": {},
   "outputs": [
    {
     "data": {
      "text/plain": [
       "False"
      ]
     },
     "execution_count": 150,
     "metadata": {},
     "output_type": "execute_result"
    }
   ],
   "source": [
    "class Solution:\n",
    "    def __init__(self):\n",
    "        self.seen = []\n",
    "    \n",
    "    def isHappy(self, n: int) -> bool:\n",
    "        \n",
    "        if n in self.seen: return False \n",
    "        self.seen.append(n) \n",
    "    \n",
    "        if n == 1 : \n",
    "            return True \n",
    "        else: \n",
    "            tmp = 0 \n",
    "            while n: \n",
    "                tmp += (n % 10)**2\n",
    "                n = n//10\n",
    "            return self.isHappy(tmp)\n",
    "st = Solution()\n",
    "st.isHappy(30)"
   ]
  },
  {
   "cell_type": "code",
   "execution_count": 160,
   "metadata": {},
   "outputs": [
    {
     "name": "stdout",
     "output_type": "stream",
     "text": [
      "2\n",
      "2\n",
      "8\n",
      "0\n"
     ]
    }
   ],
   "source": [
    "def missingNumber(nums):\n",
    "    #s = len(nums)\n",
    "    #holder = list(range(s+1))\n",
    "    for i in range(len(nums)+1):\n",
    "        if i not in nums:\n",
    "            return i\n",
    "    \n",
    "print(missingNumber([3,0,1]))\n",
    "print(missingNumber([0,1]))\n",
    "print(missingNumber([9,6,4,2,3,5,7,0,1]))\n",
    "print(missingNumber([1]))"
   ]
  },
  {
   "cell_type": "code",
   "execution_count": 164,
   "metadata": {},
   "outputs": [
    {
     "data": {
      "text/plain": [
       "-1"
      ]
     },
     "execution_count": 164,
     "metadata": {},
     "output_type": "execute_result"
    }
   ],
   "source": [
    "def strStr(haystack,needle):\n",
    "    if not needle:\n",
    "        return 0\n",
    "    s=haystack.find('p')\n",
    "    return s\n",
    "strStr('hello','ll')"
   ]
  },
  {
   "cell_type": "code",
   "execution_count": 353,
   "metadata": {},
   "outputs": [
    {
     "data": {
      "text/plain": [
       "\"s'teL ekat edoCteeL tsetnoc\""
      ]
     },
     "execution_count": 353,
     "metadata": {},
     "output_type": "execute_result"
    }
   ],
   "source": [
    "def reverseWords(s):\n",
    "    return ' '.join([i[::-1] for i in s.split(' ') ])\n",
    "reverseWords(\"Let's take LeetCode contest\")"
   ]
  },
  {
   "cell_type": "code",
   "execution_count": 197,
   "metadata": {},
   "outputs": [
    {
     "name": "stdout",
     "output_type": "stream",
     "text": [
      "doG gniD \n"
     ]
    }
   ],
   "source": [
    "s = \"God Ding\"\n",
    "#s = \"Let's take LeetCode contest\"\n",
    "x=''\n",
    "for i in s.split(' '):\n",
    "    i=i[::-1]\n",
    "    x+= (i+' ')\n",
    "print(x)"
   ]
  },
  {
   "cell_type": "code",
   "execution_count": 203,
   "metadata": {},
   "outputs": [
    {
     "name": "stdout",
     "output_type": "stream",
     "text": [
      "doG gniD\n"
     ]
    }
   ],
   "source": [
    "s = \"God Ding\"\n",
    "w = ' '.join([i[::-1] for i in s.split(' ') ])\n",
    "print(w)"
   ]
  },
  {
   "cell_type": "code",
   "execution_count": 260,
   "metadata": {},
   "outputs": [
    {
     "name": "stdout",
     "output_type": "stream",
     "text": [
      "5\n",
      "0\n",
      "2\n",
      "3\n",
      "0\n",
      "1\n",
      "4\n"
     ]
    }
   ],
   "source": [
    "def findComplement(num):\n",
    "\n",
    "    x=format(num,'b')\n",
    "    res = ''.join(['1' if x[i]=='0' else '0' for i in range(len(x)) ])\n",
    "    res = int(res,2)\n",
    "    return res\n",
    "print(findComplement(10))\n",
    "print(findComplement(127))\n",
    "print(findComplement(5))\n",
    "print(findComplement(12))\n",
    "print(findComplement(1))\n",
    "print(findComplement(0))\n",
    "print(findComplement(27))"
   ]
  },
  {
   "cell_type": "code",
   "execution_count": 305,
   "metadata": {},
   "outputs": [
    {
     "name": "stdout",
     "output_type": "stream",
     "text": [
      "e\n",
      "a\n",
      "None\n"
     ]
    }
   ],
   "source": [
    "def findTheDifference(s,t):\n",
    "    t = list(t)\n",
    "    s= list(s)\n",
    "    for i in s:\n",
    "        if i in t:\n",
    "            del t[t.index(i)]\n",
    "    if t==[]:\n",
    "        return None\n",
    "    return ''.join(t)\n",
    "    \n",
    "print(findTheDifference('abcd','abcde'))\n",
    "print(findTheDifference('a','aa'))\n",
    "print(findTheDifference('',''))"
   ]
  },
  {
   "cell_type": "code",
   "execution_count": 319,
   "metadata": {},
   "outputs": [
    {
     "name": "stdout",
     "output_type": "stream",
     "text": [
      "[1, 3, 12, 0, 0]\n",
      "[0]\n"
     ]
    }
   ],
   "source": [
    "def moveZeroes(nums):\n",
    "    x= nums.count(0)\n",
    "    nums = list(filter(lambda n: n!=0, nums))\n",
    "    for i in range(x):\n",
    "        nums.append(0)\n",
    "    return nums\n",
    "\n",
    "print(moveZeroes([0,1,0,3,12]))\n",
    "print(moveZeroes([0]))"
   ]
  },
  {
   "cell_type": "code",
   "execution_count": 331,
   "metadata": {},
   "outputs": [
    {
     "name": "stdout",
     "output_type": "stream",
     "text": [
      "[4, 4, 1, 3, 12]\n",
      "[0]\n"
     ]
    }
   ],
   "source": [
    "def moveZeroes(nums):\n",
    "    for i in nums:\n",
    "        if i == 0:\n",
    "            nums.remove(i)\n",
    "            nums.insert(i,len(nums))\n",
    "    return nums\n",
    "print(moveZeroes([0,1,0,3,12]))\n",
    "print(moveZeroes([0]))"
   ]
  },
  {
   "cell_type": "code",
   "execution_count": 351,
   "metadata": {},
   "outputs": [
    {
     "data": {
      "text/plain": [
       "1"
      ]
     },
     "execution_count": 351,
     "metadata": {},
     "output_type": "execute_result"
    }
   ],
   "source": [
    "def addDigits(num):\n",
    "    res = sum([int(i) for i in list(str(num))])\n",
    "    if res >9:\n",
    "        return addDigits(res)\n",
    "    return res\n",
    "addDigits(15987098745256287942675982467589269784536256784635872954276543269578687723946589234658723496589235684795298465692835200276599256734657823)"
   ]
  },
  {
   "cell_type": "code",
   "execution_count": 401,
   "metadata": {},
   "outputs": [],
   "source": [
    "def reverseBits(n):\n",
    "    x = int( '{:032b}'.format(n)[::-1],2)\n",
    "    return x"
   ]
  },
  {
   "cell_type": "code",
   "execution_count": 447,
   "metadata": {},
   "outputs": [
    {
     "name": "stdout",
     "output_type": "stream",
     "text": [
      "Fibonacci Sequence: \n"
     ]
    },
    {
     "data": {
      "text/plain": [
       "43566776258854844738105"
      ]
     },
     "execution_count": 447,
     "metadata": {},
     "output_type": "execute_result"
    }
   ],
   "source": [
    "def fib(p):\n",
    "    a,b,x = 1,1,0\n",
    "    n = 0\n",
    "    if p == 0:\n",
    "        return 0\n",
    "    while True:\n",
    "        a = x \n",
    "        x += b\n",
    "        b = a\n",
    "        n+= 1\n",
    "        if n >= p:\n",
    "            return x\n",
    "fib(110)"
   ]
  },
  {
   "cell_type": "code",
   "execution_count": 454,
   "metadata": {},
   "outputs": [],
   "source": [
    "def hammingWeight(n):\n",
    "    x= '{:032b}'.format(n)\n",
    "    return str(x).count('1')\n"
   ]
  },
  {
   "cell_type": "code",
   "execution_count": 460,
   "metadata": {},
   "outputs": [
    {
     "name": "stdout",
     "output_type": "stream",
     "text": [
      "True\n",
      "False\n",
      "False\n",
      "False\n",
      "False\n"
     ]
    }
   ],
   "source": [
    "def canConstruct(ransomNote,magazine):\n",
    "    if ransomNote in magazine:\n",
    "        return True\n",
    "    return False\n",
    "print(canConstruct('aa','aab'))\n",
    "print(canConstruct('a','b'))\n",
    "print(canConstruct('aa','ab'))\n",
    "print(canConstruct('aa','babab'))\n",
    "print(canConstruct('axe','exa'))"
   ]
  },
  {
   "cell_type": "code",
   "execution_count": 488,
   "metadata": {},
   "outputs": [
    {
     "name": "stdout",
     "output_type": "stream",
     "text": [
      "True\n",
      "False\n",
      "False\n",
      "True\n",
      "True\n",
      "-----------------------------\n",
      "True\n",
      "False\n",
      "True\n",
      "False\n",
      "True\n"
     ]
    }
   ],
   "source": [
    "def canConstruct(ransomNote,magazine):\n",
    "    ransomNote = list(ransomNote)\n",
    "    magazine = list(magazine)\n",
    "    for i in ransomNote:\n",
    "        if i in magazine:\n",
    "            ransomNote[ransomNote.index(i)] = ''\n",
    "            magazine.remove(i)\n",
    "    x=''.join(ransomNote)\n",
    "    if x == '':\n",
    "        return True\n",
    "    return False\n",
    "print(canConstruct('aa','aab'))\n",
    "print(canConstruct('a','b'))\n",
    "print(canConstruct('aa','ab'))\n",
    "print(canConstruct('aa','babab'))\n",
    "print(canConstruct('',''))\n",
    "print('-----------------------------')\n",
    "print(canConstruct('a;',';a'))\n",
    "print(canConstruct('QSas','qsas'))\n",
    "print(canConstruct('1w','w1'))\n",
    "print(canConstruct('bollock','bllck'))\n",
    "print(canConstruct('a','exa'))"
   ]
  },
  {
   "cell_type": "code",
   "execution_count": 517,
   "metadata": {},
   "outputs": [
    {
     "name": "stdout",
     "output_type": "stream",
     "text": [
      "[0, 1, 1]\n",
      "[0, 1, 1, 2, 1, 2]\n",
      "[0]\n",
      "[0, 1]\n"
     ]
    }
   ],
   "source": [
    "def countBits(n):\n",
    "    return [(format(i,'b')).count('1') for i in range(n+1)] \n",
    "print(countBits(2))\n",
    "print(countBits(5))\n",
    "print(countBits(0))\n",
    "print(countBits(1))\n"
   ]
  },
  {
   "cell_type": "code",
   "execution_count": null,
   "metadata": {},
   "outputs": [],
   "source": [
    "def moveZeroes(nums):\n",
    "    x= nums.count(0)\n",
    "    nums = list(filter(lambda n: n!=0, nums))\n",
    "    for i in range(x):\n",
    "        nums.append(0)\n",
    "    return nums\n",
    "\n",
    "print(moveZeroes([0,1,0,3,12]))\n",
    "print(moveZeroes([0]))"
   ]
  },
  {
   "cell_type": "code",
   "execution_count": 29,
   "metadata": {},
   "outputs": [
    {
     "name": "stdout",
     "output_type": "stream",
     "text": [
      "['o', 'l', 'l', 'e', 'h']\n",
      "['h', 'a', 'n', 'n', 'a', 'H']\n"
     ]
    }
   ],
   "source": [
    "\n",
    "def reverseString(s):\n",
    "    \"\"\"\n",
    "    Do not return anything, modify s in-place instead.\n",
    "    \"\"\"\n",
    "    for i in range(len(s))[::-1]:\n",
    "        v = s.pop(i)\n",
    "        s.append(v)\n",
    "    return s #Do Not Return in the actual coding challenge\n",
    "print(reverseString([\"h\",\"e\",\"l\",\"l\",\"o\"]))\n",
    "print(reverseString([\"H\",\"a\",\"n\",\"n\",\"a\",\"h\"]))"
   ]
  },
  {
   "cell_type": "code",
   "execution_count": 33,
   "metadata": {},
   "outputs": [
    {
     "name": "stdout",
     "output_type": "stream",
     "text": [
      "[['o', 'l', 'l', 'e', 'h']]\n",
      "[['h', 'a', 'n', 'n', 'a', 'H']]\n"
     ]
    }
   ],
   "source": [
    "# Python One Liner but double bracketed\n",
    "def reverseString(s):\n",
    "    s.append([s.pop(i) for i in range(len(s))[::-1]])\n",
    "    return s\n",
    "print(reverseString([\"h\",\"e\",\"l\",\"l\",\"o\"]))\n",
    "print(reverseString([\"H\",\"a\",\"n\",\"n\",\"a\",\"h\"]))"
   ]
  },
  {
   "cell_type": "code",
   "execution_count": 30,
   "metadata": {},
   "outputs": [
    {
     "name": "stdout",
     "output_type": "stream",
     "text": [
      "['o', 'l', 'l', 'e', 'h']\n",
      "['h', 'a', 'n', 'n', 'a', 'H']\n"
     ]
    }
   ],
   "source": [
    "# A much more interesting way found on geek for geeks\n",
    "def reverseString(s):\n",
    "    for i in range(0, int(len(s)/2)):\n",
    "        s[i], s[len(s) - i -1] = s[len(s) -i -1], s[i]\n",
    "    return s\n",
    "print(reverseString([\"h\",\"e\",\"l\",\"l\",\"o\"]))\n",
    "print(reverseString([\"H\",\"a\",\"n\",\"n\",\"a\",\"h\"]))"
   ]
  },
  {
   "cell_type": "code",
   "execution_count": null,
   "metadata": {},
   "outputs": [],
   "source": []
  },
  {
   "cell_type": "code",
   "execution_count": 49,
   "metadata": {},
   "outputs": [
    {
     "name": "stdout",
     "output_type": "stream",
     "text": [
      "['a', 'b', 'b', 'a']\n",
      "['dog', 'fish', 'dog', 'fish']\n",
      "{'dog', 'fish'} This is the set\n"
     ]
    },
    {
     "data": {
      "text/plain": [
       "{'a': 'fish', 'b': 'dog'}"
      ]
     },
     "execution_count": 49,
     "metadata": {},
     "output_type": "execute_result"
    }
   ],
   "source": [
    "def wordPattern():\n",
    "    pattern = \"abba\"\n",
    "    pattern = list(pattern)\n",
    "    print(pattern)\n",
    "    s = \"dog fish dog fish\"\n",
    "    s = s.split()\n",
    "    print(s)\n",
    "    x = set(s)\n",
    "    print(x,'This is the set')\n",
    "    \n",
    "    x = dict(zip(pattern,s))\n",
    "    return x\n",
    "wordPattern()"
   ]
  },
  {
   "cell_type": "code",
   "execution_count": 97,
   "metadata": {},
   "outputs": [
    {
     "name": "stdout",
     "output_type": "stream",
     "text": [
      "['cat', 'dog', 'aba']\n",
      "[0, 1, 1, 0]\n",
      "[1, 0, 1, 0, 1, 2]\n",
      "False\n"
     ]
    }
   ],
   "source": [
    "#def wordPattern():\n",
    "pattern = \"abba\"\n",
    "s = \"dog cat dog cat dog aba\"\n",
    "\n",
    "x = list(pattern)\n",
    "y = s.split()\n",
    "\n",
    "setS = list(set(y))\n",
    "print(setS)\n",
    "setOfPattern = list(set(x))\n",
    "\n",
    "for i in range(len(setOfPattern)):\n",
    "    for j in x:\n",
    "        if j == setOfPattern[i]:\n",
    "            x[x.index(j)] = i\n",
    "for i in range(len(setS)):\n",
    "    for j in y:\n",
    "        if j == setS[i]:\n",
    "            y[y.index(j)] = i\n",
    "print(x)\n",
    "print(y)\n",
    "if x == y:\n",
    "    print(True)\n",
    "else:\n",
    "    print(False)\n",
    "#    if setOfPattern[i] in x:\n",
    "#        x[x.index(setOfPattern[i])] = i\n",
    "#    print(x)"
   ]
  },
  {
   "cell_type": "code",
   "execution_count": 234,
   "metadata": {},
   "outputs": [
    {
     "name": "stdout",
     "output_type": "stream",
     "text": [
      "True\n",
      "False\n",
      "False\n",
      "False\n",
      "True\n",
      "False\n",
      "False\n",
      "False\n"
     ]
    }
   ],
   "source": [
    "def wordPattern(pattern, s):\n",
    "    x = list(pattern)\n",
    "    y = s.split()\n",
    "\n",
    "    setOfPattern = []\n",
    "    [setOfPattern.append(i) for i in x if i not in setOfPattern]\n",
    "    setOfS = []\n",
    "    [setOfS.append(i) for i in y if i not in setOfS]\n",
    "\n",
    "    for i in setOfPattern:\n",
    "        for j in range(len(x)):\n",
    "            if x[j] == i:\n",
    "                x[j] = setOfPattern.index(i)\n",
    "    for i in setOfS:\n",
    "        for j in range(len(y)):\n",
    "            if y[j] == i:\n",
    "                y[j] = setOfS.index(i)\n",
    "\n",
    "    if x== y:\n",
    "        return True\n",
    "    else:\n",
    "        return False\n",
    "print(wordPattern('baba','cat dog cat dog'))\n",
    "print(wordPattern('lol','cat dog dog'))\n",
    "print(wordPattern('aaaa','cat car cat cat'))\n",
    "print(wordPattern('bbb','catcat cat'))\n",
    "print(wordPattern('1190','cat cat dog elf'))\n",
    "print(wordPattern('b a','golf racket'))\n",
    "print(wordPattern('b ','cat'))\n",
    "print(wordPattern('b ','cat cat'))"
   ]
  },
  {
   "cell_type": "code",
   "execution_count": 232,
   "metadata": {},
   "outputs": [
    {
     "name": "stdout",
     "output_type": "stream",
     "text": [
      "True\n",
      "False\n",
      "False\n",
      "False\n",
      "True\n",
      "False\n",
      "False\n",
      "False\n"
     ]
    }
   ],
   "source": [
    "def wordPattern(p,s):\n",
    "    words, w_to_p = s.split(' '), dict()\n",
    "\n",
    "    if len(p) != len(words): return False\n",
    "    if len(set(p)) != len(set(words)): return False # for the case w = ['dog', 'cat'] and p = 'aa'\n",
    "\n",
    "    for i in range(len(words)):\n",
    "        if words[i] not in w_to_p: \n",
    "            w_to_p[words[i]] = p[i]\n",
    "        elif w_to_p[words[i]] != p[i]: \n",
    "            return False\n",
    "\n",
    "    return True\n",
    "print(wordPattern('baba','cat dog cat dog'))\n",
    "print(wordPattern('lol','cat dog dog'))\n",
    "print(wordPattern('aaaa','cat car cat cat'))\n",
    "print(wordPattern('bbb','catcat cat'))\n",
    "print(wordPattern('1190','cat cat dog elf'))\n",
    "print(wordPattern('b a','golf racket'))\n",
    "print(wordPattern('b ','cat'))\n",
    "print(wordPattern('b ','cat cat'))\n"
   ]
  },
  {
   "cell_type": "code",
   "execution_count": null,
   "metadata": {},
   "outputs": [],
   "source": [
    "def longestPalindrome(s):\n",
    "    "
   ]
  },
  {
   "cell_type": "code",
   "execution_count": 261,
   "metadata": {},
   "outputs": [
    {
     "name": "stdout",
     "output_type": "stream",
     "text": [
      "[5, 6]\n",
      "[2]\n",
      "[]\n",
      "[4]\n",
      "[2, 3]\n"
     ]
    }
   ],
   "source": [
    "def findDisappearedNumbers(nums):\n",
    "    numSet = set(nums)\n",
    "    res = [i for i in list(range(1,len(nums)+1)) if i not in numSet]\n",
    "    return res\n",
    "print(findDisappearedNumbers([4,3,2,7,8,2,3,1]))\n",
    "print(findDisappearedNumbers([1,1]))\n",
    "print(findDisappearedNumbers([1]))\n",
    "print(findDisappearedNumbers([1,9,2,3,5,6,6,7,8]))\n",
    "print(findDisappearedNumbers([1,1,1]))"
   ]
  },
  {
   "cell_type": "code",
   "execution_count": 260,
   "metadata": {},
   "outputs": [
    {
     "name": "stdout",
     "output_type": "stream",
     "text": [
      "[5, 6]\n",
      "[2]\n",
      "[]\n",
      "[4]\n",
      "[2, 3]\n"
     ]
    }
   ],
   "source": [
    "def findDisappearedNumbers(nums):\n",
    "    return (list(set(list(range(1,len(nums)+1))) - set(nums)))\n",
    "print(findDisappearedNumbers([4,3,2,7,8,2,3,1]))\n",
    "print(findDisappearedNumbers([1,1]))\n",
    "print(findDisappearedNumbers([1]))\n",
    "print(findDisappearedNumbers([1,9,2,3,5,6,6,7,8]))\n",
    "print(findDisappearedNumbers([1,1,1]))"
   ]
  }
 ],
 "metadata": {
  "file_extension": ".py",
  "interpreter": {
   "hash": "31f2aee4e71d21fbe5cf8b01ff0e069b9275f58929596ceb00d14d90e3e16cd6"
  },
  "kernelspec": {
   "display_name": "Python 3 (ipykernel)",
   "language": "python",
   "name": "python3"
  },
  "language_info": {
   "codemirror_mode": {
    "name": "ipython",
    "version": 3
   },
   "file_extension": ".py",
   "mimetype": "text/x-python",
   "name": "python",
   "nbconvert_exporter": "python",
   "pygments_lexer": "ipython3",
   "version": "3.8.12"
  },
  "mimetype": "text/x-python",
  "name": "python",
  "npconvert_exporter": "python",
  "pygments_lexer": "ipython3",
  "version": 3
 },
 "nbformat": 4,
 "nbformat_minor": 2
}
