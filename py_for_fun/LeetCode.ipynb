{
 "cells": [
  {
   "cell_type": "code",
   "execution_count": 74,
   "metadata": {},
   "outputs": [
    {
     "ename": "TypeError",
     "evalue": "'bool' object is not callable",
     "output_type": "error",
     "traceback": [
      "\u001b[0;31m---------------------------------------------------------------------------\u001b[0m",
      "\u001b[0;31mTypeError\u001b[0m                                 Traceback (most recent call last)",
      "\u001b[0;32m/var/folders/bt/vhhrprgs10jf41b1hvrghgw00000gn/T/ipykernel_85723/1383996710.py\u001b[0m in \u001b[0;36m<module>\u001b[0;34m\u001b[0m\n\u001b[1;32m      8\u001b[0m \u001b[0;32mimport\u001b[0m \u001b[0mgoogleapiclient\u001b[0m\u001b[0;34m.\u001b[0m\u001b[0merrors\u001b[0m\u001b[0;34m\u001b[0m\u001b[0;34m\u001b[0m\u001b[0m\n\u001b[1;32m      9\u001b[0m \u001b[0;34m\u001b[0m\u001b[0m\n\u001b[0;32m---> 10\u001b[0;31m \u001b[0mraiseExceptions\u001b[0m\u001b[0;34m(\u001b[0m\u001b[0;34m)\u001b[0m\u001b[0;34m\u001b[0m\u001b[0;34m\u001b[0m\u001b[0m\n\u001b[0m\u001b[1;32m     11\u001b[0m \u001b[0;34m\u001b[0m\u001b[0m\n\u001b[1;32m     12\u001b[0m \u001b[0mf\u001b[0m \u001b[0;34m=\u001b[0m \u001b[0mopen\u001b[0m\u001b[0;34m(\u001b[0m\u001b[0;34m'credentials.json'\u001b[0m\u001b[0;34m)\u001b[0m\u001b[0;34m\u001b[0m\u001b[0;34m\u001b[0m\u001b[0m\n",
      "\u001b[0;31mTypeError\u001b[0m: 'bool' object is not callable"
     ]
    }
   ],
   "source": [
    "from logging import raiseExceptions\n",
    "import spotipy\n",
    "from spotipy.oauth2 import SpotifyClientCredentials\n",
    "import json\n",
    "import os, time\n",
    "import google_auth_oauthlib.flow\n",
    "import googleapiclient.discovery\n",
    "import googleapiclient.errors\n",
    "\n",
    "\n",
    "\n",
    "f = open('credentials.json')\n",
    "dt = json.load(f)\n",
    "scopes = [\"https://www.googleapis.com/auth/youtube.force-ssl\"]\n",
    "client_id = dt['client_id']\n",
    "client_secret = dt['client_secret']\n",
    "mySpotifyPlaylist = []\n",
    "# Disable OAuthlib's HTTPS verification when running locally.\n",
    "# *DO NOT* leave this option enabled in production.\n",
    "os.environ[\"OAUTHLIB_INSECURE_TRANSPORT\"] = \"1\"\n",
    "api_service_name = \"youtube\"\n",
    "api_version = \"v3\"\n",
    "client_secrets_file = \"ytcredentials.json\"\n",
    "flow = google_auth_oauthlib.flow.InstalledAppFlow.from_client_secrets_file(\n",
    "        client_secrets_file, scopes)\n",
    "credentials = flow.run_console()\n",
    "youtube = googleapiclient.discovery.build(\n",
    "        api_service_name, api_version, credentials=credentials)\n",
    "\n",
    "def createSongPlaylist():\n",
    "    sp = spotipy.Spotify(auth_manager=SpotifyClientCredentials(client_id=client_id,\n",
    "                                                            client_secret=client_secret))\n",
    "    results = sp.playlist_tracks(playlist_id='https://open.spotify.com/playlist/75jaHyVgpJXlciQ9y7hmsr?si=503c99c2e4d54cc2')\n",
    "    for i in range(len(results['items'])):\n",
    "        cx = results['items'][i]['track']['artists'][0]['name']+\" - \"+results['items'][i]['track']['name']\n",
    "        mySpotifyPlaylist.append(cx)\n",
    "    return mySpotifyPlaylist\n",
    "\n",
    "def createYtPlaylist(title):\n",
    "    request = youtube.playlists().insert(\n",
    "        part=\"contentDetails,id,localizations,snippet,status\",\n",
    "        body={\n",
    "          \"snippet\": {\n",
    "            \"title\": title,\n",
    "            \"description\": \"Music\",\n",
    "            \"defaultLanguage\": \"EN\"\n",
    "          },\n",
    "          \"status\": {\n",
    "            \"privacyStatus\": \"private\"\n",
    "          }\n",
    "        }\n",
    "    )\n",
    "    response = request.execute()\n",
    "    return response['id']\n",
    "def searchOnYT(item):\n",
    "    request = youtube.search().list(type='video',q=item,part='snippet', maxResults=10, order='relevance', regionCode=\"US\")\n",
    "    response = request.execute()\n",
    "    return response['items'][0]['id']['videoId']\n",
    "\n",
    "def addOnPlaylist(videoId, playlistId):\n",
    "\n",
    "    request = youtube.playlistItems().insert(\n",
    "        part=\"contentDetails,id,snippet,status\",\n",
    "        body={\n",
    "          \"snippet\": {\n",
    "            \"playlistId\": playlistId,\n",
    "            \"resourceId\": {\n",
    "              \"kind\" : \"youtube#video\",\n",
    "              \"videoId\": videoId\n",
    "            }\n",
    "          }\n",
    "        }\n",
    "    )\n",
    "    response = request.execute()\n",
    "    return None\n",
    "\n",
    "\n",
    "def main():\n",
    "    ytPlId = \"XXX\"\n",
    "    ytPltitle = \"Mr. Blue Sky\"\n",
    "    \n",
    "\n",
    "    pl = createSongPlaylist()\n",
    "    newYtPlaylist = createYtPlaylist(ytPltitle)\n",
    "    for i in pl:\n",
    "      x = searchOnYT(i)\n",
    "      addOnPlaylist(x,newYtPlaylist)\n",
    "      time.sleep(3)\n",
    "      print(i)\n",
    "\n",
    "if __name__ == \"__main__\":\n",
    "    main()\n",
    "print('------ DONE ------')\n"
   ]
  },
  {
   "cell_type": "code",
   "execution_count": 111,
   "metadata": {},
   "outputs": [
    {
     "name": "stdout",
     "output_type": "stream",
     "text": [
      "<class 'dict'>\n"
     ]
    }
   ],
   "source": [
    "from asyncore import write\n",
    "import json\n",
    "\n",
    "dt = {\n",
    "    \"president\": {\n",
    "        \"name\": \"Zaphod Beeblebrox\",\n",
    "\n",
    "        \"species\": \"Betelgeusian\"\n",
    "    }\n",
    "}\n",
    "\n",
    "with open('test.json','w') as writejs:\n",
    "    json.dump(dt, writejs) \n",
    "\n",
    "with open('test.json', 'r') as readjs:\n",
    "    rdt = json.load(readjs)\n",
    "print(type(rdt))"
   ]
  },
  {
   "cell_type": "code",
   "execution_count": 39,
   "metadata": {},
   "outputs": [],
   "source": [
    "import json, requests\n",
    "from urllib import response\n",
    "\n",
    "reponse = requests.get('https://jsonplaceholder.typicode.com/todos')\n",
    "todos = json.loads(reponse.text)\n",
    "\n",
    "#print(todos)"
   ]
  },
  {
   "cell_type": "code",
   "execution_count": 3,
   "metadata": {},
   "outputs": [
    {
     "data": {
      "text/plain": [
       "720"
      ]
     },
     "execution_count": 3,
     "metadata": {},
     "output_type": "execute_result"
    }
   ],
   "source": [
    "def factorial(number):\n",
    "     # Validate input\n",
    "     if not isinstance(number, int):\n",
    "         raise TypeError(\"Sorry. 'number' must be an integer.\")\n",
    "     if number < 0:\n",
    "         raise ValueError(\"Sorry. 'number' must be zero or positive.\")\n",
    "     # Calculate the factorial of number\n",
    "     def inner_factorial(number):\n",
    "         if number <= 1:\n",
    "             return 1\n",
    "         return number * inner_factorial(number - 1)\n",
    "     return inner_factorial(number)\n",
    "\n",
    "\n",
    "factorial(6)"
   ]
  },
  {
   "cell_type": "code",
   "execution_count": 16,
   "metadata": {},
   "outputs": [
    {
     "data": {
      "text/plain": [
       "(b'CONTINUE', 'received', 0)"
      ]
     },
     "execution_count": 16,
     "metadata": {},
     "output_type": "execute_result"
    }
   ],
   "source": [
    "#testing encapsulation\n",
    "import time\n",
    "def first():\n",
    "    data = bytes(b\"KANA6\")\n",
    "    sok = ''\n",
    "    def second(data,sok):\n",
    "        if data == bytes(b'KANA6'):\n",
    "            while data == bytes(b'KANA6'):\n",
    "                work =  21\n",
    "                time.sleep(0.02)\n",
    "                sok='received'\n",
    "                data = input(\"new data: \")\n",
    "                data = bytes(b''+data.encode('ascii'))\n",
    "                if data != bytes(b'KANA6'):\n",
    "                    break\n",
    "        return data,sok,work\n",
    "    \n",
    "    data,sok,work = second(data,sok)\n",
    "    \n",
    "    if data == bytes(b'CONTINUE'):\n",
    "        work = 0\n",
    "    return data,sok,work\n",
    "first()\n"
   ]
  },
  {
   "cell_type": "code",
   "execution_count": 11,
   "metadata": {},
   "outputs": [
    {
     "name": "stdout",
     "output_type": "stream",
     "text": [
      "'192.168.0.1'\n",
      "'sarah'\n",
      "'privatepassword'\n",
      "'192.168.20.2'\n",
      "'john'\n",
      "'password1'\n"
     ]
    }
   ],
   "source": [
    "f = open(r'test.txt' , 'r') #open file\n",
    "for x in f:\n",
    "    x=x.rstrip()\n",
    "    x = x.split(',')\n",
    "    ip,name, pwd = x\n",
    "    print(ip)\n",
    "    print(name)\n",
    "    print(pwd)\n",
    "\n"
   ]
  },
  {
   "cell_type": "code",
   "execution_count": 63,
   "metadata": {},
   "outputs": [
    {
     "data": {
      "text/plain": [
       "True"
      ]
     },
     "execution_count": 63,
     "metadata": {},
     "output_type": "execute_result"
    }
   ],
   "source": [
    "\n",
    "def isPalindrome(x):\n",
    "    y = str(x)\n",
    "    y = y[::-1]\n",
    "    if str(x) == y:\n",
    "        return True\n",
    "    else:\n",
    "        return False\n",
    "isPalindrome(121)"
   ]
  },
  {
   "cell_type": "code",
   "execution_count": 24,
   "metadata": {},
   "outputs": [
    {
     "name": "stdout",
     "output_type": "stream",
     "text": [
      "MC so far!\n",
      "1199\n"
     ]
    }
   ],
   "source": [
    "lst2 = {'IV':4,'IX':9,'XL':40,'XC':90,'CD':400,'CM':900}\n",
    "lst1 = {'I':1,'V':5,'X':10,'L':50,'C':100,'D':500,'M':1000} \n",
    "check = [item for item in lst2]\n",
    "check2 = [item for item in lst1]\n",
    "empty=[]\n",
    "cnt = 0\n",
    "\n",
    "\n",
    "for j in range(len(lst2)):\n",
    "    for x in check:\n",
    "        if x in a :\n",
    "            empty.append(x)\n",
    "            m = list(a)\n",
    "            for i in empty:\n",
    "                v = a.find(i)\n",
    "                del m[v:v+2]\n",
    "                a=''.join(m)\n",
    "                del empty[0]\n",
    "                cnt+=lst2.get(i)\n",
    "        indx = check.index(x)\n",
    "\n",
    "\n",
    "\n",
    "for j in range(len(lst1)):\n",
    "    for x in check2:\n",
    "        if x in a :\n",
    "            empty.append(x)\n",
    "            m = list(a)\n",
    "            for i in empty:\n",
    "                v = a.find(i)\n",
    "                del m[v]\n",
    "                a=''.join(m)\n",
    "                del empty[0]\n",
    "                cnt+=lst1.get(i)\n",
    "     \n",
    "\n",
    "        \n",
    "        \n",
    "            \n",
    "print(cnt)"
   ]
  },
  {
   "cell_type": "code",
   "execution_count": 1,
   "metadata": {},
   "outputs": [
    {
     "data": {
      "text/plain": [
       "8"
      ]
     },
     "execution_count": 1,
     "metadata": {},
     "output_type": "execute_result"
    }
   ],
   "source": [
    "def romanToInt(s):\n",
    "        map = {\"I\":1,\"V\":5,\"X\":10,\"L\":50,\"C\":100,\"D\":500,\"M\":1000}\n",
    "        ans = 0\n",
    "        for i in range(len(s)):\n",
    "            if i == len(s)-1:\n",
    "                ans += map[s[i]]\n",
    "            elif map[s[i+1]] > map[s[i]]:\n",
    "                \n",
    "                ans -= map[s[i]]\n",
    "            else:\n",
    "                ans += map[s[i]]\n",
    "        return ans\n",
    "romanToInt('VIII')"
   ]
  },
  {
   "cell_type": "code",
   "execution_count": 3,
   "metadata": {},
   "outputs": [
    {
     "data": {
      "text/plain": [
       "18"
      ]
     },
     "execution_count": 3,
     "metadata": {},
     "output_type": "execute_result"
    }
   ],
   "source": [
    "def romanToInt(s):\n",
    "        map = {\"I\":1,\"V\":5,\"X\":10,\"L\":50,\"C\":100,\"D\":500,\"M\":1000}\n",
    "        ans = 0\n",
    "        for i in range(len(s)):\n",
    "            if i == len(s)-1:\n",
    "                ans += map[s[i]]\n",
    "            elif map[s[i+1]] > map[s[i]]:\n",
    "                \n",
    "                ans -= map[s[i]]\n",
    "            else:\n",
    "                ans += map[s[i]]\n",
    "        return ans\n",
    "romanToInt('XVIII')"
   ]
  },
  {
   "cell_type": "code",
   "execution_count": 95,
   "metadata": {},
   "outputs": [
    {
     "name": "stdout",
     "output_type": "stream",
     "text": [
      "c\n",
      "fl\n",
      "\n",
      "aa\n"
     ]
    }
   ],
   "source": [
    "def longestCommonPrefix(strs):\n",
    "    empty =[]\n",
    "    res =[]\n",
    "    for a in strs:\n",
    "        for b in a:\n",
    "            if all(b in i for i in strs):\n",
    "                empty.append(b)\n",
    "                ty=''.join(empty)\n",
    "                #print(ty)\n",
    "                if all(ty in x for x in strs) and all(y.index(ty) == 0 for y in strs)and ty not in res:\n",
    "                    res=[]\n",
    "                    res.append(ty)\n",
    "    res=''.join(res)\n",
    "    return res\n",
    "print(longestCommonPrefix([\"cir\",\"car\"]))\n",
    "print(longestCommonPrefix([\"flower\",\"flow\",\"flight\"]))\n",
    "print(longestCommonPrefix([\"reflower\",\"flow\",\"flight\"]))\n",
    "print(longestCommonPrefix([\"aa\",\"aa\"]))"
   ]
  },
  {
   "cell_type": "code",
   "execution_count": 103,
   "metadata": {},
   "outputs": [
    {
     "name": "stdout",
     "output_type": "stream",
     "text": [
      "c\n",
      "fl\n",
      "\n",
      "aa\n"
     ]
    }
   ],
   "source": [
    "def longestCommonPrefix(strs):\n",
    "    word = \"\"\n",
    "    for i in range(len(strs[0])):\n",
    "        for s in strs:\n",
    "            if(i==len(s) or s[i]!=strs[0][i]):\n",
    "                return word\n",
    "        word+=strs[0][i]\n",
    "    return word\n",
    "print(longestCommonPrefix([\"cir\",\"car\"]))\n",
    "print(longestCommonPrefix([\"flower\",\"flow\",\"flight\"]))\n",
    "print(longestCommonPrefix([\"reflower\",\"flow\",\"flight\"]))\n",
    "print(longestCommonPrefix([\"aa\",\"aa\"]))"
   ]
  },
  {
   "cell_type": "code",
   "execution_count": 112,
   "metadata": {},
   "outputs": [
    {
     "name": "stdout",
     "output_type": "stream",
     "text": [
      "True\n",
      "True\n",
      "False\n",
      "False\n"
     ]
    }
   ],
   "source": [
    "def isValid(s):\n",
    "    a = \"()\" \n",
    "    b = '{}'\n",
    "    c = '[]'\n",
    "    d = [a,b,c]\n",
    "    \n",
    "    for i in range(len(s)):\n",
    "        if i%2 == 0 and ''.join(s[i:i+2]) not in d:\n",
    "            return False\n",
    "        elif i%2!= 0 and ''.join(s[i:i+2]) in d:\n",
    "            return True\n",
    "        else:\n",
    "            return True\n",
    "            \n",
    "\n",
    "print(isValid(\"()\"))\n",
    "print(isValid(\"()[]{}\"))\n",
    "print(isValid(\"(]\"))\n",
    "print(isValid(\"{[]}\"))"
   ]
  },
  {
   "cell_type": "code",
   "execution_count": 244,
   "metadata": {},
   "outputs": [
    {
     "data": {
      "text/plain": [
       "[1, 1, 2, 3, 4, 4]"
      ]
     },
     "execution_count": 244,
     "metadata": {},
     "output_type": "execute_result"
    }
   ],
   "source": [
    "def mergeTwoLists(list1, list2):\n",
    "    for i in list2:\n",
    "        if i != '':\n",
    "            list1.append(i)\n",
    "    return sorted(list1)\n",
    "mergeTwoLists([1,2,4],[1,3,4])"
   ]
  },
  {
   "cell_type": "code",
   "execution_count": 251,
   "metadata": {},
   "outputs": [
    {
     "name": "stdout",
     "output_type": "stream",
     "text": [
      "['1', '2', '4']\n",
      "['4', '3', '2', '2']\n",
      "['1', '0']\n"
     ]
    }
   ],
   "source": [
    "def plusOne(digits):\n",
    "    digits=[str(i) for i in digits]\n",
    "    digits=str(int(''.join(digits))+1)\n",
    "    digits=[i for i in digits]\n",
    "    return digits\n",
    "print(plusOne([1,2,3]))\n",
    "print(plusOne([4,3,2,1]))\n",
    "print(plusOne([9]))\n"
   ]
  },
  {
   "cell_type": "code",
   "execution_count": 278,
   "metadata": {},
   "outputs": [
    {
     "name": "stdout",
     "output_type": "stream",
     "text": [
      "True\n",
      "False\n",
      "True\n"
     ]
    }
   ],
   "source": [
    "def containsDuplicate(nums):\n",
    "    if len(nums)!= len(set(nums)):\n",
    "        return True\n",
    "    return False\n",
    "print(containsDuplicate([5,1,2,3,1]))\n",
    "print(containsDuplicate([1,2,3,4]))\n",
    "print(containsDuplicate([5,9,1,1,1,3,3,4,3,2,4,2]))"
   ]
  },
  {
   "cell_type": "code",
   "execution_count": 295,
   "metadata": {},
   "outputs": [
    {
     "name": "stdout",
     "output_type": "stream",
     "text": [
      "2\n"
     ]
    }
   ],
   "source": [
    "nums=[2,1]\n",
    "nums.sort(reverse=True)\n",
    "nums=set(nums)\n",
    "if len(nums) > 2:\n",
    "    print(nums[2])\n",
    "else:\n",
    "    print(max(nums))#"
   ]
  },
  {
   "cell_type": "code",
   "execution_count": 403,
   "metadata": {},
   "outputs": [
    {
     "data": {
      "text/plain": [
       "['adsdf', 'sfd']"
      ]
     },
     "execution_count": 403,
     "metadata": {},
     "output_type": "execute_result"
    }
   ],
   "source": [
    "def findWords(words):\n",
    "    row1 = ['q','w','e','r','t','y','u','i','o','p']\n",
    "    row2 = ['a','s','d','f','g','h','j','k','l']\n",
    "    row3 = ['z','x','c','v','b','n','m']\n",
    "    words2 = [] \n",
    "    words3 = []\n",
    "\n",
    "    for x in words:\n",
    "        for i in range(len(x)):\n",
    "            if x[i].lower() in row1:\n",
    "                x=x.replace(x[i],'1')\n",
    "            if x[i].lower() in row2:\n",
    "                x=x.replace(x[i],'2')\n",
    "            if x[i].lower() in row3:\n",
    "                x=x.replace(x[i],'3')\n",
    "                print(x,x[i])\n",
    "        words2.append(x)\n",
    "\n",
    "    words2 = [set(i) for i in words2]\n",
    "\n",
    "    for i in range(len(words)):\n",
    "        if len(words2[i]) == 1:\n",
    "            words3.append(words[i])\n",
    "    \n",
    "    return words3\n",
    "\n",
    "findWords([\"adsdf\",\"sfd\"])"
   ]
  },
  {
   "cell_type": "code",
   "execution_count": 423,
   "metadata": {},
   "outputs": [
    {
     "name": "stdout",
     "output_type": "stream",
     "text": [
      "5\n",
      "[3, 2, 1] holder\n",
      "3 third rank\n",
      "['Gold Medal', 'Silver Medal', 'Bronze Medal', 2, 1]\n",
      "10\n",
      "[3, 8, 4] holder\n",
      "8 third rank\n",
      "['Gold Medal', 3, 'Bronze Medal', 'Silver Medal', 4]\n"
     ]
    }
   ],
   "source": [
    "def findRelativeRanks(score):\n",
    "    holder = []\n",
    "    score = list(score)\n",
    "    st= score.index(max(score))\n",
    "    print(score[st])\n",
    "    score[st] = 'Gold Medal'\n",
    "\n",
    "    ndList = score[:st]+score[st+1:]\n",
    "    nd = max(ndList)\n",
    "    if nd in score:\n",
    "        score[score.index(nd)] = 'Silver Medal'\n",
    "    \n",
    "    for i in score:\n",
    "        if isinstance(i,int):\n",
    "            holder.append(i)\n",
    "    print(holder,'holder')\n",
    "    rd = max(holder)\n",
    "    print(rd,'third rank')\n",
    "    if rd in score:\n",
    "        score[score.index(rd)] = 'Bronze Medal'\n",
    "    #nd= score.index(max(score))\n",
    "    #score[nd] = “Silver Medal”\n",
    "\n",
    "    #rd= score.index(max(score))\n",
    "    #score[rd] = “Bronze Medal”\n",
    "\n",
    "    \n",
    "    return score\n",
    "print(findRelativeRanks([5,4,3,2,1]))\n",
    "print(findRelativeRanks([10,3,8,9,4]))\n",
    "#print(findRelativeRanks())\n",
    "#print(findRelativeRanks())\n"
   ]
  },
  {
   "cell_type": "code",
   "execution_count": 473,
   "metadata": {},
   "outputs": [
    {
     "name": "stdout",
     "output_type": "stream",
     "text": [
      "['Gold Medal', '5', 'Bronze Medal', 'Silver Medal', '4']\n"
     ]
    }
   ],
   "source": [
    "#def findRelativeRanks(score):\n",
    "score = [10,3,8,9,4]\n",
    "rank = [str(sorted(score, reverse=True).index(x)+1) for x in score ]\n",
    "for i in rank:\n",
    "    if i == '1':\n",
    "        rank[rank.index(i)] = 'Gold Medal'\n",
    "    if i == '2':\n",
    "        rank[rank.index(i)] = 'Silver Medal'\n",
    "    if i == '3':\n",
    "        rank[rank.index(i)] = 'Bronze Medal'\n",
    "        \n",
    "\n",
    "print(rank)"
   ]
  },
  {
   "cell_type": "code",
   "execution_count": 486,
   "metadata": {},
   "outputs": [
    {
     "name": "stdout",
     "output_type": "stream",
     "text": [
      "['Gold Medal', '5', 'Bronze Medal', 'Silver Medal', '4']\n"
     ]
    }
   ],
   "source": [
    "score = [10,3,8,9,4]\n",
    "rank = []\n",
    "for i in score:\n",
    "    x=str(sorted(score,reverse=True).index(i)+1)\n",
    "    if x == '1':\n",
    "        x='Gold Medal'\n",
    "    elif x=='2':\n",
    "        x='Silver Medal'\n",
    "    elif x=='3':\n",
    "        x='Bronze Medal'\n",
    "    rank.append(x)\n",
    "print(rank)"
   ]
  },
  {
   "cell_type": "code",
   "execution_count": 32,
   "metadata": {},
   "outputs": [
    {
     "data": {
      "text/plain": [
       "[[1, 2, 3], [1, 3, 2], [2, 1, 3], [2, 3, 1], [3, 1, 2], [3, 2, 1]]"
      ]
     },
     "execution_count": 32,
     "metadata": {},
     "output_type": "execute_result"
    }
   ],
   "source": [
    "def permute(nums):\n",
    "    if len(nums) == 0:\n",
    "        return []\n",
    "    if len(nums) == 1:\n",
    "        return [nums]\n",
    "    holder = []\n",
    "    for i in range(len(nums)):\n",
    "        x = nums[i]\n",
    "        remList = nums[:i] + nums[i+1:]\n",
    "\n",
    "        for j in permute(remList):\n",
    "            holder.append([x]+j)\n",
    "            \n",
    "\n",
    "    return holder\n",
    "            \n",
    "        \n",
    "permute([1,2,3])"
   ]
  },
  {
   "cell_type": "code",
   "execution_count": 97,
   "metadata": {},
   "outputs": [
    {
     "data": {
      "text/plain": [
       "[[1, 2, 3], [1, 3, 2], [2, 1, 3], [2, 3, 1], [3, 1, 2], [3, 2, 1]]"
      ]
     },
     "execution_count": 97,
     "metadata": {},
     "output_type": "execute_result"
    }
   ],
   "source": [
    "def ranDom(nums):\n",
    "\n",
    "    if len(nums)==0:\n",
    "        return []\n",
    "    if len(nums)==1:\n",
    "        return [nums]\n",
    "    \n",
    "\n",
    "\n",
    "    holder = []\n",
    "    for i in range(len(nums)):\n",
    "        x = nums[i]\n",
    "        remaining = nums[:i]+nums[i+1:]\n",
    "        \n",
    "        for j in ranDom(remaining):\n",
    "            holder.append([x]+j)\n",
    "    return holder\n",
    "ranDom([1,2,3])"
   ]
  },
  {
   "cell_type": "code",
   "execution_count": null,
   "metadata": {},
   "outputs": [],
   "source": [
    "def majorityElement(nums):\n",
    "    for i in nums:\n",
    "        if i \n",
    "majorityElement([2,2,1,1,1,2,2])"
   ]
  },
  {
   "cell_type": "code",
   "execution_count": 50,
   "metadata": {},
   "outputs": [
    {
     "name": "stdout",
     "output_type": "stream",
     "text": [
      "num: 3 count: 2\n",
      "num: 4 count: 1\n",
      "3\n"
     ]
    }
   ],
   "source": [
    "nums = [3,3,4]\n",
    "#nums = [str(i) for i in nums]\n",
    "holder = set(nums)\n",
    "higherCount = 0\n",
    "ans = 0\n",
    "for i in holder:\n",
    "    x=nums.count(i)\n",
    "    print('num:',i,'count:',x)\n",
    "    if x>higherCount:\n",
    "        higherCount=x\n",
    "        ans = i\n",
    "\n",
    "print(ans)"
   ]
  },
  {
   "cell_type": "code",
   "execution_count": 86,
   "metadata": {},
   "outputs": [
    {
     "name": "stdout",
     "output_type": "stream",
     "text": [
      "amanaplanacanalpanama\n"
     ]
    },
    {
     "data": {
      "text/plain": [
       "True"
      ]
     },
     "execution_count": 86,
     "metadata": {},
     "output_type": "execute_result"
    }
   ],
   "source": [
    "def isPalindrome():\n",
    "    s=\"A man, a plan, a canal: Panama\"\n",
    "    s = (''.join(filter(str.isalnum, s))).lower()\n",
    "   \n",
    "    \n",
    "    if s == s[::-1]:\n",
    "        return True\n",
    "    else:\n",
    "        return False\n",
    "\n",
    "isPalindrome()"
   ]
  },
  {
   "cell_type": "code",
   "execution_count": null,
   "metadata": {},
   "outputs": [],
   "source": [
    "def isHappy(n):\n",
    "    "
   ]
  },
  {
   "cell_type": "code",
   "execution_count": 110,
   "metadata": {},
   "outputs": [
    {
     "name": "stdout",
     "output_type": "stream",
     "text": [
      "[4, 16, 37, 58, 89, 145, 42, 20]\n",
      "False\n"
     ]
    }
   ],
   "source": [
    "dejavu = []\n",
    "def isHappy(n):\n",
    "    global dejavu\n",
    "    x=[int(i) for i in str(n)]\n",
    "\n",
    "    toTal = sum([x[i]**2 for i in range(len(x))])\n",
    "    #print(toTal)\n",
    "    if toTal in dejavu:\n",
    "        print(dejavu)\n",
    "        print(False)\n",
    "        return\n",
    "    if toTal == 1:\n",
    "        print(True)\n",
    "    else:\n",
    "        dejavu.append(toTal)\n",
    "        isHappy(toTal)\n",
    "isHappy(2)"
   ]
  },
  {
   "cell_type": "code",
   "execution_count": 149,
   "metadata": {},
   "outputs": [
    {
     "data": {
      "text/plain": [
       "False"
      ]
     },
     "execution_count": 149,
     "metadata": {},
     "output_type": "execute_result"
    }
   ],
   "source": [
    "class Solution:\n",
    "    def __init__(self):\n",
    "        self.dejavu = []\n",
    "    def isHappy(self, n: int) -> bool:\n",
    "        \n",
    "        x=[int(i) for i in str(n)]\n",
    "        toTal = sum([x[i]**2 for i in range(len(x))])\n",
    "\n",
    "        if toTal in self.dejavu:\n",
    "            return False\n",
    "        \n",
    "        if toTal == 1:\n",
    "            return True\n",
    "        \n",
    "        else:\n",
    "            self.dejavu.append(toTal)\n",
    "            return self.isHappy(toTal)\n",
    "st = Solution()\n",
    "st.isHappy(30)"
   ]
  },
  {
   "cell_type": "code",
   "execution_count": 150,
   "metadata": {},
   "outputs": [
    {
     "data": {
      "text/plain": [
       "False"
      ]
     },
     "execution_count": 150,
     "metadata": {},
     "output_type": "execute_result"
    }
   ],
   "source": [
    "class Solution:\n",
    "    def __init__(self):\n",
    "        self.seen = []\n",
    "    \n",
    "    def isHappy(self, n: int) -> bool:\n",
    "        \n",
    "        if n in self.seen: return False \n",
    "        self.seen.append(n) \n",
    "    \n",
    "        if n == 1 : \n",
    "            return True \n",
    "        else: \n",
    "            tmp = 0 \n",
    "            while n: \n",
    "                tmp += (n % 10)**2\n",
    "                n = n//10\n",
    "            return self.isHappy(tmp)\n",
    "st = Solution()\n",
    "st.isHappy(30)"
   ]
  },
  {
   "cell_type": "code",
   "execution_count": 160,
   "metadata": {},
   "outputs": [
    {
     "name": "stdout",
     "output_type": "stream",
     "text": [
      "2\n",
      "2\n",
      "8\n",
      "0\n"
     ]
    }
   ],
   "source": [
    "def missingNumber(nums):\n",
    "    #s = len(nums)\n",
    "    #holder = list(range(s+1))\n",
    "    for i in range(len(nums)+1):\n",
    "        if i not in nums:\n",
    "            return i\n",
    "    \n",
    "print(missingNumber([3,0,1]))\n",
    "print(missingNumber([0,1]))\n",
    "print(missingNumber([9,6,4,2,3,5,7,0,1]))\n",
    "print(missingNumber([1]))"
   ]
  },
  {
   "cell_type": "code",
   "execution_count": 164,
   "metadata": {},
   "outputs": [
    {
     "data": {
      "text/plain": [
       "-1"
      ]
     },
     "execution_count": 164,
     "metadata": {},
     "output_type": "execute_result"
    }
   ],
   "source": [
    "def strStr(haystack,needle):\n",
    "    if not needle:\n",
    "        return 0\n",
    "    s=haystack.find('p')\n",
    "    return s\n",
    "strStr('hello','ll')"
   ]
  },
  {
   "cell_type": "code",
   "execution_count": 353,
   "metadata": {},
   "outputs": [
    {
     "data": {
      "text/plain": [
       "\"s'teL ekat edoCteeL tsetnoc\""
      ]
     },
     "execution_count": 353,
     "metadata": {},
     "output_type": "execute_result"
    }
   ],
   "source": [
    "def reverseWords(s):\n",
    "    return ' '.join([i[::-1] for i in s.split(' ') ])\n",
    "reverseWords(\"Let's take LeetCode contest\")"
   ]
  },
  {
   "cell_type": "code",
   "execution_count": 197,
   "metadata": {},
   "outputs": [
    {
     "name": "stdout",
     "output_type": "stream",
     "text": [
      "doG gniD \n"
     ]
    }
   ],
   "source": [
    "s = \"God Ding\"\n",
    "#s = \"Let's take LeetCode contest\"\n",
    "x=''\n",
    "for i in s.split(' '):\n",
    "    i=i[::-1]\n",
    "    x+= (i+' ')\n",
    "print(x)"
   ]
  },
  {
   "cell_type": "code",
   "execution_count": 203,
   "metadata": {},
   "outputs": [
    {
     "name": "stdout",
     "output_type": "stream",
     "text": [
      "doG gniD\n"
     ]
    }
   ],
   "source": [
    "s = \"God Ding\"\n",
    "w = ' '.join([i[::-1] for i in s.split(' ') ])\n",
    "print(w)"
   ]
  },
  {
   "cell_type": "code",
   "execution_count": 260,
   "metadata": {},
   "outputs": [
    {
     "name": "stdout",
     "output_type": "stream",
     "text": [
      "5\n",
      "0\n",
      "2\n",
      "3\n",
      "0\n",
      "1\n",
      "4\n"
     ]
    }
   ],
   "source": [
    "def findComplement(num):\n",
    "\n",
    "    x=format(num,'b')\n",
    "    res = ''.join(['1' if x[i]=='0' else '0' for i in range(len(x)) ])\n",
    "    res = int(res,2)\n",
    "    return res\n",
    "print(findComplement(10))\n",
    "print(findComplement(127))\n",
    "print(findComplement(5))\n",
    "print(findComplement(12))\n",
    "print(findComplement(1))\n",
    "print(findComplement(0))\n",
    "print(findComplement(27))"
   ]
  },
  {
   "cell_type": "code",
   "execution_count": 305,
   "metadata": {},
   "outputs": [
    {
     "name": "stdout",
     "output_type": "stream",
     "text": [
      "e\n",
      "a\n",
      "None\n"
     ]
    }
   ],
   "source": [
    "def findTheDifference(s,t):\n",
    "    t = list(t)\n",
    "    s= list(s)\n",
    "    for i in s:\n",
    "        if i in t:\n",
    "            del t[t.index(i)]\n",
    "    if t==[]:\n",
    "        return None\n",
    "    return ''.join(t)\n",
    "    \n",
    "print(findTheDifference('abcd','abcde'))\n",
    "print(findTheDifference('a','aa'))\n",
    "print(findTheDifference('',''))"
   ]
  },
  {
   "cell_type": "code",
   "execution_count": 319,
   "metadata": {},
   "outputs": [
    {
     "name": "stdout",
     "output_type": "stream",
     "text": [
      "[1, 3, 12, 0, 0]\n",
      "[0]\n"
     ]
    }
   ],
   "source": [
    "def moveZeroes(nums):\n",
    "    x= nums.count(0)\n",
    "    nums = list(filter(lambda n: n!=0, nums))\n",
    "    for i in range(x):\n",
    "        nums.append(0)\n",
    "    return nums\n",
    "\n",
    "print(moveZeroes([0,1,0,3,12]))\n",
    "print(moveZeroes([0]))"
   ]
  },
  {
   "cell_type": "code",
   "execution_count": 331,
   "metadata": {},
   "outputs": [
    {
     "name": "stdout",
     "output_type": "stream",
     "text": [
      "[4, 4, 1, 3, 12]\n",
      "[0]\n"
     ]
    }
   ],
   "source": [
    "def moveZeroes(nums):\n",
    "    for i in nums:\n",
    "        if i == 0:\n",
    "            nums.remove(i)\n",
    "            nums.insert(i,len(nums))\n",
    "    return nums\n",
    "print(moveZeroes([0,1,0,3,12]))\n",
    "print(moveZeroes([0]))"
   ]
  },
  {
   "cell_type": "code",
   "execution_count": 314,
   "metadata": {},
   "outputs": [
    {
     "data": {
      "text/plain": [
       "2"
      ]
     },
     "execution_count": 314,
     "metadata": {},
     "output_type": "execute_result"
    }
   ],
   "source": [
    "def addDigits(num):\n",
    "    res = sum([int(i) for i in list(str(num))])\n",
    "    if res >9:\n",
    "        return addDigits(res)\n",
    "    return res\n",
    "addDigits(15987098745256287942675982467589269784534657823)"
   ]
  },
  {
   "cell_type": "code",
   "execution_count": 315,
   "metadata": {},
   "outputs": [],
   "source": [
    "def reverseBits(n):\n",
    "    x = int( '{:032b}'.format(n)[::-1],2)\n",
    "    return x"
   ]
  },
  {
   "cell_type": "code",
   "execution_count": 447,
   "metadata": {},
   "outputs": [
    {
     "name": "stdout",
     "output_type": "stream",
     "text": [
      "Fibonacci Sequence: \n"
     ]
    },
    {
     "data": {
      "text/plain": [
       "43566776258854844738105"
      ]
     },
     "execution_count": 447,
     "metadata": {},
     "output_type": "execute_result"
    }
   ],
   "source": [
    "def fib(p):\n",
    "    a,b,x = 1,1,0\n",
    "    n = 0\n",
    "    if p == 0:\n",
    "        return 0\n",
    "    while True:\n",
    "        a = x \n",
    "        x += b\n",
    "        b = a\n",
    "        n+= 1\n",
    "        if n >= p:\n",
    "            return x\n",
    "fib(110)"
   ]
  },
  {
   "cell_type": "code",
   "execution_count": 454,
   "metadata": {},
   "outputs": [],
   "source": [
    "def hammingWeight(n):\n",
    "    x= '{:032b}'.format(n)\n",
    "    return str(x).count('1')\n"
   ]
  },
  {
   "cell_type": "code",
   "execution_count": 460,
   "metadata": {},
   "outputs": [
    {
     "name": "stdout",
     "output_type": "stream",
     "text": [
      "True\n",
      "False\n",
      "False\n",
      "False\n",
      "False\n"
     ]
    }
   ],
   "source": [
    "def canConstruct(ransomNote,magazine):\n",
    "    if ransomNote in magazine:\n",
    "        return True\n",
    "    return False\n",
    "print(canConstruct('aa','aab'))\n",
    "print(canConstruct('a','b'))\n",
    "print(canConstruct('aa','ab'))\n",
    "print(canConstruct('aa','babab'))\n",
    "print(canConstruct('axe','exa'))"
   ]
  },
  {
   "cell_type": "code",
   "execution_count": 488,
   "metadata": {},
   "outputs": [
    {
     "name": "stdout",
     "output_type": "stream",
     "text": [
      "True\n",
      "False\n",
      "False\n",
      "True\n",
      "True\n",
      "-----------------------------\n",
      "True\n",
      "False\n",
      "True\n",
      "False\n",
      "True\n"
     ]
    }
   ],
   "source": [
    "def canConstruct(ransomNote,magazine):\n",
    "    ransomNote = list(ransomNote)\n",
    "    magazine = list(magazine)\n",
    "    for i in ransomNote:\n",
    "        if i in magazine:\n",
    "            ransomNote[ransomNote.index(i)] = ''\n",
    "            magazine.remove(i)\n",
    "    x=''.join(ransomNote)\n",
    "    if x == '':\n",
    "        return True\n",
    "    return False\n",
    "print(canConstruct('aa','aab'))\n",
    "print(canConstruct('a','b'))\n",
    "print(canConstruct('aa','ab'))\n",
    "print(canConstruct('aa','babab'))\n",
    "print(canConstruct('',''))\n",
    "print('-----------------------------')\n",
    "print(canConstruct('a;',';a'))\n",
    "print(canConstruct('QSas','qsas'))\n",
    "print(canConstruct('1w','w1'))\n",
    "print(canConstruct('bollock','bllck'))\n",
    "print(canConstruct('a','exa'))"
   ]
  },
  {
   "cell_type": "code",
   "execution_count": 517,
   "metadata": {},
   "outputs": [
    {
     "name": "stdout",
     "output_type": "stream",
     "text": [
      "[0, 1, 1]\n",
      "[0, 1, 1, 2, 1, 2]\n",
      "[0]\n",
      "[0, 1]\n"
     ]
    }
   ],
   "source": [
    "def countBits(n):\n",
    "    return [(format(i,'b')).count('1') for i in range(n+1)] \n",
    "print(countBits(2))\n",
    "print(countBits(5))\n",
    "print(countBits(0))\n",
    "print(countBits(1))\n"
   ]
  },
  {
   "cell_type": "code",
   "execution_count": null,
   "metadata": {},
   "outputs": [],
   "source": [
    "def moveZeroes(nums):\n",
    "    x= nums.count(0)\n",
    "    nums = list(filter(lambda n: n!=0, nums))\n",
    "    for i in range(x):\n",
    "        nums.append(0)\n",
    "    return nums\n",
    "\n",
    "print(moveZeroes([0,1,0,3,12]))\n",
    "print(moveZeroes([0]))"
   ]
  },
  {
   "cell_type": "code",
   "execution_count": 29,
   "metadata": {},
   "outputs": [
    {
     "name": "stdout",
     "output_type": "stream",
     "text": [
      "['o', 'l', 'l', 'e', 'h']\n",
      "['h', 'a', 'n', 'n', 'a', 'H']\n"
     ]
    }
   ],
   "source": [
    "\n",
    "def reverseString(s):\n",
    "    \"\"\"\n",
    "    Do not return anything, modify s in-place instead.\n",
    "    \"\"\"\n",
    "    for i in range(len(s))[::-1]:\n",
    "        v = s.pop(i)\n",
    "        s.append(v)\n",
    "    return s #Do Not Return in the actual coding challenge\n",
    "print(reverseString([\"h\",\"e\",\"l\",\"l\",\"o\"]))\n",
    "print(reverseString([\"H\",\"a\",\"n\",\"n\",\"a\",\"h\"]))"
   ]
  },
  {
   "cell_type": "code",
   "execution_count": 33,
   "metadata": {},
   "outputs": [
    {
     "name": "stdout",
     "output_type": "stream",
     "text": [
      "[['o', 'l', 'l', 'e', 'h']]\n",
      "[['h', 'a', 'n', 'n', 'a', 'H']]\n"
     ]
    }
   ],
   "source": [
    "# Python One Liner but double bracketed\n",
    "def reverseString(s):\n",
    "    s.append([s.pop(i) for i in range(len(s))[::-1]])\n",
    "    return s\n",
    "print(reverseString([\"h\",\"e\",\"l\",\"l\",\"o\"]))\n",
    "print(reverseString([\"H\",\"a\",\"n\",\"n\",\"a\",\"h\"]))"
   ]
  },
  {
   "cell_type": "code",
   "execution_count": 30,
   "metadata": {},
   "outputs": [
    {
     "name": "stdout",
     "output_type": "stream",
     "text": [
      "['o', 'l', 'l', 'e', 'h']\n",
      "['h', 'a', 'n', 'n', 'a', 'H']\n"
     ]
    }
   ],
   "source": [
    "# A much more interesting way found on geek for geeks\n",
    "def reverseString(s):\n",
    "    for i in range(0, int(len(s)/2)):\n",
    "        s[i], s[len(s) - i -1] = s[len(s) -i -1], s[i]\n",
    "    return s\n",
    "print(reverseString([\"h\",\"e\",\"l\",\"l\",\"o\"]))\n",
    "print(reverseString([\"H\",\"a\",\"n\",\"n\",\"a\",\"h\"]))"
   ]
  },
  {
   "cell_type": "code",
   "execution_count": null,
   "metadata": {},
   "outputs": [],
   "source": []
  },
  {
   "cell_type": "code",
   "execution_count": 49,
   "metadata": {},
   "outputs": [
    {
     "name": "stdout",
     "output_type": "stream",
     "text": [
      "['a', 'b', 'b', 'a']\n",
      "['dog', 'fish', 'dog', 'fish']\n",
      "{'dog', 'fish'} This is the set\n"
     ]
    },
    {
     "data": {
      "text/plain": [
       "{'a': 'fish', 'b': 'dog'}"
      ]
     },
     "execution_count": 49,
     "metadata": {},
     "output_type": "execute_result"
    }
   ],
   "source": [
    "def wordPattern():\n",
    "    pattern = \"abba\"\n",
    "    pattern = list(pattern)\n",
    "    print(pattern)\n",
    "    s = \"dog fish dog fish\"\n",
    "    s = s.split()\n",
    "    print(s)\n",
    "    x = set(s)\n",
    "    print(x,'This is the set')\n",
    "    \n",
    "    x = dict(zip(pattern,s))\n",
    "    return x\n",
    "wordPattern()"
   ]
  },
  {
   "cell_type": "code",
   "execution_count": 97,
   "metadata": {},
   "outputs": [
    {
     "name": "stdout",
     "output_type": "stream",
     "text": [
      "['cat', 'dog', 'aba']\n",
      "[0, 1, 1, 0]\n",
      "[1, 0, 1, 0, 1, 2]\n",
      "False\n"
     ]
    }
   ],
   "source": [
    "#def wordPattern():\n",
    "pattern = \"abba\"\n",
    "s = \"dog cat dog cat dog aba\"\n",
    "\n",
    "x = list(pattern)\n",
    "y = s.split()\n",
    "\n",
    "setS = list(set(y))\n",
    "print(setS)\n",
    "setOfPattern = list(set(x))\n",
    "\n",
    "for i in range(len(setOfPattern)):\n",
    "    for j in x:\n",
    "        if j == setOfPattern[i]:\n",
    "            x[x.index(j)] = i\n",
    "for i in range(len(setS)):\n",
    "    for j in y:\n",
    "        if j == setS[i]:\n",
    "            y[y.index(j)] = i\n",
    "print(x)\n",
    "print(y)\n",
    "if x == y:\n",
    "    print(True)\n",
    "else:\n",
    "    print(False)\n",
    "#    if setOfPattern[i] in x:\n",
    "#        x[x.index(setOfPattern[i])] = i\n",
    "#    print(x)"
   ]
  },
  {
   "cell_type": "code",
   "execution_count": 234,
   "metadata": {},
   "outputs": [
    {
     "name": "stdout",
     "output_type": "stream",
     "text": [
      "True\n",
      "False\n",
      "False\n",
      "False\n",
      "True\n",
      "False\n",
      "False\n",
      "False\n"
     ]
    }
   ],
   "source": [
    "def wordPattern(pattern, s):\n",
    "    x = list(pattern)\n",
    "    y = s.split()\n",
    "\n",
    "    setOfPattern = []\n",
    "    [setOfPattern.append(i) for i in x if i not in setOfPattern]\n",
    "    setOfS = []\n",
    "    [setOfS.append(i) for i in y if i not in setOfS]\n",
    "\n",
    "    for i in setOfPattern:\n",
    "        for j in range(len(x)):\n",
    "            if x[j] == i:\n",
    "                x[j] = setOfPattern.index(i)\n",
    "    for i in setOfS:\n",
    "        for j in range(len(y)):\n",
    "            if y[j] == i:\n",
    "                y[j] = setOfS.index(i)\n",
    "\n",
    "    if x== y:\n",
    "        return True\n",
    "    else:\n",
    "        return False\n",
    "print(wordPattern('baba','cat dog cat dog'))\n",
    "print(wordPattern('lol','cat dog dog'))\n",
    "print(wordPattern('aaaa','cat car cat cat'))\n",
    "print(wordPattern('bbb','catcat cat'))\n",
    "print(wordPattern('1190','cat cat dog elf'))\n",
    "print(wordPattern('b a','golf racket'))\n",
    "print(wordPattern('b ','cat'))\n",
    "print(wordPattern('b ','cat cat'))"
   ]
  },
  {
   "cell_type": "code",
   "execution_count": 232,
   "metadata": {},
   "outputs": [
    {
     "name": "stdout",
     "output_type": "stream",
     "text": [
      "True\n",
      "False\n",
      "False\n",
      "False\n",
      "True\n",
      "False\n",
      "False\n",
      "False\n"
     ]
    }
   ],
   "source": [
    "def wordPattern(p,s):\n",
    "    words, w_to_p = s.split(' '), dict()\n",
    "\n",
    "    if len(p) != len(words): return False\n",
    "    if len(set(p)) != len(set(words)): return False # for the case w = ['dog', 'cat'] and p = 'aa'\n",
    "\n",
    "    for i in range(len(words)):\n",
    "        if words[i] not in w_to_p: \n",
    "            w_to_p[words[i]] = p[i]\n",
    "        elif w_to_p[words[i]] != p[i]: \n",
    "            return False\n",
    "\n",
    "    return True\n",
    "print(wordPattern('baba','cat dog cat dog'))\n",
    "print(wordPattern('lol','cat dog dog'))\n",
    "print(wordPattern('aaaa','cat car cat cat'))\n",
    "print(wordPattern('bbb','catcat cat'))\n",
    "print(wordPattern('1190','cat cat dog elf'))\n",
    "print(wordPattern('b a','golf racket'))\n",
    "print(wordPattern('b ','cat'))\n",
    "print(wordPattern('b ','cat cat'))\n"
   ]
  },
  {
   "cell_type": "code",
   "execution_count": 272,
   "metadata": {},
   "outputs": [
    {
     "name": "stdout",
     "output_type": "stream",
     "text": [
      "\n",
      "\n",
      "\n",
      "a\n",
      "a\n",
      "ab\n",
      "ba\n",
      "abc\n",
      "cba\n",
      "abcc\n",
      "ccba\n",
      "abccc\n",
      "cccba\n",
      "abcccc\n",
      "ccccba\n",
      "abccccd\n",
      "dccccba\n"
     ]
    }
   ],
   "source": [
    "def longestPalindrome(s): # misunderstood the topic but its still intersting to keep the code\n",
    "    v = len(s)+1\n",
    "    for i in range(len(s)):\n",
    "        subList = s[:i]\n",
    "        print(subList)\n",
    "        print(s[:i][::-1])\n",
    "        if subList == s[i:i+len(subList)]:\n",
    "            print(subList)\n",
    "longestPalindrome(\"abccccdd\")"
   ]
  },
  {
   "cell_type": "code",
   "execution_count": 294,
   "metadata": {},
   "outputs": [
    {
     "name": "stdout",
     "output_type": "stream",
     "text": [
      "15\n"
     ]
    }
   ],
   "source": [
    "s=\"ccccddesooeeeggtuiv\"\n",
    "s= list(s)\n",
    "pairedStrings = []\n",
    "nonPaired = []\n",
    "for i in s:\n",
    "    v= s.count(i)\n",
    "    if v == 1 :\n",
    "        nonPaired.append(i)\n",
    "    elif v % 2 == 0 and i not in pairedStrings:\n",
    "        w = int(v/2)\n",
    "        for j in range(w):\n",
    "            pairedStrings.append(i)\n",
    "    elif v > 1 and v % 2 != 0 and i not in pairedStrings:\n",
    "        nonPaired.append(i)\n",
    "        v-=1\n",
    "        vv= int(v/2)\n",
    "        for k in range(vv):\n",
    "            pairedStrings.append(i)\n",
    "\n",
    "if len(nonPaired)>=1:\n",
    "    print(len(''.join(pairedStrings+pairedStrings[::-1]))+1)\n",
    "else:\n",
    "    print(len(''.join(pairedStrings+pairedStrings[::-1])))"
   ]
  },
  {
   "cell_type": "code",
   "execution_count": 295,
   "metadata": {},
   "outputs": [
    {
     "name": "stdout",
     "output_type": "stream",
     "text": [
      "7\n",
      "1\n",
      "2\n",
      "17\n",
      "45\n",
      "3\n",
      "7\n",
      "7\n"
     ]
    }
   ],
   "source": [
    "def longestPalindrome(s):\n",
    "    s= list(s)\n",
    "    pairedStrings = []\n",
    "    nonPaired = []\n",
    "    for i in s:\n",
    "        v= s.count(i)\n",
    "        if v == 1 :\n",
    "            nonPaired.append(i)\n",
    "        elif v % 2 == 0 and i not in pairedStrings:\n",
    "            w = int(v/2)\n",
    "            for j in range(w):\n",
    "                pairedStrings.append(i)\n",
    "        elif v > 1 and v % 2 != 0 and i not in pairedStrings:\n",
    "            nonPaired.append(i)\n",
    "            v-=1\n",
    "            vv= int(v/2)\n",
    "            for k in range(vv):\n",
    "                pairedStrings.append(i)\n",
    "\n",
    "    if len(nonPaired)>=1:\n",
    "        return len(''.join(pairedStrings+pairedStrings[::-1]))+1\n",
    "    else:\n",
    "        return len(''.join(pairedStrings+pairedStrings[::-1]))\n",
    "\n",
    "print(longestPalindrome('abccccdd'))\n",
    "print(longestPalindrome('a'))\n",
    "print(longestPalindrome('bb'))\n",
    "print(longestPalindrome('dsafdafeadsfadsafa'))\n",
    "print(longestPalindrome('asdfasfdsaferyiuquoyiefbakdshagyiuftrwgysafbdkysgiuvsbk'))\n",
    "print(longestPalindrome('yyy'))\n",
    "print(longestPalindrome('opopAAPOa'))\n",
    "print(longestPalindrome('sdAADWPOAaaaqwd'))"
   ]
  },
  {
   "cell_type": "code",
   "execution_count": 297,
   "metadata": {},
   "outputs": [
    {
     "name": "stdout",
     "output_type": "stream",
     "text": [
      "[5, 6]\n",
      "[2]\n",
      "[]\n",
      "[4]\n",
      "[2, 3]\n"
     ]
    }
   ],
   "source": [
    "def findDisappearedNumbers(nums):\n",
    "    numSet = set(nums)\n",
    "    res = [i for i in range(1,len(nums)+1) if i not in numSet]\n",
    "    return res\n",
    "print(findDisappearedNumbers([4,3,2,7,8,2,3,1]))\n",
    "print(findDisappearedNumbers([1,1]))\n",
    "print(findDisappearedNumbers([1]))\n",
    "print(findDisappearedNumbers([1,9,2,3,5,6,6,7,8]))\n",
    "print(findDisappearedNumbers([1,1,1]))"
   ]
  },
  {
   "cell_type": "code",
   "execution_count": 260,
   "metadata": {},
   "outputs": [
    {
     "name": "stdout",
     "output_type": "stream",
     "text": [
      "[5, 6]\n",
      "[2]\n",
      "[]\n",
      "[4]\n",
      "[2, 3]\n"
     ]
    }
   ],
   "source": [
    "def findDisappearedNumbers(nums):\n",
    "    return (list(set(list(range(1,len(nums)+1))) - set(nums)))\n",
    "print(findDisappearedNumbers([4,3,2,7,8,2,3,1]))\n",
    "print(findDisappearedNumbers([1,1]))\n",
    "print(findDisappearedNumbers([1]))\n",
    "print(findDisappearedNumbers([1,9,2,3,5,6,6,7,8]))\n",
    "print(findDisappearedNumbers([1,1,1]))"
   ]
  },
  {
   "cell_type": "code",
   "execution_count": 307,
   "metadata": {},
   "outputs": [
    {
     "name": "stdout",
     "output_type": "stream",
     "text": [
      "False\n",
      "True\n",
      "True\n",
      "False\n",
      "True\n",
      "True\n",
      "False\n",
      "False\n"
     ]
    }
   ],
   "source": [
    "def detectCapitalUse(word):\n",
    "    x= list(word)\n",
    "    if word.isupper() or word.islower() or (x[0].isupper and ''.join(x[1:]).islower()):\n",
    "        return True\n",
    "    else:\n",
    "        return False\n",
    "print(detectCapitalUse('FlaG'))\n",
    "print(detectCapitalUse('USA'))\n",
    "print(detectCapitalUse(\"Mona\"))\n",
    "print(detectCapitalUse('MOnA'))\n",
    "print(detectCapitalUse('MONA'))\n",
    "print(detectCapitalUse('mona'))\n",
    "print(detectCapitalUse('sdfggteruysgdfhgjkAVGDGJQYWDJVWAAdgsdfg'))\n",
    "print(detectCapitalUse('serguygfsbTJAVVDFS8865656788AGJDVJAVJH'))"
   ]
  },
  {
   "cell_type": "code",
   "execution_count": 128,
   "metadata": {},
   "outputs": [
    {
     "name": "stdout",
     "output_type": "stream",
     "text": [
      "['1', '2', 'Fizz', '4', 'Buzz', 'Fizz', '7', '8', 'Fizz', 'Buzz']\n"
     ]
    }
   ],
   "source": [
    "def fizzBuzz(n):\n",
    "    x = list(range(1,n+1))\n",
    "    for i in x:\n",
    "        if i%3==0 and i%5==0:\n",
    "            x[x.index(i)] = 'FizzBuzz'\n",
    "        elif i%3==0:\n",
    "            x[x.index(i)] = 'Fizz'\n",
    "        elif i%5==0:\n",
    "            x[x.index(i)] = 'Buzz'\n",
    "        else:\n",
    "            x[x.index(i)] = str(i)\n",
    "    return x\n",
    "print(fizzBuzz(10))"
   ]
  },
  {
   "cell_type": "code",
   "execution_count": 129,
   "metadata": {},
   "outputs": [
    {
     "name": "stdout",
     "output_type": "stream",
     "text": [
      "['1', '2', 'Fizz', '4', 'Buzz', 'Fizz', '7', '8', 'Fizz', 'Buzz', '11', 'Fizz', '13', '14']\n"
     ]
    }
   ],
   "source": [
    "\n",
    "def fizzBuzz(n):\n",
    "    res = list(map(str, range(1, n+1)))\n",
    "    res[2::3] = [\"Fizz\"] * (n // 3)\n",
    "    res[4::5] = [\"Buzz\"] * (n // 5)\n",
    "    res[14::15] = [\"FizzBuzz\"] * (n // 15)\n",
    "    return res\n",
    "print(fizzBuzz(14))\n"
   ]
  },
  {
   "cell_type": "code",
   "execution_count": 40,
   "metadata": {},
   "outputs": [
    {
     "name": "stdout",
     "output_type": "stream",
     "text": [
      "--- 0.05450105667114258 seconds ---\n"
     ]
    }
   ],
   "source": [
    "import time\n",
    "start_time = time.time()\n",
    "\n",
    "randList = ['a','b','c','d','e','a','b','c','d','e','a','b','c','d','e','a','b','c','d','e','a','b','c','d','e','a','b','c','d','e','a','b','c','d','e','a','b','c','d','e','a','b','c','d','e','a','b','c','d','e','a','b','c','d','e','a','b','c','d','e','a','b','c','d','e','a','b','c','d','e','a','b','c','d','e','a','b','c','d','e','a','b','c','d','e','a','b','c','d','e','a','b','c','d','e','a','b','c','d','e','a','b','c','d','e','a','b','c','d','e','a','b','c','d','e','a','b','c','d','e','a','b','c','d','e','a','b','c','d','e','a','b','c','d','e','a','b','c','d','e','a','b','c','d','e','a','b','c','d','e','a','b','c','d','e','a','b','c','d','e','a','b','c','d','e','a','b','c','d','e','a','b','c','d','e','a','b','c','d','e','a','b','c','d','e','a','b','c','d','e','a','b','c','d','e','a','b','c','d','e','a','b','c','d','e','a','b','c','d','e','a','b','c','d','e','a','b','c','d','e','a','b','c','d','e','a','b','c','d','e','a','b','c','d','e','a','b','c','d','e','a','b','c','d','e','a','b','c','d','e','a','b','c','d','e','a','b','c','d','e','a','b','c','d','e','a','b','c','d','e','a','b','c','d','e','a','b','c','d','e','a','b','c','d','e','a','b','c','d','e','a','b','c','d','e','a','b','c','d','e','a','b','c','d','e','a','b','c','d','e','a','b','c','d','e','a','b','c','d','e','a','b','c','d','e','a','b','c','d','e','a','b','c','d','e','a','b','c','d','e','a','b','c','d','e','a','b','c','d','e','a','b','c','d','e','a','b','c','d','e','a','b','c','d','e','a','b','c','d','e','a','b','c','d','e','a','b','c','d','e','a','b','c','d','e','a','b','c','d','e','a','b','c','d','e','a','b','c','d','e','a','b','c','d','e','a','b','c','d','e','a','b','c','d','e']\n",
    "res = []\n",
    "for i in (range(len(randList))): \n",
    "    rem = randList[:i]+randList[i+1:] \n",
    "    x=randList[i]\n",
    "    for j in rem:\n",
    "        x+=j\n",
    "    res.append(x)\n",
    "#print(res,'\\n')\n",
    "print(\"--- %s seconds ---\" % (time.time() - start_time))"
   ]
  },
  {
   "cell_type": "code",
   "execution_count": 39,
   "metadata": {},
   "outputs": [
    {
     "name": "stdout",
     "output_type": "stream",
     "text": [
      "--- 0.0048980712890625 seconds ---\n"
     ]
    }
   ],
   "source": [
    "#the above O(n^2) quadratic complexity is simplified to a O(n) here\n",
    "# the O(n) code below is 10 times faster than the above solution\n",
    "import time\n",
    "start_time = time.time()\n",
    "\n",
    "\n",
    "\n",
    "randList = ['a','b','c','d','e','a','b','c','d','e','a','b','c','d','e','a','b','c','d','e','a','b','c','d','e','a','b','c','d','e','a','b','c','d','e','a','b','c','d','e','a','b','c','d','e','a','b','c','d','e','a','b','c','d','e','a','b','c','d','e','a','b','c','d','e','a','b','c','d','e','a','b','c','d','e','a','b','c','d','e','a','b','c','d','e','a','b','c','d','e','a','b','c','d','e','a','b','c','d','e','a','b','c','d','e','a','b','c','d','e','a','b','c','d','e','a','b','c','d','e','a','b','c','d','e','a','b','c','d','e','a','b','c','d','e','a','b','c','d','e','a','b','c','d','e','a','b','c','d','e','a','b','c','d','e','a','b','c','d','e','a','b','c','d','e','a','b','c','d','e','a','b','c','d','e','a','b','c','d','e','a','b','c','d','e','a','b','c','d','e','a','b','c','d','e','a','b','c','d','e','a','b','c','d','e','a','b','c','d','e','a','b','c','d','e','a','b','c','d','e','a','b','c','d','e','a','b','c','d','e','a','b','c','d','e','a','b','c','d','e','a','b','c','d','e','a','b','c','d','e','a','b','c','d','e','a','b','c','d','e','a','b','c','d','e','a','b','c','d','e','a','b','c','d','e','a','b','c','d','e','a','b','c','d','e','a','b','c','d','e','a','b','c','d','e','a','b','c','d','e','a','b','c','d','e','a','b','c','d','e','a','b','c','d','e','a','b','c','d','e','a','b','c','d','e','a','b','c','d','e','a','b','c','d','e','a','b','c','d','e','a','b','c','d','e','a','b','c','d','e','a','b','c','d','e','a','b','c','d','e','a','b','c','d','e','a','b','c','d','e','a','b','c','d','e','a','b','c','d','e','a','b','c','d','e','a','b','c','d','e','a','b','c','d','e','a','b','c','d','e','a','b','c','d','e','a','b','c','d','e','a','b','c','d','e']\n",
    "y=[]\n",
    "for i in range(len(randList)):\n",
    "    x = randList[i]+''.join(randList[:i]+randList[i+1:])\n",
    "    y.append(x)\n",
    "#print(y)\n",
    "print(\"--- %s seconds ---\" % (time.time() - start_time))"
   ]
  },
  {
   "cell_type": "code",
   "execution_count": 82,
   "metadata": {},
   "outputs": [
    {
     "name": "stdout",
     "output_type": "stream",
     "text": [
      "2\n",
      "1\n",
      "3\n",
      "4\n",
      "2\n",
      "--- 0.0009009838104248047 seconds ---\n"
     ]
    }
   ],
   "source": [
    "import time\n",
    "start_time = time.time()\n",
    "def uniqueMorseRepresentations(words):\n",
    "    morse = [\".-\",\"-...\",\"-.-.\",\"-..\",\".\",\"..-.\",\"--.\",\"....\",\"..\",\".---\",\"-.-\",\".-..\",\"--\",\"-.\",\"---\",\".--.\",\"--.-\",\".-.\",\"...\",\"-\",\"..-\",\"...-\",\".--\",\"-..-\",\"-.--\",\"--..\"]\n",
    "    alphabet = ['a','b','c','d','e','f','g','h','i','j','k','l','m','n','o','p','q','r','s','t','u','v','w','x','y','z']\n",
    "    res = []\n",
    "    for word in words:\n",
    "        morseCode = ''\n",
    "        for i in word:\n",
    "            morseCode+=(morse[alphabet.index(i)])\n",
    "\n",
    "        if morseCode not in res:\n",
    "            res.append(morseCode)\n",
    "    return len(res)\n",
    "print(uniqueMorseRepresentations([\"gin\",\"zen\",\"gig\",\"msg\"]))\n",
    "print(uniqueMorseRepresentations(['a']))\n",
    "print(uniqueMorseRepresentations(['sdfads','adfssd','asdfsde']))\n",
    "print(uniqueMorseRepresentations(['adf','qer','ytu','asdf']))\n",
    "print(uniqueMorseRepresentations(['asd','asdf','asdf','asd']))\n",
    "print(\"--- %s seconds ---\" % (time.time() - start_time))"
   ]
  },
  {
   "cell_type": "code",
   "execution_count": 177,
   "metadata": {},
   "outputs": [
    {
     "name": "stdout",
     "output_type": "stream",
     "text": [
      "3\n",
      "1\n",
      "2\n",
      "4\n",
      "6\n",
      "--- 0.005188703536987305 seconds ---\n"
     ]
    }
   ],
   "source": [
    "import time\n",
    "start_time = time.time()\n",
    "def numJewelsInStones(jewels, stones):\n",
    "    cnt=0\n",
    "    for i in jewels:\n",
    "        cnt+= stones.count(i)\n",
    "    return cnt\n",
    "print(numJewelsInStones('aA','aAAbbbb'))\n",
    "print(numJewelsInStones('s','SSs'))\n",
    "print(numJewelsInStones('asdfadfweazdxvgseryiuqoiuIewrfdbjkfa','ADVGJKTYUHGKAZYUTIVKJGTYIJ'))\n",
    "print(numJewelsInStones('sffg','sdfg'))\n",
    "print(numJewelsInStones('aefpomscxvbne','asdfewa'))\n",
    "print(\"--- %s seconds ---\" % (time.time() - start_time))"
   ]
  },
  {
   "cell_type": "code",
   "execution_count": 179,
   "metadata": {},
   "outputs": [
    {
     "name": "stdout",
     "output_type": "stream",
     "text": [
      "3\n",
      "1\n",
      "2\n",
      "3\n",
      "6\n",
      "--- 0.0035300254821777344 seconds ---\n"
     ]
    }
   ],
   "source": [
    "import time\n",
    "start_time = time.time()\n",
    "def numJewelsInStones(jewels, stones):\n",
    "    return len(list(filter(lambda n: n in jewels,stones)))\n",
    "print(numJewelsInStones('aA','aAAbbbb'))\n",
    "print(numJewelsInStones('s','SSs'))\n",
    "print(numJewelsInStones('asdfadfweazdxvgseryiuqoIiuewrfdbjkfa','ADVGJKTYUHGKAZYUTIVKJGTYIJ'))\n",
    "print(numJewelsInStones('sffg','sdfg'))\n",
    "print(numJewelsInStones('aefpomscxvbne','asdfewaa'))\n",
    "print(\"--- %s seconds ---\" % (time.time() - start_time))"
   ]
  },
  {
   "cell_type": "code",
   "execution_count": 127,
   "metadata": {},
   "outputs": [
    {
     "name": "stdout",
     "output_type": "stream",
     "text": [
      "[48, 55, 66, 77]\n",
      "[1, 2, 3, 4, 5, 6, 7, 8, 9, 11, 12, 15, 22]\n",
      "[1, 2, 3, 4, 5, 6, 7, 8, 9, 11, 12, 15, 22, 24, 33, 36, 44, 48, 55, 66, 77, 88, 99]\n",
      "[]\n",
      "[22, 24, 33, 36, 44, 48, 55, 66, 77, 88]\n",
      "[1111, 1112, 1113, 1115, 1116]\n",
      "--- 0.00768280029296875 seconds ---\n"
     ]
    }
   ],
   "source": [
    "import time\n",
    "start_time = time.time()\n",
    "def selfDividingNumbers(left, right):\n",
    "    x = list(filter(lambda n: '0' not in str(n) ,range(left,right+1)))\n",
    "    # x= range(left,right+1)\n",
    "    # for i in x: if '0' str(i): skip\n",
    "    res = []\n",
    "    for i in x:\n",
    "        j = list(str(i))\n",
    "        y = list(map(lambda n: i%int(n) , j))\n",
    "        if max(y) == 0:\n",
    "           res.append(i)\n",
    "    return res\n",
    "print(selfDividingNumbers(47, 85))\n",
    "print(selfDividingNumbers(1,22))\n",
    "print(selfDividingNumbers(1,100))\n",
    "print(selfDividingNumbers(101, 106))\n",
    "print(selfDividingNumbers(22, 89))\n",
    "print(selfDividingNumbers(1000,1121))\n",
    "print(\"--- %s seconds ---\" % (time.time() - start_time))"
   ]
  },
  {
   "cell_type": "code",
   "execution_count": 260,
   "metadata": {},
   "outputs": [
    {
     "name": "stdout",
     "output_type": "stream",
     "text": [
      "[48, 55, 66, 77]\n",
      "[1, 2, 3, 4, 5, 6, 7, 8, 9, 11, 12, 15, 22]\n",
      "[1, 2, 3, 4, 5, 6, 7, 8, 9, 11, 12, 15, 22, 24, 33, 36, 44, 48, 55, 66, 77, 88, 99]\n",
      "[]\n",
      "[22, 24, 33, 36, 44, 48, 55, 66, 77, 88]\n",
      "[1111, 1112, 1113, 1115, 1116]\n",
      "--- 0.0023429393768310547 seconds ---\n"
     ]
    }
   ],
   "source": [
    "# this code is 3x faster than the one above.\n",
    "# both the map and the filter above seem to require a lot of operations and high probably time \n",
    "# So they I try to avoid them as much as possible.\n",
    "import time\n",
    "start_time = time.time()\n",
    "def selfDividingNumbers(left, right):\n",
    "    res = []\n",
    "    for i in range(left,right+1):\n",
    "        if '0' not in str(i):\n",
    "            j = list(str(i)) # \n",
    "            if any(i%int(b)!=0 for b in j ):\n",
    "                continue\n",
    "            else:\n",
    "                res.append(i)\n",
    "    return res\n",
    "print(selfDividingNumbers(47, 85))\n",
    "print(selfDividingNumbers(1,22))\n",
    "print(selfDividingNumbers(1,100))\n",
    "print(selfDividingNumbers(101, 106))\n",
    "print(selfDividingNumbers(22, 89))\n",
    "print(selfDividingNumbers(1000,1121))\n",
    "print(\"--- %s seconds ---\" % (time.time() - start_time))"
   ]
  },
  {
   "cell_type": "code",
   "execution_count": 313,
   "metadata": {},
   "outputs": [
    {
     "name": "stdout",
     "output_type": "stream",
     "text": [
      "True\n",
      "True\n",
      "False\n",
      "--- 0.004687070846557617 seconds ---\n"
     ]
    }
   ],
   "source": [
    "import time\n",
    "start_time = time.time()\n",
    "def judgeCircle(moves):\n",
    "    verticals = 0\n",
    "    horizontals = 0\n",
    "    for i in moves:\n",
    "        if i == 'U':\n",
    "            verticals+= 1\n",
    "    for i in moves:\n",
    "        if i == 'D':\n",
    "            verticals -=1\n",
    "    for i in moves:\n",
    "        if i == 'L':\n",
    "            horizontals += 1\n",
    "    for i in moves:\n",
    "        if i == 'R':\n",
    "            horizontals -=1\n",
    "    if not verticals and not horizontals:\n",
    "        return True\n",
    "    return False\n",
    "print(judgeCircle('ULURRURDDLLD'))\n",
    "print(judgeCircle('UD'))\n",
    "print(judgeCircle('LL'))\n",
    "print(\"--- %s seconds ---\" % (time.time() - start_time))"
   ]
  },
  {
   "cell_type": "code",
   "execution_count": 301,
   "metadata": {},
   "outputs": [
    {
     "name": "stdout",
     "output_type": "stream",
     "text": [
      "True\n",
      "True\n",
      "False\n",
      "--- 0.0007219314575195312 seconds ---\n"
     ]
    }
   ],
   "source": [
    "# This is twice as fast as the code above.\n",
    "#That could be explained by the fact the .count iterates through the entire list but count only one element and ignores every other element\n",
    "#while in the code above, each element could potentially be compared up to 4 elements before the count\n",
    "# So the worst-case scenario if all elements were 'R' means the complexity = O(n^2), quadratic. While this code below is more of a linear O(n)*n\n",
    "# Another is that the built-in function .count() is optimized and thus runs faster than the unpythonic code above.\n",
    "import time\n",
    "start_time = time.time()\n",
    "def judgeCircle(moves):\n",
    "    return moves.count('U')==moves.count('D') and moves.count('L')==moves.count('R')\n",
    "print(judgeCircle('ULURRURDDLLD'))\n",
    "print(judgeCircle('UD'))\n",
    "print(judgeCircle('LL'))\n",
    "print(\"--- %s seconds ---\" % (time.time() - start_time))"
   ]
  },
  {
   "cell_type": "code",
   "execution_count": 370,
   "metadata": {},
   "outputs": [
    {
     "name": "stdout",
     "output_type": "stream",
     "text": [
      "[3, -1]\n",
      "[-1, 3, -1]\n",
      "[-1, -1, 90, -1, 90, 90]\n",
      "[-1]\n"
     ]
    }
   ],
   "source": [
    "def nextGreaterElement(nums1, nums2):\n",
    "    res = [-1]*len(nums1)\n",
    "    for j,i in enumerate(nums1):\n",
    "        x = nums2[nums2.index(i)+1:]\n",
    "        for n in x:\n",
    "            if n > i:\n",
    "                res[j] = n\n",
    "                break\n",
    "    return res\n",
    "\n",
    "print(nextGreaterElement([2,4],[1,2,3,4]))\n",
    "print(nextGreaterElement([4,1,2],[1,3,4,2]))\n",
    "print(nextGreaterElement([90,26,1,4,2,2],[2,1,90,1,26,25,4]))\n",
    "print(nextGreaterElement([45],[45]))\n"
   ]
  },
  {
   "cell_type": "code",
   "execution_count": 410,
   "metadata": {},
   "outputs": [
    {
     "name": "stdout",
     "output_type": "stream",
     "text": [
      "3\n",
      "--- 0.0012028217315673828 seconds ---\n"
     ]
    }
   ],
   "source": [
    "import time\n",
    "start_time = time.time()\n",
    "def maxProfit(prices):\n",
    "    if prices == sorted(prices, reverse=True):\n",
    "        return 0\n",
    "    score = 0\n",
    "    for i in prices:\n",
    "        rem = prices[prices.index(i)+1:]\n",
    "        for j in rem:\n",
    "            if j-i > score:\n",
    "                score = (j-i)\n",
    "    return score \n",
    "print(maxProfit([2,1,4,2]))\n",
    "print(\"--- %s seconds ---\" % (time.time() - start_time))"
   ]
  },
  {
   "cell_type": "code",
   "execution_count": 427,
   "metadata": {},
   "outputs": [
    {
     "name": "stdout",
     "output_type": "stream",
     "text": [
      "96\n",
      "76\n",
      "82\n",
      "40\n",
      "87\n",
      "86\n",
      "--- 0.002998828887939453 seconds ---\n"
     ]
    }
   ],
   "source": [
    "# This code is my retrial of the code above. The code solves the problem however takes too long to execute depending on the dataset.\n",
    "# the complexity of the code is factorial O(n!) since it only takes into account the values to the right of the current indexed values.\n",
    "# So the code below, thus executing a lot of operations, is of a Linear complexity O(n) and runs 49x faster than the one above \n",
    "# (with a 10,000+ elements in the test dataset)\n",
    "# This present can definitely be improved at least to consume less space and runs faster\n",
    "   \n",
    "import time\n",
    "start_time = time.time()\n",
    "def maxProfit(prices):\n",
    "    bestbuy = prices[0]\n",
    "    holder = prices[0]\n",
    "    profit = 0\n",
    "\n",
    "    for i in prices[1:]:\n",
    "        currentProfit = i - bestbuy #1\n",
    "        if i < holder:\n",
    "            holder = i\n",
    "        if (i - holder) > currentProfit:\n",
    "            bestbuy = prices[prices.index(i)]\n",
    "        if currentProfit > profit:\n",
    "            profit = currentProfit\n",
    "    return profit\n",
    "print(maxProfit([3, 99, 5, 31, 33, 60, 66, 33, 72, 55, 95]))\n",
    "print(maxProfit([95, 81, 59, 19, 16, 92, 74, 67, 20, 56, 7]))\n",
    "print(maxProfit([7, 23, 56, 78, 77, 81, 89, 84, 89, 81, 63]))\n",
    "print(maxProfit([91, 27, 47, 38, 32, 41, 67, 23, 54, 38, 29]))\n",
    "print(maxProfit([29, 62, 26, 20, 18, 49, 96, 36, 45, 4, 91]))\n",
    "print(maxProfit([13, 81, 99, 74, 86, 54, 11, 56, 97, 90, 38]))\n",
    "print(\"--- %s seconds ---\" % (time.time() - start_time))      "
   ]
  },
  {
   "cell_type": "code",
   "execution_count": 432,
   "metadata": {},
   "outputs": [
    {
     "name": "stdout",
     "output_type": "stream",
     "text": [
      "96\n",
      "76\n",
      "82\n",
      "40\n",
      "87\n",
      "86\n",
      "--- 0.0008461475372314453 seconds ---\n"
     ]
    }
   ],
   "source": [
    "# This code is inspired hugely by a published solution. Just as the solution above, it is a Linear O(n) solution that consumes way less space\n",
    "# and runs 33x faster than the already faster soution above with the same dataset.\n",
    "# There is a lot to learn about the simplicity and thinking process of this code.\n",
    "import time\n",
    "start_time = time.time()\n",
    "def maxProfit(prices):\n",
    "    bestbuy = prices[0]\n",
    "    profit = 0\n",
    "    for i in prices:\n",
    "        if i < bestbuy:\n",
    "            bestbuy = i\n",
    "        if profit < i-bestbuy:\n",
    "            profit = i-bestbuy\n",
    "    return profit\n",
    "print(maxProfit([3, 99, 5, 31, 33, 60, 66, 33, 72, 55, 95]))\n",
    "print(maxProfit([95, 81, 59, 19, 16, 92, 74, 67, 20, 56, 7]))\n",
    "print(maxProfit([7, 23, 56, 78, 77, 81, 89, 84, 89, 81, 63]))\n",
    "print(maxProfit([91, 27, 47, 38, 32, 41, 67, 23, 54, 38, 29]))\n",
    "print(maxProfit([29, 62, 26, 20, 18, 49, 96, 36, 45, 4, 91]))\n",
    "print(maxProfit([13, 81, 99, 74, 86, 54, 11, 56, 97, 90, 38]))\n",
    "print(\"--- %s seconds ---\" % (time.time() - start_time))   "
   ]
  },
  {
   "cell_type": "code",
   "execution_count": 453,
   "metadata": {},
   "outputs": [
    {
     "name": "stdout",
     "output_type": "stream",
     "text": [
      "2\n",
      "4\n",
      "4\n",
      "4\n",
      "4\n",
      "4\n",
      "3\n",
      "2\n",
      "1\n"
     ]
    }
   ],
   "source": [
    "def distributeCandies(candyType):\n",
    "    if len(set(candyType)) > len(candyType)//2:\n",
    "        return len(candyType)//2\n",
    "    return len(set(candyType))\n",
    "\n",
    "print(distributeCandies([1,1,1,2,2,2]))\n",
    "print(distributeCandies([2, 6, 0, 1, 3, 3, 4, 3]))\n",
    "print(distributeCandies([3, 1, 4, 6, 2, 5, 6, 2]))\n",
    "print(distributeCandies([2, 5, 6, 5, 5, 3, 0, 2]))\n",
    "print(distributeCandies([2, 3, 6, 6, 3, 0, 5, 1]))\n",
    "print(distributeCandies([1, 6, 3, 3, 2, 0, 3, 6]))\n",
    "print(distributeCandies([1,1,2,2,3,3]))\n",
    "print(distributeCandies([1,1,2,3]))\n",
    "print(distributeCandies([6,6,6,6]))\n"
   ]
  },
  {
   "cell_type": "code",
   "execution_count": 512,
   "metadata": {},
   "outputs": [
    {
     "name": "stdout",
     "output_type": "stream",
     "text": [
      "['Kebab', 'KFC']\n",
      "['a', 'b', 'c']\n",
      "['Shogun']\n",
      "['a', 'b', 'c', 'd']\n"
     ]
    }
   ],
   "source": [
    "def findRestaurant(list1, list2):\n",
    "    holder = list(filter(lambda n: n in list2, list1)) \n",
    "    x = list1.index(holder[0])+list2.index(holder[0])\n",
    "    res = []\n",
    "    for i in holder:\n",
    "        if list1.index(i)+list2.index(i) < x:\n",
    "            x = list1.index(i)+list2.index(i)\n",
    "            res = []\n",
    "            res.append(i)\n",
    "        elif list1.index(i)+list2.index(i) == x:\n",
    "            res.append(i)\n",
    "    return res\n",
    "print(findRestaurant([\"Shogun\",\"Tapioca Express\",'Kebab',\"Burger King\",\"KFC\",'Mc'], ['KFC',\"Piatti\",'Kebab',\"The Grill at Torrey Pines\",\"Hungry Hunter Steakhouse\",\"Shogun\",'KFC','Mc']))\n",
    "print(findRestaurant(['a','b','c'],['c','b','a']))\n",
    "print(findRestaurant([\"Shogun\",\"Tapioca Express\",'Kebab',\"Burger King\",\"KFC\",'Mc'], ['KFC',\"Piatti\",'Kebab',\"Shogun\",\"The Grill at Torrey Pines\",\"Hungry Hunter Steakhouse\",'KFC','Mc']))\n",
    "print(findRestaurant(['e','a','b','c','d','f'],['d','c','b','a','f','e']))"
   ]
  },
  {
   "cell_type": "code",
   "execution_count": 523,
   "metadata": {},
   "outputs": [
    {
     "name": "stdout",
     "output_type": "stream",
     "text": [
      "['Kebab', 'KFC']\n",
      "['a', 'b', 'c']\n",
      "['Shogun']\n",
      "['a', 'b', 'c', 'd']\n"
     ]
    }
   ],
   "source": [
    "def findRestaurant(list1, list2):\n",
    "    dict = {}\n",
    "    for i in list1:\n",
    "        if i in list2:\n",
    "            dict[i] = list1.index(i)+list2.index(i)\n",
    "    minval = min(dict.values())\n",
    "    return list(filter(lambda x: dict[x]==minval, dict))\n",
    "\n",
    "print(findRestaurant([\"Shogun\",\"Tapioca Express\",'Kebab',\"Burger King\",\"KFC\",'Mc'], ['KFC',\"Piatti\",'Kebab',\"The Grill at Torrey Pines\",\"Hungry Hunter Steakhouse\",\"Shogun\",'KFC','Mc']))\n",
    "print(findRestaurant(['a','b','c'],['c','b','a']))\n",
    "print(findRestaurant([\"Shogun\",\"Tapioca Express\",'Kebab',\"Burger King\",\"KFC\",'Mc'], ['KFC',\"Piatti\",'Kebab',\"Shogun\",\"The Grill at Torrey Pines\",\"Hungry Hunter Steakhouse\",'KFC','Mc']))\n",
    "print(findRestaurant(['e','a','b','c','d','f'],['d','c','b','a','f','e']))"
   ]
  },
  {
   "cell_type": "code",
   "execution_count": 524,
   "metadata": {},
   "outputs": [
    {
     "name": "stdout",
     "output_type": "stream",
     "text": [
      "['Kebab', 'KFC']\n",
      "['a', 'b', 'c']\n",
      "['Shogun']\n",
      "['a', 'b', 'c', 'd']\n"
     ]
    }
   ],
   "source": [
    "def findRestaurant(list1, list2):\n",
    "    x = float('inf')\n",
    "    res = []\n",
    "\n",
    "    for i in list1:\n",
    "        if i in list2 and list1.index(i)+list2.index(i) == x:\n",
    "            res.append(i)\n",
    "        elif i in list2 and list1.index(i)+list2.index(i) < x:\n",
    "            x = list1.index(i)+list2.index(i)\n",
    "            res =[]\n",
    "            res.append(i)\n",
    "    return res\n",
    "print(findRestaurant([\"Shogun\",\"Tapioca Express\",'Kebab',\"Burger King\",\"KFC\",'Mc'], ['KFC',\"Piatti\",'Kebab',\"The Grill at Torrey Pines\",\"Hungry Hunter Steakhouse\",\"Shogun\",'KFC','Mc']))\n",
    "print(findRestaurant(['a','b','c'],['c','b','a']))\n",
    "print(findRestaurant([\"Shogun\",\"Tapioca Express\",'Kebab',\"Burger King\",\"KFC\",'Mc'], ['KFC',\"Piatti\",'Kebab',\"Shogun\",\"The Grill at Torrey Pines\",\"Hungry Hunter Steakhouse\",'KFC','Mc']))\n",
    "print(findRestaurant(['e','a','b','c','d','f'],['d','c','b','a','f','e']))"
   ]
  },
  {
   "cell_type": "code",
   "execution_count": 605,
   "metadata": {},
   "outputs": [
    {
     "name": "stdout",
     "output_type": "stream",
     "text": [
      "True\n",
      "False\n",
      "False\n",
      "False\n",
      "True\n",
      "True\n",
      "True\n",
      "True\n",
      "True\n"
     ]
    }
   ],
   "source": [
    "def canPlaceFlowers(flowerbed, n):\n",
    "    flowerbed.insert(0,0)\n",
    "    flowerbed.append(0)\n",
    "    res = 0\n",
    "    for i,j in enumerate(flowerbed):\n",
    "        if i == 0:\n",
    "            continue\n",
    "        if i == len(flowerbed)-1:\n",
    "            continue\n",
    "        if j == 0 and flowerbed[i-1] == 0 and flowerbed[i+1]==0:\n",
    "            flowerbed[i] = 2\n",
    "            res+=1\n",
    "    return n <= res\n",
    "print(canPlaceFlowers([1,0,0,0,1],1))\n",
    "print(canPlaceFlowers([1,0,0,0,1],2))\n",
    "print(canPlaceFlowers([0,0,1,0,1,0,0,0,1,0,0,0,1,0,1,0,1,0,0,0,1,0,0],6))\n",
    "print(canPlaceFlowers([0, 0, 1, 1, 0, 1, 1, 0, 0, 0, 1, 0, 1, 0, 1, 0, 0, 1, 0, 0],4))\n",
    "print(canPlaceFlowers([1, 0, 1, 0, 0, 0, 1, 0, 0, 0, 1, 1, 0, 1, 1, 0, 1, 1, 0, 0],3))\n",
    "print(canPlaceFlowers([1, 1, 0, 0, 0, 1, 1, 0, 0, 1, 1, 0, 0, 0, 1, 1, 1, 1, 1, 1],2))\n",
    "print(canPlaceFlowers([1,0,0,0,0,0,1],2))\n",
    "print(canPlaceFlowers([1,0,0,0,0,0,0,0,1],3))\n",
    "print(canPlaceFlowers([0],1))"
   ]
  },
  {
   "cell_type": "code",
   "execution_count": 620,
   "metadata": {},
   "outputs": [
    {
     "data": {
      "text/plain": [
       "2"
      ]
     },
     "execution_count": 620,
     "metadata": {},
     "output_type": "execute_result"
    }
   ],
   "source": [
    "# this code reflects a binary search with a logarithmic complexity O(log n)\n",
    "def guess(num):\n",
    "    pick = 2\n",
    "    if num == pick:\n",
    "        return 0\n",
    "    elif num < pick:\n",
    "        return 1\n",
    "    else:\n",
    "        return -1\n",
    "def guessNumber(n):\n",
    "    minval = 1\n",
    "    maxval = n\n",
    "    while True:\n",
    "        centerPoint = (maxval+minval)//2\n",
    "        if guess(centerPoint) == 0: return centerPoint\n",
    "        elif guess(centerPoint) == -1:\n",
    "            maxval = centerPoint\n",
    "        else:\n",
    "            minval = centerPoint\n",
    "        minval-=1\n",
    "        maxval+=1\n",
    "guessNumber(2)\n"
   ]
  },
  {
   "cell_type": "code",
   "execution_count": 634,
   "metadata": {},
   "outputs": [
    {
     "name": "stdout",
     "output_type": "stream",
     "text": [
      "1 1 2\n"
     ]
    },
    {
     "data": {
      "text/plain": [
       "2"
      ]
     },
     "execution_count": 634,
     "metadata": {},
     "output_type": "execute_result"
    }
   ],
   "source": [
    "#[1,2,3,4,5,6,7]\n",
    "def isBadVersion(version):\n",
    "    bv = 2\n",
    "    if version >= bv:\n",
    "        return True\n",
    "    return False\n",
    "def firstBadVersion(n):\n",
    "    if n == 1:\n",
    "        return 1\n",
    "    firstVersion = 1\n",
    "    lastVersion = n\n",
    "    while True:\n",
    "        midPoint = (firstVersion+lastVersion)//2\n",
    "        print(firstVersion,midPoint,lastVersion)\n",
    "        if isBadVersion(midPoint) == True and isBadVersion(midPoint - 1) == False:\n",
    "            return midPoint\n",
    "        elif isBadVersion(midPoint) == False and isBadVersion(midPoint+1) == True:\n",
    "            return midPoint+1\n",
    "        elif isBadVersion(midPoint) == True and isBadVersion(midPoint - 1) == True:\n",
    "            lastVersion = midPoint\n",
    "        elif isBadVersion(midPoint) == False and isBadVersion(midPoint+1) == False:\n",
    "            firstVersion = midPoint\n",
    "firstBadVersion(2)"
   ]
  },
  {
   "cell_type": "code",
   "execution_count": 640,
   "metadata": {},
   "outputs": [
    {
     "name": "stdout",
     "output_type": "stream",
     "text": [
      "1 2 3\n"
     ]
    },
    {
     "data": {
      "text/plain": [
       "3"
      ]
     },
     "execution_count": 640,
     "metadata": {},
     "output_type": "execute_result"
    }
   ],
   "source": [
    "# if i == True so i+1 is True\n",
    "#if i == False so i-1 is False\n",
    "#[1,2,3,4,5,6,7]\n",
    "def isBadVersion(version):\n",
    "    bv = 3\n",
    "    if version >= bv:\n",
    "        return True\n",
    "    return False\n",
    "def firstBadVersion(n):\n",
    "    if n == 1:\n",
    "        return 1\n",
    "    firstVersion = 1\n",
    "    lastVersion = n\n",
    "    while True:\n",
    "        midPoint = (firstVersion+lastVersion)//2\n",
    "        print(firstVersion,midPoint,lastVersion)\n",
    "        if isBadVersion(midPoint) == True and isBadVersion(midPoint - 1) == False:\n",
    "            return midPoint\n",
    "        elif isBadVersion(midPoint) == False and isBadVersion(midPoint+1) == True:\n",
    "            return midPoint+1\n",
    "        elif isBadVersion(midPoint) == True:\n",
    "            lastVersion = midPoint+1\n",
    "        elif isBadVersion(midPoint) == False:\n",
    "            firstVersion = midPoint-1\n",
    "firstBadVersion(3)"
   ]
  },
  {
   "cell_type": "code",
   "execution_count": 695,
   "metadata": {},
   "outputs": [
    {
     "name": "stdout",
     "output_type": "stream",
     "text": [
      "0\n",
      "2\n",
      "-1\n",
      "18\n",
      "3\n"
     ]
    }
   ],
   "source": [
    "def firstUniqChar(s):\n",
    "    s = list(s)\n",
    "    x = {}\n",
    "    v = float('inf ')\n",
    "    for i in s:\n",
    "        if i not in x:\n",
    "            x[i] = s.index(i)\n",
    "        else:\n",
    "            x[i] = v\n",
    "    if min(x.values()) == v:\n",
    "        return -1\n",
    "    return min(x.values())\n",
    "print(firstUniqChar(\"leetcode\"))\n",
    "print(firstUniqChar(\"loveleetcode\"))\n",
    "print(firstUniqChar(\"aabb\"))\n",
    "print(firstUniqChar('sdgrgsfdgetrsfdbhdnhdsrtsfdhye5wrgfdsfbsfdg'))\n",
    "print(firstUniqChar('sfgtresfdhsgsdfhsfgsfdgsfghjjplowenmzc'))"
   ]
  },
  {
   "cell_type": "code",
   "execution_count": 703,
   "metadata": {},
   "outputs": [],
   "source": [
    "def isMultipleOfThree(n):\n",
    "    n = sum(int(i) for i in str(n))\n",
    "    if n == 3 or n==6 or n == 9:\n",
    "        return True\n",
    "    return False"
   ]
  },
  {
   "cell_type": "code",
   "execution_count": 727,
   "metadata": {},
   "outputs": [
    {
     "data": {
      "text/plain": [
       "True"
      ]
     },
     "execution_count": 727,
     "metadata": {},
     "output_type": "execute_result"
    }
   ],
   "source": [
    "def isPowerOfThree(n): # Only up to 32 bits\n",
    "    if n <= 0:\n",
    "        return False\n",
    "    return (3**19) % n == 0\n",
    "isPowerOfThree(3)"
   ]
  },
  {
   "cell_type": "code",
   "execution_count": 717,
   "metadata": {},
   "outputs": [
    {
     "data": {
      "text/plain": [
       "True"
      ]
     },
     "execution_count": 717,
     "metadata": {},
     "output_type": "execute_result"
    }
   ],
   "source": [
    "def isPowerOfThree(n):\n",
    "    if (n <= 0):\n",
    "        return False\n",
    "    if (n % 3 == 0):\n",
    "        return isPowerOfThree(n // 3)\n",
    "    if (n == 1):\n",
    "        return True\n",
    "    return False\n",
    "isPowerOfThree(1)"
   ]
  },
  {
   "cell_type": "code",
   "execution_count": 765,
   "metadata": {},
   "outputs": [
    {
     "name": "stdout",
     "output_type": "stream",
     "text": [
      "[9, 4, 9, 8, 4, 0, 3, 3, 4, 2, 3, 4, 4, 4, 4, 4, 5, 5, 2, 4]\n",
      "[2, 2]\n",
      "[4, 9]\n",
      "[]\n",
      "[0]\n",
      "[0, 0, 0, 0, 0, 0]\n"
     ]
    }
   ],
   "source": [
    "x=[4,9,5,4,9,0,4,6,8,9,4,2,3,45,6,7,6,4,4,6,3,4,5,4,3,5,34,2,45,4,5,4,5,7,8,6,5,0]\n",
    "y=[9,4,9,8,4,0,3,3,4,2,3,4,4,4,3,4,3,3,3,4,5,67,5,3,2,4]\n",
    "def intersect(nums1, nums2):\n",
    "    f= float('inf')\n",
    "    z =[]\n",
    "    for i in nums1:\n",
    "        if i in nums2:\n",
    "            z.append(i)\n",
    "            #nums1[nums1.index(i)] = f\n",
    "            nums2[nums2.index(i)] = f\n",
    "    return z\n",
    "print(intersect([9,4,9,8,4,0,3,3,4,2,3,4,4,4,3,4,3,3,3,4,5,67,5,3,2,4],[4,9,5,4,9,0,4,6,8,9,4,2,3,45,6,7,6,4,4,6,3,4,5,4,3,5,34,2,45,4,5,4,5,7,8,6,5,0]))\n",
    "print(intersect([1,2,2,1],[2,2]))\n",
    "print(intersect([4,9,5],[9,4,9,8,4]))\n",
    "print(intersect([0,1],[3]))\n",
    "print(intersect([0],[0]))\n",
    "print(intersect([0,0,0,0,0,0],[0,0,0,0,0,0,0,0]))"
   ]
  },
  {
   "cell_type": "code",
   "execution_count": 764,
   "metadata": {},
   "outputs": [
    {
     "name": "stdout",
     "output_type": "stream",
     "text": [
      "[9, 9, 4, 4, 4, 4, 4, 4, 4, 4, 4, 8, 0, 3, 3, 3, 2, 2, 5, 5]\n",
      "[2, 2]\n",
      "[4, 9]\n",
      "[]\n",
      "[0]\n",
      "[0, 0, 0, 0, 0, 0]\n"
     ]
    }
   ],
   "source": [
    "# the Counter function from collections allows you to how many times an elements is present in a list\n",
    "# Using the intersection symbol (&), we can obtain elements present in two different lists and their count\n",
    "from collections import Counter\n",
    "def intersect(nums1, nums2):\n",
    "    return list((Counter(nums1)&Counter(nums2)).elements())\n",
    "print(intersect([9,4,9,8,4,0,3,3,4,2,3,4,4,4,3,4,3,3,3,4,5,67,5,3,2,4],[4,9,5,4,9,0,4,6,8,9,4,2,3,45,6,7,6,4,4,6,3,4,5,4,3,5,34,2,45,4,5,4,5,7,8,6,5,0]))\n",
    "print(intersect([1,2,2,1],[2,2]))\n",
    "print(intersect([4,9,5],[9,4,9,8,4]))\n",
    "print(intersect([0,1],[3]))\n",
    "print(intersect([0],[0]))\n",
    "print(intersect([0,0,0,0,0,0],[0,0,0,0,0,0,0,0]))"
   ]
  },
  {
   "cell_type": "code",
   "execution_count": 125,
   "metadata": {},
   "outputs": [
    {
     "name": "stdout",
     "output_type": "stream",
     "text": [
      "True\n",
      "False\n",
      "True\n",
      "True\n",
      "True\n",
      "False\n",
      "False\n",
      "True\n",
      "True\n",
      "False\n"
     ]
    }
   ],
   "source": [
    "def containsNearbyDuplicate(nums, k):\n",
    "    for i,f in enumerate(nums):\n",
    "        if f in nums[i+1:i+k+1]:\n",
    "            return True\n",
    "    return False\n",
    "print(containsNearbyDuplicate([1,2,3,1],3))\n",
    "print(containsNearbyDuplicate([1,2,3,1,2,3],2))\n",
    "print(containsNearbyDuplicate([1,0,0,2,0,0,0,0,2],5))\n",
    "print(containsNearbyDuplicate([1,0,1,0,4,0,1,0,1,5,6,9,6,6,6],4))\n",
    "print(containsNearbyDuplicate([5,5],7))\n",
    "print(containsNearbyDuplicate([0],0))\n",
    "print(containsNearbyDuplicate([1,0,1],1))\n",
    "print(containsNearbyDuplicate([10,10],10))\n",
    "print(containsNearbyDuplicate([2,0,0,2],3))\n",
    "print(containsNearbyDuplicate([1],1))"
   ]
  },
  {
   "cell_type": "code",
   "execution_count": 60,
   "metadata": {},
   "outputs": [
    {
     "name": "stdout",
     "output_type": "stream",
     "text": [
      "[['name' 'day' 'value']\n",
      " ['a' 'mon' '100']\n",
      " ['a' 'tue' '200']\n",
      " ['a' 'wed' '300']\n",
      " ['a' '2022' '800']\n",
      " ['b' 'mon' '200']\n",
      " ['b' 'tue' '300']\n",
      " ['b' 'wed' '499']\n",
      " ['b' '2022' '900']]\n"
     ]
    }
   ],
   "source": [
    "from numpy import *\n",
    "\n",
    "x = [['name','day','value'],['a','mon',100],\n",
    "    ['a','tue',200],['a','wed',300],['b','mon',200],\n",
    "    ['b','tue',300],['b','wed',499]]\n",
    "y = [['name','day','value'],['a',2022,800],['b',2022,900]]\n",
    "\n",
    "a= insert(x,[4],y[1],0)\n",
    "a = insert(a,[8],y[2],0)\n",
    "a = reshape(a,(9,3))\n",
    "print(a)"
   ]
  },
  {
   "cell_type": "code",
   "execution_count": 129,
   "metadata": {},
   "outputs": [
    {
     "name": "stdout",
     "output_type": "stream",
     "text": [
      "True\n",
      "False\n",
      "True\n",
      "True\n",
      "True\n",
      "False\n",
      "False\n",
      "True\n",
      "True\n",
      "False\n"
     ]
    }
   ],
   "source": [
    "\n",
    "def containsNearbyDuplicate(nums, k):\n",
    "    x = {}\n",
    "    for i,j in enumerate(nums):\n",
    "        if j in x and (i - x[j]) <= k:\n",
    "            return True\n",
    "        else:\n",
    "            x[j] =i\n",
    "    return False \n",
    "\n",
    "print(containsNearbyDuplicate([1,2,3,1],3))\n",
    "print(containsNearbyDuplicate([1,2,3,1,2,3],2))\n",
    "print(containsNearbyDuplicate([1,0,0,2,0,0,0,0,2],5))\n",
    "print(containsNearbyDuplicate([1,0,1,0,4,0,1,0,1,5,6,9,6,6,6],4))\n",
    "print(containsNearbyDuplicate([5,5],7))\n",
    "print(containsNearbyDuplicate([0],0))\n",
    "print(containsNearbyDuplicate([1,0,1],1))\n",
    "print(containsNearbyDuplicate([10,10],10))\n",
    "print(containsNearbyDuplicate([2,0,0,2],3))\n",
    "print(containsNearbyDuplicate([1],1))"
   ]
  },
  {
   "cell_type": "code",
   "execution_count": 153,
   "metadata": {},
   "outputs": [
    {
     "data": {
      "text/plain": [
       "-1"
      ]
     },
     "execution_count": 153,
     "metadata": {},
     "output_type": "execute_result"
    }
   ],
   "source": [
    "def search(nums, target):\n",
    "    minpoint = nums[0]\n",
    "    maxpoint = nums[-1]\n",
    "    if target not in nums:\n",
    "        return -1\n",
    "    while True:\n",
    "        midpoint = (maxpoint+minpoint)//2\n",
    "        if target == midpoint:\n",
    "            return nums.index(midpoint)\n",
    "        elif target == maxpoint:\n",
    "            return nums.index(maxpoint)\n",
    "        elif target > midpoint:\n",
    "            minpoint = midpoint\n",
    "        else:\n",
    "            maxpoint = midpoint\n",
    "\n",
    "search([-1,0,3,5,9,12],2)\n"
   ]
  },
  {
   "cell_type": "code",
   "execution_count": 31,
   "metadata": {},
   "outputs": [
    {
     "name": "stdout",
     "output_type": "stream",
     "text": [
      "3\n",
      "1\n",
      "1\n",
      "0\n",
      "0\n",
      "2\n",
      "2\n",
      "0\n",
      "0\n"
     ]
    }
   ],
   "source": [
    "def peakIndexInMountainArray(arr):\n",
    "    x = float('-inf')\n",
    "    for i,j in enumerate(arr):\n",
    "        if j > x:\n",
    "            x=j\n",
    "        else:\n",
    "            return i-1\n",
    "print(peakIndexInMountainArray([1,2,3,4,4,4,4,4,3,2,1]))\n",
    "print(peakIndexInMountainArray([0,1,0]))\n",
    "print(peakIndexInMountainArray([0,2,1,0]))\n",
    "print(peakIndexInMountainArray([0,0,0]))\n",
    "print(peakIndexInMountainArray([1,1,1]))\n",
    "print(peakIndexInMountainArray([0,2,67,2,1]))\n",
    "print(peakIndexInMountainArray([0,1,90,5,4,3,2,1,0]))\n",
    "print(peakIndexInMountainArray([89,89,90,90]))\n",
    "print(peakIndexInMountainArray([4,4,0,0]))"
   ]
  },
  {
   "cell_type": "code",
   "execution_count": 28,
   "metadata": {},
   "outputs": [
    {
     "name": "stdout",
     "output_type": "stream",
     "text": [
      "0 0 6 1\n",
      "1 1 8 1\n"
     ]
    },
    {
     "data": {
      "text/plain": [
       "1"
      ]
     },
     "execution_count": 28,
     "metadata": {},
     "output_type": "execute_result"
    }
   ],
   "source": [
    "#need to review and much deeply apprehend this code\n",
    "\n",
    "def searchInsert(nums, target):\n",
    "\n",
    "    minIndex = 0\n",
    "    maxIndex = len(nums)-1\n",
    "\n",
    "    while minIndex <= maxIndex:\n",
    "        midIndex = minIndex + (maxIndex - minIndex) //2\n",
    "        midVal = nums[midIndex]\n",
    "\n",
    "        print(minIndex,midIndex,midVal,maxIndex)\n",
    "        if target == midVal:\n",
    "            return midIndex\n",
    "        elif target < midVal:\n",
    "            maxIndex = midIndex-1\n",
    "        else:\n",
    "            minIndex = midIndex+1\n",
    "        \n",
    "    return minIndex\n",
    "searchInsert([6,8],7)"
   ]
  },
  {
   "cell_type": "code",
   "execution_count": 125,
   "metadata": {},
   "outputs": [
    {
     "name": "stdout",
     "output_type": "stream",
     "text": [
      "--- 0.28627800941467285 seconds ---\n"
     ]
    }
   ],
   "source": [
    "import time\n",
    "start_time = time.time()\n",
    "def isPerfectSquare(num):\n",
    "    minVal = 0\n",
    "    maxVal = num\n",
    "    while minVal <= maxVal:\n",
    "        pSquare = minVal + (maxVal - minVal)//2\n",
    "        if pSquare*pSquare == num:\n",
    "            return True\n",
    "        elif pSquare*pSquare>num:\n",
    "            maxVal = pSquare - 1\n",
    "        elif pSquare*pSquare<num:\n",
    "            minVal = pSquare + 1\n",
    "    return False\n",
    "\n",
    "isPerfectSquare(110520139558973549697651156021177289024481388376535890525882120822924002624678639724791877042133695290836277272827008024120257463177777458904446363115754930683679555438123692258309547011434306625221860854959017320719614946929324430008497628536173545516431835313857462070587786934606263660546732863586847298944033524893870398027091957590231165505679945756639604171388125655465335981566195088761886879190110061079550324723437551118252194462719209215460383759741342730540923427268572753665845837270608522840109518510513541975592870294856049459714365285435277770911480846777515487811204271115985285766619287504923040268083578882104927572760265732669752399148748531797271164161823290417498711845689463499855783580837326758122561779594154679962523048538557678991245988441452357094437888116627238961521164052226013385945097045504147781177147557894700975613274281935383729631021395489541020294172169710068818308742722205590831443938224548536469175638834716248996349971436034432729611709347265708234180239929269943100239062029699082453674762967511140003959144960324349705213976640116995376773262703752953416866805415896210730329845754678680970437378537975485155408867045320435719065766607500421952514519316445670869773115517392000366852993240983358268954693969591257584790236559669853521100578413202819737230043231877951664896408999388076271457996858616264640606929055874211422106134342664530405809639883231462405966154899519885387698196038372230234593813538500444030738183748985311855529407373783500055973213175984662917264750450878514409611077491846205058261746117578214508549059382038423413882782618038457038207005024577463943505354090359117699087403063953163864834758917334750143307380744202428192561777367537019735727889363256812173290807514817695593987401878577547394948308486433722344134110222828427581161636790720431411206379365943578346987211453172707759946862523271412736135917463004996120310786510429552040507453417776680422728085989769964073674220603722435247977109296796555594282588082654206198016)\n",
    "print(\"--- %s seconds ---\" % (time.time() - start_time))"
   ]
  },
  {
   "cell_type": "code",
   "execution_count": 99,
   "metadata": {},
   "outputs": [
    {
     "name": "stdout",
     "output_type": "stream",
     "text": [
      "2\n",
      "2\n",
      "1\n"
     ]
    }
   ],
   "source": [
    "def findTheDistanceValue(arr1, arr2,d):\n",
    "    cnt = 0\n",
    "    for i in arr1:\n",
    "        if all(abs(i-j) >d for j in arr2):\n",
    "            cnt+=1\n",
    "    return cnt\n",
    "print(findTheDistanceValue([4,5,8],[10,9,1,8],2))\n",
    "print(findTheDistanceValue([1,4,2,3], [-4,-3,6,10,20,30], 3))\n",
    "print(findTheDistanceValue([2,1,100,3], [-5,-2,10,-3,7], 6))\n",
    "\n"
   ]
  },
  {
   "cell_type": "code",
   "execution_count": 152,
   "metadata": {},
   "outputs": [
    {
     "data": {
      "text/plain": [
       "'c'"
      ]
     },
     "execution_count": 152,
     "metadata": {},
     "output_type": "execute_result"
    }
   ],
   "source": [
    "def nextGreatestLetter(letters, target):\n",
    "    num_Bigger = 30\n",
    "    num_Smaller = 0\n",
    "    num_check = 0\n",
    "    for num in range(len(letters)):\n",
    "        if 0 < ord(letters[num])-ord(target) < num_Bigger:\n",
    "            num_Bigger = ord(letters[num])-ord(target)\n",
    "            num_check = num\n",
    "        # num_Bigger not change means need to consider the wrap around    \n",
    "        elif num_Bigger == 30: \n",
    "            if ord(letters[num])-ord(target) < num_Smaller:\n",
    "                num_Smaller = ord(letters[num])-ord(target)\n",
    "                num_check = num\n",
    "\n",
    "    return letters[num_check]\n",
    "letters = [\"c\",\"f\",\"j\"]\n",
    "target = 'j'\n",
    "nextGreatestLetter(letters,target)\n"
   ]
  },
  {
   "cell_type": "code",
   "execution_count": 172,
   "metadata": {},
   "outputs": [
    {
     "data": {
      "text/plain": [
       "'f'"
      ]
     },
     "execution_count": 172,
     "metadata": {},
     "output_type": "execute_result"
    }
   ],
   "source": [
    "def nextGreatestLetter(letters, target):\n",
    "    if target < letters[0] or target >= letters[-1]:\n",
    "        return letters[0]\n",
    "    \n",
    "    minIdx = 0\n",
    "    maxIdx = len(letters) -1\n",
    "    while minIdx <= maxIdx:\n",
    "        midIndex = minIdx + (maxIdx - minIdx) //2\n",
    "        midVal = letters[midIndex]\n",
    "        if midVal <= target:\n",
    "            minIdx = midIndex + 1\n",
    "        elif midVal > target:\n",
    "            maxIdx = midIndex -1\n",
    "\n",
    "    return letters[minIdx]\n",
    "\n",
    "letters = [\"c\",\"f\",\"j\"]\n",
    "target = 'c'\n",
    "nextGreatestLetter(letters,target)"
   ]
  },
  {
   "cell_type": "code",
   "execution_count": 338,
   "metadata": {},
   "outputs": [
    {
     "name": "stdout",
     "output_type": "stream",
     "text": [
      "True\n",
      "True\n",
      "True\n",
      "True\n",
      "True\n",
      "True\n",
      "False\n",
      "False\n",
      "True\n",
      "True\n",
      "True\n",
      "False\n",
      "True\n",
      "True\n",
      "True\n",
      "False\n",
      "True\n",
      "False\n"
     ]
    }
   ],
   "source": [
    "def validPalindrome(s):\n",
    "    x = s[::-1]\n",
    "    if x == s: return True\n",
    "    cnt = 0\n",
    "    half = (len(s)//2)+1\n",
    "    for i in range(half):\n",
    "        left = s[:half]\n",
    "        right = x[:half]\n",
    "        if s[i] != x[i]: \n",
    "            if left[:-1] == x[:i]+x[i+1:half] or right[:-1] == s[:i]+s[i+1:half]:\n",
    "                return True\n",
    "            else:\n",
    "                cnt +=1\n",
    "                if cnt >=2: return False\n",
    "    return False\n",
    "print(validPalindrome('abcdffxdcba'))\n",
    "print(validPalindrome(''))\n",
    "print(validPalindrome('aba'))\n",
    "print(validPalindrome('aacdcaaf'))\n",
    "print(validPalindrome('fefe'))\n",
    "print(validPalindrome('pppppopp'))\n",
    "print(validPalindrome('carat'))\n",
    "print(validPalindrome('plplppladslkasdjnkfajknfanjkfadjfnajkadfnjkadjbkbhkjzdfaugofadsbjvbnvcxbkjdsahfyop'))\n",
    "print(validPalindrome('o'))\n",
    "print(validPalindrome(\"cbbcc\"))\n",
    "print(validPalindrome('aexfzoozfea'))\n",
    "print(validPalindrome('dnopt'))\n",
    "print(validPalindrome('abac'))\n",
    "print(validPalindrome('abca'))\n",
    "print(validPalindrome('caba'))\n",
    "print(validPalindrome('cabca'))\n",
    "print(validPalindrome('caaac'))\n",
    "print(validPalindrome('tpond'))"
   ]
  },
  {
   "cell_type": "code",
   "execution_count": 461,
   "metadata": {},
   "outputs": [
    {
     "data": {
      "text/plain": [
       "[0, 2]"
      ]
     },
     "execution_count": 461,
     "metadata": {},
     "output_type": "execute_result"
    }
   ],
   "source": [
    "def searchRange(nums, target):\n",
    "    if nums == []: return [-1,-1]\n",
    "    mn = 0\n",
    "    mx = len(nums)-1\n",
    "\n",
    "    while mn<=mx:\n",
    "        strt = mn + (mx-mn)//2\n",
    "        if nums[0] == target:\n",
    "            strt = 0\n",
    "            break\n",
    "        if nums[strt] < target:\n",
    "            mn = strt+1\n",
    "        elif nums[strt] > target or (nums[strt] == target and nums[strt -1] == target):\n",
    "            mx = strt-1\n",
    "        elif nums[strt] == target and nums[strt-1] < target:\n",
    "            break\n",
    "\n",
    "    mn = strt\n",
    "    if nums[mn] != target: return [-1,-1]  \n",
    "    mx = len(nums)-1\n",
    "\n",
    "    while mn <= mx:\n",
    "        nd = (mn + (mx-mn)//2)\n",
    "        if nums[-1] == target:\n",
    "            nd = len(nums)-1\n",
    "            break\n",
    "        if nums[nd] > target:\n",
    "            mx = nd-1\n",
    "        elif nums[nd] == target and nums[nd+1] ==target:\n",
    "            mn = nd+1\n",
    "        elif nums[nd] == target and nums[nd+1] > target:\n",
    "            break\n",
    "    return [strt,nd]\n",
    "\n",
    "searchRange([0,0,0],0)"
   ]
  },
  {
   "cell_type": "code",
   "execution_count": null,
   "metadata": {},
   "outputs": [],
   "source": [
    "n=1804289383\n",
    "x=list(range(1,n+1))\n",
    "minIndex = 0\n",
    "maxIndex = len(x)\n",
    "\n",
    "while minIndex <= maxIndex:\n",
    "    midIndex = minIndex + (maxIndex-minIndex)//2\n",
    "    print(minIndex,midIndex,maxIndex)\n",
    "    print(sum(x[:midIndex]),sum(x[:midIndex+1]))\n",
    "    if sum(x[:midIndex]) <= n and sum(x[:midIndex+1]) > n:\n",
    "        print(midIndex)\n",
    "        break\n",
    "    elif sum(x[:midIndex]) > n:\n",
    "        maxIndex = midIndex\n",
    "    elif sum(x[:midIndex]) < n:\n",
    "        minIndex = midIndex\n",
    "    \n",
    "        "
   ]
  },
  {
   "cell_type": "code",
   "execution_count": 17,
   "metadata": {},
   "outputs": [
    {
     "name": "stdout",
     "output_type": "stream",
     "text": [
      "406932522200815086\n"
     ]
    }
   ],
   "source": [
    "n=10\n",
    "#print(x*(x+1)//2)\n",
    "maxVal = n\n",
    "while True:\n",
    "    x = maxVal//2\n",
    "    half = x*(x+1)//2\n",
    "    \n",
    "\n",
    "    if half < n:\n",
    "        print(half)\n",
    "        break"
   ]
  },
  {
   "cell_type": "markdown",
   "metadata": {},
   "source": [
    "Equation:\n",
    "1,2,3......n = sum\n",
    "n*(n+1)/2 = sum\n",
    "n^2 + n = 2 * sum\n",
    "n^2 + n + 1/4 = 2 * sum + 1/4\n",
    "(n+1/2)^2 = 2 * sum + 1/4\n",
    "n+0.5 = (2 * sum + 1/4)^1/2\n",
    "n = -0.5 + (2 * sum + 0.25)^0.5*\n",
    "\n",
    "   def arrangeCoins(self, n: int) -> int:\n",
    "\t\treturn int(-0.5 + sqrt(2*n+0.25))"
   ]
  },
  {
   "cell_type": "code",
   "execution_count": 28,
   "metadata": {},
   "outputs": [
    {
     "data": {
      "text/plain": [
       "4"
      ]
     },
     "execution_count": 28,
     "metadata": {},
     "output_type": "execute_result"
    }
   ],
   "source": [
    "\n",
    "def arrangeCoins(n):\n",
    "\treturn int(-0.5 + (2*n+0.25)**0.5)\n",
    "arrangeCoins(11)"
   ]
  },
  {
   "cell_type": "code",
   "execution_count": 17,
   "metadata": {},
   "outputs": [
    {
     "name": "stdout",
     "output_type": "stream",
     "text": [
      "9\n",
      "6\n",
      "2\n",
      "6\n",
      "32\n",
      "2\n",
      "1\n",
      "324\n",
      "11\n"
     ]
    }
   ],
   "source": [
    "# the max length of list = list[-1]+k\n",
    "# list starts from 1\n",
    "#since each element is only present once in the list, we can consider using a set \n",
    "# and print out kth position in the difference between  set of list and set of range 1 to list[-1]+2\n",
    "\n",
    "def findKthPositive(arr, k):\n",
    "    fullRange = set(list(range(1,arr[-1]+k+1)))\n",
    "    setOfArr = set(arr)\n",
    "    res = sorted(list(fullRange-setOfArr))\n",
    "    return res[k-1]\n",
    "print(findKthPositive([2,3,4,7,11],5))\n",
    "print(findKthPositive([1,2,3,4],2))\n",
    "print(findKthPositive([1],1))\n",
    "print(findKthPositive([1,1],5))\n",
    "print(findKthPositive([1,9],30))\n",
    "print(findKthPositive([1,10],1))\n",
    "print(findKthPositive([6],1))\n",
    "print(findKthPositive([900],324))\n",
    "print(findKthPositive([1,3,5,7],7))"
   ]
  },
  {
   "cell_type": "code",
   "execution_count": 16,
   "metadata": {},
   "outputs": [
    {
     "name": "stdout",
     "output_type": "stream",
     "text": [
      "9\n",
      "6\n",
      "2\n",
      "7\n",
      "32\n",
      "2\n",
      "1\n",
      "324\n",
      "11\n"
     ]
    }
   ],
   "source": [
    "#Do not forget to learn about the left and right shift symbol >> and <<  \n",
    "\n",
    "def findKthPositive(arr, k):\n",
    "    left, right = 0, len(arr) - 1\n",
    "    while left <= right:\n",
    "        mid = (left + right) >> 1\n",
    "        if arr[mid] - (mid + 1) < k: left = mid + 1\n",
    "        else: right = mid - 1\n",
    "    return k + left\n",
    "print(findKthPositive([2,3,4,7,11],5))\n",
    "print(findKthPositive([1,2,3,4],2))\n",
    "print(findKthPositive([1],1))\n",
    "print(findKthPositive([1,1],5))\n",
    "print(findKthPositive([1,9],30))\n",
    "print(findKthPositive([1,10],1))\n",
    "print(findKthPositive([6],1))\n",
    "print(findKthPositive([900],324))\n",
    "print(findKthPositive([1,3,5,7],7))"
   ]
  },
  {
   "cell_type": "code",
   "execution_count": 71,
   "metadata": {},
   "outputs": [
    {
     "name": "stdout",
     "output_type": "stream",
     "text": [
      "8\n",
      "0\n",
      "16\n",
      "0\n",
      "1\n",
      "8\n",
      "0\n",
      "4\n",
      "2\n"
     ]
    }
   ],
   "source": [
    "def countNegatives(grid):\n",
    "    cnt = 0\n",
    "    for arr in grid:\n",
    "        left,right  = 0, len(arr)-1\n",
    "        if arr[0] <= -1: \n",
    "            cnt+= len(arr[left:])\n",
    "            continue\n",
    "        if arr[-1] > -1: continue\n",
    "        while True:\n",
    "            mid = left + (right-left)//2\n",
    "            midVal = arr[mid]\n",
    "            if midVal > -1:\n",
    "                left = mid+1\n",
    "            elif midVal <= -1 and arr[mid-1] <= -1:\n",
    "                right = mid-1\n",
    "            else:\n",
    "                left = mid\n",
    "                break\n",
    "        cnt+= len(arr[left:])\n",
    "    return cnt\n",
    "print(countNegatives([[4,3,2,-1],[3,2,1,-1],[1,1,-1,-2],[-1,-1,-2,-3]]))\n",
    "print(countNegatives([[3,2],[1,0]]))\n",
    "print(countNegatives([[3,-1,-3,-3,-3],[2,-2,-3,-3,-3],[1,-2,-3,-3,-3],[0,-3,-3,-3,-3]]))\n",
    "print(countNegatives([[0]]))\n",
    "print(countNegatives([[-1]]))\n",
    "print(countNegatives([[1,1,1,1],[1,1,1,1],[-1,-1,-1,-1],[-4,-4,-4,-4]]))\n",
    "print(countNegatives([[1],[1],[1]]))\n",
    "print(countNegatives([[-1],[-1],[-1],[-1]]))\n",
    "print(countNegatives([[100,90,10,-100],[-1]]))"
   ]
  },
  {
   "cell_type": "code",
   "execution_count": 194,
   "metadata": {},
   "outputs": [
    {
     "name": "stdout",
     "output_type": "stream",
     "text": [
      "True\n",
      "False\n",
      "True\n",
      "False\n",
      "False\n",
      "False\n",
      "True\n",
      "True\n",
      "False\n",
      "False\n",
      "True\n",
      "True\n",
      "True\n"
     ]
    }
   ],
   "source": [
    "def checkIfExist(arr):\n",
    "    arr = sorted(arr)\n",
    "    num1 = list(filter(lambda n: n>=0, arr))\n",
    "    num2 = []\n",
    "    for i in arr:\n",
    "        if i < 0:\n",
    "            num2.append(abs(i))\n",
    "    num1 = sorted(num1)\n",
    "    num2 = sorted(num2)\n",
    "    for i in range(len(num1)):\n",
    "        nums = num1[i+1:]\n",
    "        left = 0\n",
    "        right = len(nums)-1\n",
    "        while left <= right:\n",
    "            mid = left + (right-left)//2\n",
    "            midVal = nums[mid]\n",
    "            if num1[i]*2 == midVal:\n",
    "                return True\n",
    "            elif num1[i]*2 > midVal:\n",
    "                left = mid +1\n",
    "            else:\n",
    "                right = mid -1\n",
    "    for i in range(len(num2)):\n",
    "        nums = num2[i+1:]\n",
    "        left = 0\n",
    "        right = len(nums)-1\n",
    "        while left <= right:\n",
    "            mid = left + (right-left)//2\n",
    "            midVal = nums[mid]\n",
    "            if num2[i]*2 == midVal:\n",
    "                return True\n",
    "            elif num2[i]*2 > midVal:\n",
    "                left = mid +1\n",
    "            else:\n",
    "                right = mid -1\n",
    "    return False\n",
    "print(checkIfExist([10,2,5,3]))\n",
    "print(checkIfExist([1,1,1,1,1,1]))\n",
    "print(checkIfExist([1,2,2,2,2,4,4,8]))\n",
    "print(checkIfExist([1]))\n",
    "print(checkIfExist([0]))\n",
    "print(checkIfExist([5,6,9,2]))\n",
    "print(checkIfExist([200,0,100,100,100]))\n",
    "print(checkIfExist([0,0,0,0,0,0]))\n",
    "print(checkIfExist([]))\n",
    "print(checkIfExist([-2,0,10,-19,4,6,-8]))\n",
    "print(checkIfExist([7,1,14,11]))\n",
    "print(checkIfExist([2,1,3,4]))\n",
    "print(checkIfExist([-10,12,-20,-8,15]))"
   ]
  },
  {
   "cell_type": "code",
   "execution_count": 229,
   "metadata": {},
   "outputs": [
    {
     "name": "stdout",
     "output_type": "stream",
     "text": [
      "3\n",
      "-1\n",
      "-1\n",
      "2\n",
      "6\n",
      "-1\n",
      "1\n",
      "2\n",
      "-1\n",
      "1\n"
     ]
    }
   ],
   "source": [
    "def specialArray(nums):\n",
    "    left, right = 1, max(nums)\n",
    "    nums.sort()\n",
    "    while left <= right:\n",
    "        mid = (left + right)//2\n",
    "        midVal = sum(1 for x in nums if x >= mid)\n",
    "        if mid == midVal:\n",
    "            return mid\n",
    "        elif mid > midVal:\n",
    "            right = mid - 1\n",
    "        else:\n",
    "            left = mid + 1\n",
    "    return -1\n",
    "print(specialArray([0,4,3,0,4]))\n",
    "print(specialArray([-1,-1,-1]))\n",
    "print(specialArray([0,0]))\n",
    "print(specialArray([3,5]))\n",
    "print(specialArray([10,435,432,52,9,1,2,6]))\n",
    "#print(specialArray([]))\n",
    "print(specialArray([0]))\n",
    "print(specialArray([1]))\n",
    "print(specialArray([2,2]))\n",
    "print(specialArray([1,1]))\n",
    "print(specialArray([90]))"
   ]
  },
  {
   "cell_type": "code",
   "execution_count": 263,
   "metadata": {},
   "outputs": [
    {
     "data": {
      "text/plain": [
       "[2, 0, 3]"
      ]
     },
     "execution_count": 263,
     "metadata": {},
     "output_type": "execute_result"
    }
   ],
   "source": [
    "mat = [[1,1,0,0,0],\n",
    " [1,1,1,1,0],\n",
    " [1,0,0,0,0],\n",
    " [1,1,0,0,0],\n",
    " [1,1,1,1,1]]\n",
    "k = 3\n",
    "x = [i.count(1) for i in mat]\n",
    "y=[i[0] for i in sorted(enumerate(x), key=lambda n:n[1])]\n",
    "y[:k]\n"
   ]
  },
  {
   "cell_type": "code",
   "execution_count": null,
   "metadata": {},
   "outputs": [],
   "source": [
    "def kWeakestRows(mat, k):\n",
    "    x = [i.count(1) for i in mat]\n",
    "    y=[i[0] for i in sorted(enumerate(x), key=lambda n:n[1])]\n",
    "    return y[:k]\n"
   ]
  },
  {
   "cell_type": "code",
   "execution_count": 16,
   "metadata": {},
   "outputs": [
    {
     "name": "stdout",
     "output_type": "stream",
     "text": [
      "[1, 2]\n",
      "[4, 5]\n",
      "[1, 2]\n",
      "[1, 3]\n",
      "[1, 4]\n"
     ]
    }
   ],
   "source": [
    "def twoSum(numbers, target):\n",
    "    for i,j in enumerate(numbers):\n",
    "        left = i+1\n",
    "        right = len(numbers)-1\n",
    "\n",
    "        while left<=right: \n",
    "            midIndex = left+(right-left)//2\n",
    "            midVal = numbers[midIndex]\n",
    "            if target - j == midVal:\n",
    "                return ([i+1,midIndex+1])\n",
    "            elif midVal+j > target:\n",
    "                right = midIndex-1\n",
    "            else:\n",
    "                left = midIndex+1\n",
    "print(twoSum([0,0,1,2],0))\n",
    "print(twoSum([2,2,4,5,9],14))\n",
    "print(twoSum([4,4],8))\n",
    "print(twoSum([-1,-8,-9,4,20],-10))\n",
    "print(twoSum([90,20,2139,2342],2432))\n"
   ]
  },
  {
   "cell_type": "code",
   "execution_count": null,
   "metadata": {},
   "outputs": [],
   "source": [
    "#def searchMatrix(matrix, target):"
   ]
  },
  {
   "cell_type": "code",
   "execution_count": 25,
   "metadata": {},
   "outputs": [
    {
     "name": "stdout",
     "output_type": "stream",
     "text": [
      "10 20\n",
      "0 11 3\n",
      "2 16 3\n"
     ]
    },
    {
     "data": {
      "text/plain": [
       "False"
      ]
     },
     "execution_count": 25,
     "metadata": {},
     "output_type": "execute_result"
    }
   ],
   "source": [
    "# compare the targer to the last value of m in matrix\n",
    "# within  find the target and return True. if not in return False.\n",
    "# For both levels of the matrix, use O(log n) \n",
    "\n",
    "def searchMatrix(matrix, target):\n",
    "    left = 0\n",
    "    right = len(matriX)-1\n",
    "\n",
    "    def binSearch(arr,target):\n",
    "        lefty = 0\n",
    "        righty = len(arr)-1\n",
    "\n",
    "        while lefty <= righty:\n",
    "            midi = lefty + (righty-lefty)//2\n",
    "            midVal = arr[midi]\n",
    "            if midVal == target:\n",
    "                return True\n",
    "            elif midVal > target:\n",
    "                righty = midi-1\n",
    "            else:\n",
    "                lefty = midi+1\n",
    "        return False\n",
    "\n",
    "\n",
    "    while left <= right:\n",
    "        mid = left + (right-left)//2\n",
    "        tMat = matriX[mid][-1]\n",
    "        hMat = matriX[mid][0]\n",
    "        if hMat <= target and tMat >= target:\n",
    "            x = binSearch(matriX[mid],target)\n",
    "            if x == True: return True\n",
    "            else: return False\n",
    "        elif tMat > target:\n",
    "            right = mid-1\n",
    "        else:\n",
    "            left = mid+1\n",
    "    return False\n",
    "#matriX = [[1,3,5,7],[10,11,16,20],[23,30,34,60]]\n",
    "#target = 3\n",
    "matriX = [[1,3,5,7],[10,11,16,20],[23,30,34,60]]\n",
    "target = 13\n",
    "searchMatrix(matriX,target)"
   ]
  },
  {
   "cell_type": "code",
   "execution_count": 37,
   "metadata": {},
   "outputs": [
    {
     "name": "stdout",
     "output_type": "stream",
     "text": [
      "True\n"
     ]
    }
   ],
   "source": [
    "def judgeSquareSum(c):\n",
    "    c=5\n",
    "    l = 0 \n",
    "    r = int(c**0.5)\n",
    "    while l<=r:\n",
    "        if l*l + r*r == c:\n",
    "            print(True)\n",
    "            break\n",
    "        elif l*l + r*r < c:\n",
    "            l+=1\n",
    "        else:\n",
    "            r-=1\n",
    "    return False\n"
   ]
  },
  {
   "cell_type": "code",
   "execution_count": 61,
   "metadata": {},
   "outputs": [
    {
     "name": "stdout",
     "output_type": "stream",
     "text": [
      "0 2 4 ---******--- [100, 20, 10, 10, 5] 10 0 0\n",
      "0 0 1 ---******--- [100, 20, 10, 10, 5] 100 0 0\n",
      "1 1 1 ---******--- [100, 20, 10, 10, 5] 20 0 0\n",
      "0 1 3 ---******--- [20, 10, 10, 5] 10 1 0\n",
      "0 0 0 ---******--- [20, 10, 10, 5] 20 1 0\n",
      "0 1 2 ---******--- [10, 10, 5] 10 2 0\n",
      "2 2 2 ---******--- [10, 10, 5] 5 2 1\n",
      "0 0 1 ---******--- [10, 5] 10 3 2\n",
      "1 1 1 ---******--- [10, 5] 5 3 2\n",
      "0 0 0 ---******--- [5] 5 4 2\n",
      "2\n"
     ]
    }
   ],
   "source": [
    "# for nums1 and nums2, which respectively hold tge indices i and j, i <= j and nums[1] <= nums2[j]\n",
    "# The  distance of the pair is j-i, \n",
    "# return the maximum distance among all valid pairs or 0 if there are no valid pairs.\n",
    "# An array arr is non-increasing if arr[i-1] >= arr[i] for every 1 <= i < arr.length. \n",
    "\n",
    "\n",
    "# APPROACH: since i <= j, we loop through nums1 and compare each elements with nums2[i:](not nums j)\n",
    "# if any of the nums2[i:] is bigger than nums1[i] we store into a variable that renew itself with only bigger values\n",
    "# Rather than a O(n^2), we can combine a O(n)=> the for loop going through each element for nums1 + O(log n) to\n",
    "# search for the range of valid distances in nums2\n",
    "  \n",
    "nums1=[55,30,5,4,2]\n",
    "nums2 = [100,20,10,10,5]\n",
    "\n",
    "cnt = 0\n",
    "\n",
    "for index, value in enumerate(nums1):\n",
    "    searchR = nums2[index:]\n",
    "    left = 0\n",
    "    right = len(searchR)-1\n",
    "\n",
    "    while left <= right:\n",
    "        mid = left + (right-left)//2\n",
    "        midVal =searchR[mid]\n",
    "        print(left,mid,right,'---******---', searchR,midVal, index, cnt)\n",
    "        if midVal >= value:# and searchR[mid+1] < value:\n",
    "            if mid >= cnt:\n",
    "                cnt = mid\n",
    "            left = mid+1\n",
    "        elif midVal < value:\n",
    "            right = mid-1\n",
    "print(cnt)\n"
   ]
  },
  {
   "cell_type": "code",
   "execution_count": 89,
   "metadata": {},
   "outputs": [
    {
     "name": "stdout",
     "output_type": "stream",
     "text": [
      "0 2 4 ----------------- 0\n",
      "0 0 1 ----------------- 0\n",
      "1 1 1 ----------------- 0\n",
      "left====> 1\n",
      "0 1 3 ----------------- 1\n",
      "0 0 0 ----------------- 1\n",
      "left====> 0\n",
      "0 1 2 ----------------- 2\n",
      "2 2 2 ----------------- 2\n",
      "left====> 3\n",
      "0 0 1 ----------------- 3\n",
      "1 1 1 ----------------- 3\n",
      "left====> 2\n",
      "0 0 0 ----------------- 4\n",
      "left====> 1\n"
     ]
    },
    {
     "data": {
      "text/plain": [
       "2"
      ]
     },
     "execution_count": 89,
     "metadata": {},
     "output_type": "execute_result"
    }
   ],
   "source": [
    "def maxDistance(nums1, nums2):\n",
    "    cnt = 0\n",
    "    for index, value in enumerate(nums1):\n",
    "        searchR = nums2[index:]\n",
    "        left = 0\n",
    "        right = len(searchR)-1\n",
    "        while left <= right:\n",
    "            mid = left + (right-left)//2\n",
    "            midVal = searchR[mid]\n",
    "            if midVal >= value:\n",
    "                left = mid+1\n",
    "            elif midVal < value:\n",
    "                right = mid-1\n",
    "        if left > cnt: cnt = left\n",
    "    if cnt == 0: return cnt\n",
    "    return cnt-1\n",
    "maxDistance(nums1 = [55,30,5,4,2], nums2 = [100,20,10,10,5])"
   ]
  },
  {
   "cell_type": "code",
   "execution_count": null,
   "metadata": {},
   "outputs": [],
   "source": [
    "def maxDistance(nums1, nums2):\n",
    "    max_dist = 0\n",
    "    m = len(nums1)\n",
    "\n",
    "    for i in range(m):\n",
    "        start = i\n",
    "        end = len(nums2)-1\n",
    "        while start<=end:\n",
    "            mid = start + (end-start)//2\n",
    "            if nums2[mid]<nums1[i]:\n",
    "                end = mid-1\n",
    "            elif nums2[mid]>=nums1[i]:\n",
    "                start = mid+1\n",
    "        max_dist = max(max_dist,end-i)\n",
    "            \n",
    "    return max_dist"
   ]
  },
  {
   "cell_type": "code",
   "execution_count": 8,
   "metadata": {},
   "outputs": [
    {
     "data": {
      "text/plain": [
       "(2, 0, 1, 3, 1)"
      ]
     },
     "execution_count": 8,
     "metadata": {},
     "output_type": "execute_result"
    }
   ],
   "source": [
    "def maxDistance(colors):\n",
    "    #colors= [1,1,1,6,1,1,1]\n",
    "    colors = [1,8,3,8,3]\n",
    "    cnt = 0\n",
    "    for i,j in enumerate(colors):\n",
    "        x = colors[i:][::-1]\n",
    "        for y,z in enumerate(x):\n",
    "            cnt+=1\n",
    "            if j!= z:\n",
    "                return((colors[-cnt]))\n",
    "maxDistance([])\n"
   ]
  },
  {
   "cell_type": "code",
   "execution_count": 26,
   "metadata": {},
   "outputs": [
    {
     "name": "stdout",
     "output_type": "stream",
     "text": [
      "0 11 ---------- 0 11\n",
      "0 10 ---------- 1 11\n",
      "0 9 ---------- 2 11\n",
      "0 8 ---------- 3 11\n",
      "8\n"
     ]
    }
   ],
   "source": [
    "\n",
    "#colors = [1,1,1,1,1,1,1,1,1,1,2,1,1,1,1]\n",
    "def maxDistance(colors):\n",
    "    strt,nd = 0, len(colors)-1\n",
    "    left,right = 0, len(colors)-1\n",
    "    while strt<=nd or left<=right:\n",
    "        print(strt,nd,'----------',left,right)\n",
    "        if colors[strt] != colors[nd]:\n",
    "            return abs(nd-strt)\n",
    "        elif colors[strt] == colors[nd]:\n",
    "            nd-=1\n",
    "        if colors[left] != colors[right]:\n",
    "            return abs(right-left)\n",
    "        elif colors[left] == colors[right]:\n",
    "            left+=1\n",
    "    return 0\n",
    "print(maxDistance([4,4,4,11,4,4,11,4,4,4,4,4]))\n",
    "#print(maxDistance([1,1,1,1,1,1,1,1,1,1,2,1,1,1,1]))\n",
    "#print(maxDistance([1,1,1,6,1,1,1]))\n",
    "#print(maxDistance([1,2,1,1,1,1]))\n",
    "#print(maxDistance([1,8,3,8,3]))\n",
    "#print(maxDistance([0,1]))\n",
    "#print(maxDistance([0]))\n",
    "#print(maxDistance([1,2,4,1,1,5,1,1]))\n",
    "#print(maxDistance([1,1,1]))\n"
   ]
  },
  {
   "cell_type": "code",
   "execution_count": null,
   "metadata": {},
   "outputs": [],
   "source": [
    "#first approach: if i not len(arr)-1:append(max(arr[i+1:]))\n",
    "#second approach: sort elements in arr and append the biggest (arr[-1]), then append -1 at the end \n",
    "\n",
    "def replaceElements(arr):\n",
    "    x = []\n",
    "    for i,j in enumerate(arr):\n",
    "        rest = x"
   ]
  },
  {
   "cell_type": "code",
   "execution_count": 29,
   "metadata": {},
   "outputs": [
    {
     "data": {
      "text/plain": [
       "[18, 6, 6, 6, 1, -1]"
      ]
     },
     "execution_count": 29,
     "metadata": {},
     "output_type": "execute_result"
    }
   ],
   "source": [
    "#first approach\n",
    "def replaceElements(arr):\n",
    "    lst = []\n",
    "    for i in range(len(arr)):\n",
    "        if i != len(arr)-1:\n",
    "            lst.append(max(arr[i+1:]))\n",
    "        else:\n",
    "            lst.append(-1)\n",
    "    return lst\n",
    "replaceElements([17,18,5,4,6,1])"
   ]
  },
  {
   "cell_type": "code",
   "execution_count": 7,
   "metadata": {},
   "outputs": [
    {
     "ename": "IndentationError",
     "evalue": "unexpected indent (1425933746.py, line 2)",
     "output_type": "error",
     "traceback": [
      "\u001b[0;36m  File \u001b[0;32m\"/var/folders/bt/vhhrprgs10jf41b1hvrghgw00000gn/T/ipykernel_74234/1425933746.py\"\u001b[0;36m, line \u001b[0;32m2\u001b[0m\n\u001b[0;31m    lst,i = [],0\u001b[0m\n\u001b[0m    ^\u001b[0m\n\u001b[0;31mIndentationError\u001b[0m\u001b[0;31m:\u001b[0m unexpected indent\n"
     ]
    }
   ],
   "source": [
    "def replaceElements(arr):\n",
    "    lst,i = [],0\n",
    "    while len(arr)>1 and i < len(arr)-1:\n",
    "        lst.append(sorted(arr[i+1:])[-1])\n",
    "        i+=1\n",
    "    lst.append(-1)\n",
    "    return lst\n",
    "replaceElements([17,18,5,4,6,1])"
   ]
  },
  {
   "cell_type": "code",
   "execution_count": null,
   "metadata": {},
   "outputs": [],
   "source": [
    "# The method below is apparently called Destructuring assignment\n",
    "# learn and understand it!\n",
    "def replaceElements(arr):\n",
    "    mx = -1\n",
    "    for i in range(len(arr) - 1, -1, -1):\n",
    "        arr[i], mx = mx, max(arr[i], mx)\n",
    "    return arr"
   ]
  },
  {
   "cell_type": "code",
   "execution_count": 15,
   "metadata": {},
   "outputs": [
    {
     "name": "stdout",
     "output_type": "stream",
     "text": [
      "  0 ■■■■■■■■■■■■■■■■■■■■■■■■■■■■■■■■■■■■■■■■■■■■■■■■■■■■■■ (54)\n",
      "  1 ■■■■■■■■■■■■■■■■■■■■■■■■■■■■■■■■■■■■■■■■■■■■■■         (46)\n",
      "  0 ■■■■■■■■■■■■■■■■■      (17)\n",
      "  1 ■■■■■■■■■■■■■■■■■■■■■■ (22)\n",
      "  2 ■■■■■■■■■■■■■■■■■■■■■  (21)\n",
      "  3 ■■■■■■■■■■■■■■■■■■■    (19)\n",
      "  4 ■■■■■■■■■■■■■■■■■■■■■  (21)\n"
     ]
    }
   ],
   "source": [
    "from hash_distribution import plot, distribute\n",
    "from string import printable\n",
    "\n",
    "plot(distribute(printable, num_containers=2))\n",
    "plot(distribute(printable, num_containers=5))"
   ]
  },
  {
   "cell_type": "markdown",
   "metadata": {},
   "source": [
    "Application Programming Interface(API)\n",
    "Software Development Kit (SDK)"
   ]
  },
  {
   "cell_type": "code",
   "execution_count": 10,
   "metadata": {},
   "outputs": [
    {
     "data": {
      "image/png": "[encoded data removed]",
      "text/plain": [
       "<Figure size 432x288 with 1 Axes>"
      ]
     },
     "metadata": {
      "needs_background": "light"
     },
     "output_type": "display_data"
    }
   ],
   "source": [
    "import numpy \n",
    "\n",
    "def c(n,x):\n",
    "    y = 0 \n",
    "    for j in range(n):\n",
    "        if j ==0:\n",
    "            if 0 <= x.all()  <= 1:\n",
    "                y = x\n",
    "            else:\n",
    "                y =0\n",
    "        else:\n",
    "            if 0 <=x<=1/3:\n",
    "                y = y+0.5*c(j-1,3*x)\n",
    "            elif 2/3 <=x<=1:\n",
    "                y = y +0.5+0.5*c(j-1,3*x-2)\n",
    "            elif 1/3 < x<1/2:\n",
    "                y = 0.5\n",
    "            else:\n",
    "                y =0\n",
    "    return y\n",
    "\n",
    "import matplotlib.pyplot as plt\n",
    "x = numpy.linspace(0.0,1.0,1000)\n",
    "y = c(1,x)\n",
    "plt.plot(x,y)\n",
    "plt.show()\n"
   ]
  },
  {
   "cell_type": "code",
   "execution_count": 7,
   "metadata": {},
   "outputs": [
    {
     "name": "stdout",
     "output_type": "stream",
     "text": [
      "0\n"
     ]
    }
   ],
   "source": [
    "def calPoints(self, ops: List[str]) -> int:\n",
    "    x = []\n",
    "    for i in ops:\n",
    "        if i == 'C':\n",
    "            del x[-1]\n",
    "        elif i == 'D':\n",
    "            x.append(int(x[-1])*2)\n",
    "        elif i == '+':\n",
    "            x.append(int(x[-1])+int(x[-2]))\n",
    "        else:\n",
    "            x.append(int(i))\n",
    "\n",
    "    return(sum(x))\n",
    "\n"
   ]
  },
  {
   "cell_type": "code",
   "execution_count": 65,
   "metadata": {},
   "outputs": [
    {
     "data": {
      "text/plain": [
       "['-1']"
      ]
     },
     "execution_count": 65,
     "metadata": {},
     "output_type": "execute_result"
    }
   ],
   "source": [
    "nums = [-1]\n",
    "\n",
    "def summaryRanges(nums):\n",
    "    if not nums:    return []\n",
    "    nums += [nums[-1]+100]\n",
    "    res = []\n",
    "    s = nums[0]\n",
    "\n",
    "    for i in range(len(nums)):\n",
    "        if nums[i] - 1 > nums[i-1]:\n",
    "            if s == nums[i-1]:\n",
    "                res.append(str(s))\n",
    "            else:\n",
    "                res.append(str(s)+'->'+str(nums[i-1]))\n",
    "            s = nums[i]\n",
    "\n",
    "    return res\n",
    "summaryRanges(nums)"
   ]
  },
  {
   "cell_type": "code",
   "execution_count": 57,
   "metadata": {},
   "outputs": [
    {
     "name": "stdout",
     "output_type": "stream",
     "text": [
      "[-1, 1]\n",
      "['-1']\n"
     ]
    }
   ],
   "source": [
    "def summaryRanges(nums):\n",
    "    if not nums:\n",
    "        return []\n",
    "    \n",
    "    nums = nums + [nums[-1]+2]\n",
    "    print(nums)\n",
    "    res = []\n",
    "    head = nums[0]\n",
    "    for i in range(1,len(nums)):\n",
    "        if nums[i] - nums[i-1] > 1:\n",
    "            if head == nums[i-1]:\n",
    "                res.append(str(head))\n",
    "            else:\n",
    "                res.append(str(head) + \"->\" + str(nums[i-1]))\n",
    "            head = nums[i]\n",
    "    return res\n",
    "print(summaryRanges([-1]))"
   ]
  },
  {
   "cell_type": "code",
   "execution_count": null,
   "metadata": {},
   "outputs": [],
   "source": [
    "def summaryRanges(nums):\n",
    "    ranges = []\n",
    "    for n in nums:\n",
    "        if not ranges or n > ranges[-1][-1] + 1:\n",
    "            ranges += [],\n",
    "        ranges[-1][1:] = n,\n",
    "    return ['->'.join(map(str, r)) for r in ranges]"
   ]
  },
  {
   "cell_type": "code",
   "execution_count": null,
   "metadata": {},
   "outputs": [],
   "source": [
    "def summaryRanges(nums):\n",
    "    ranges, r = [], []\n",
    "    for n in nums:\n",
    "        if n-1 not in r:\n",
    "            r = []\n",
    "            ranges += r,\n",
    "        r[1:] = n,\n",
    "    return ['->'.join(map(str, r)) for r in ranges]"
   ]
  },
  {
   "cell_type": "code",
   "execution_count": null,
   "metadata": {},
   "outputs": [],
   "source": [
    "def summaryRanges(nums):\n",
    "\n",
    "    start = 0\n",
    "    end = 0\n",
    "\n",
    "    result = []\n",
    "\n",
    "    while start < len(nums) and end<len(nums):\n",
    "\n",
    "        if end+1 < len(nums) and nums[end]+1 == nums[end+1]:\n",
    "            end=end+1\n",
    "\n",
    "        else:\n",
    "            if start == end:\n",
    "                result.append(str(nums[start]))\n",
    "                start = start + 1\n",
    "                end = end + 1\n",
    "            else:\n",
    "                result.append(str(nums[start])+'->'+str(nums[end]))\n",
    "                start = end + 1\n",
    "                end = end + 1\n",
    "\n",
    "    return result"
   ]
  },
  {
   "cell_type": "code",
   "execution_count": 46,
   "metadata": {},
   "outputs": [
    {
     "name": "stdout",
     "output_type": "stream",
     "text": [
      "(1, 4) [(3, 2), (8, 5)]\n",
      "(1, 3) [(4, 2), (8, 5)]\n",
      "(1, 2) [(4, 3), (8, 5)]\n",
      "(1, 8) [(4, 3), (2, 5)]\n",
      "(1, 5) [(4, 3), (2, 8)]\n"
     ]
    }
   ],
   "source": [
    "nums = [1,4,3,2,8,5]\n",
    "if len(nums) == 2:\n",
    "    print(min(nums))\n",
    "s = nums[0]\n",
    "#x = nums[1:]\n",
    "for i in range(1,len(nums)):\n",
    "    rst = nums[:i]+nums[i+1:]\n",
    "    print((s,nums[i]),list(zip(rst[1::2],rst[2::2])))\n",
    "    \n",
    "    \n"
   ]
  },
  {
   "cell_type": "code",
   "execution_count": 57,
   "metadata": {},
   "outputs": [],
   "source": [
    "def arrayPairSum(nums):\n",
    "    v = 0\n",
    "    nums.sort()\n",
    "    v+= nums[::2]\n",
    "    return v\n"
   ]
  },
  {
   "cell_type": "code",
   "execution_count": 66,
   "metadata": {},
   "outputs": [
    {
     "name": "stdout",
     "output_type": "stream",
     "text": [
      "{0: 2}\n",
      "{0: 2, 1: 7}\n",
      "{0: 2, 1: 7, 2: 11}\n",
      "{0: 2, 1: 7, 2: 11, 3: 15}\n"
     ]
    }
   ],
   "source": [
    "nums = [2,7,11,15]\n",
    "target = 9\n",
    "holder = {}\n",
    "for i,j in enumerate(nums):\n",
    "    x = [holder.values]\n",
    "    if target - j in x:\n",
    "        print ([i,holder.keys])\n",
    "    else:\n",
    "        holder.update({i:j})\n",
    "    print(holder)"
   ]
  },
  {
   "cell_type": "code",
   "execution_count": 2,
   "metadata": {},
   "outputs": [
    {
     "name": "stdout",
     "output_type": "stream",
     "text": [
      "index 0 : 1\n",
      "index 2 : 1\n",
      "index 7 : 1\n"
     ]
    }
   ],
   "source": [
    "a = [1, 0, 1, 0, 0, 0, 0, 1]\n",
    "\n",
    "for i,j in enumerate(a):\n",
    "    if j == 1:\n",
    "        print('index',i,':',j)"
   ]
  },
  {
   "cell_type": "code",
   "execution_count": 13,
   "metadata": {},
   "outputs": [
    {
     "name": "stdout",
     "output_type": "stream",
     "text": [
      "[4, 5, 0, 1, 2, 3]\n"
     ]
    }
   ],
   "source": [
    "nums = [5,0,1,2,3,4]\n",
    "\n",
    "ans = [nums[i] for i in nums]\n",
    "print(ans)"
   ]
  },
  {
   "cell_type": "code",
   "execution_count": 14,
   "metadata": {},
   "outputs": [
    {
     "data": {
      "text/plain": [
       "[4, 5, 0, 1, 2, 3]"
      ]
     },
     "execution_count": 14,
     "metadata": {},
     "output_type": "execute_result"
    }
   ],
   "source": [
    "def buildArray(nums):\n",
    "        \n",
    "    for i in range(len(nums)):\n",
    "        nums[i] += len(nums) * (nums[nums[i]] % len(nums))\n",
    "        \n",
    "    for i in range(len(nums)):      \n",
    "        nums[i] //= len(nums)\n",
    "            \n",
    "    return nums\n",
    "nums = [5,0,1,2,3,4]\n",
    "buildArray(nums)"
   ]
  },
  {
   "cell_type": "code",
   "execution_count": 38,
   "metadata": {},
   "outputs": [
    {
     "name": "stdout",
     "output_type": "stream",
     "text": [
      "6\n",
      "24\n",
      "-6\n",
      "2356560\n",
      "1\n",
      "1\n",
      "0\n",
      "8064\n",
      "972256230\n"
     ]
    }
   ],
   "source": [
    "import math\n",
    "def maximumProduct(nums):\n",
    "    nums.sort(reverse=True)\n",
    "    return max(math.prod(nums[:3]),nums[0]*nums[-1]*nums[-2])\n",
    "\n",
    "\n",
    "print(maximumProduct([1,2,3]))\n",
    "print(maximumProduct([1,2,3,4]))\n",
    "print(maximumProduct([-1,-2,-3]))\n",
    "print(maximumProduct([-90,-2182,-12,12,12,0]))\n",
    "print(maximumProduct([1,1,1,1]))\n",
    "print(maximumProduct([-1,-1,-1,1]))\n",
    "print(maximumProduct([0,0,0]))\n",
    "print(maximumProduct([-21,-12,21,32]))\n",
    "print(maximumProduct([-710,-107,-851,657,-14,-859,278,-182,-749,718,-640,127,-930,-462,694,969,143,309,904,-651,160,451,-159,-316,844,-60,611,-169,-73,721,-902,338,-20,-890,-819,-644,107,404,150,-219,459,-324,-385,-118,-307,993,202,-147,62,-94,-976,-329,689,870,532,-686,371,-850,-186,87,878,989,-822,-350,-948,-412,161,-88,-509,836,-207,-60,771,516,-287,-366,-512,509,904,-459,683,-563,-766,-837,-333,93,893,303,908,532,-206,990,280,826,-13,115,-732,525,-939,-787]))\n"
   ]
  },
  {
   "cell_type": "code",
   "execution_count": 87,
   "metadata": {},
   "outputs": [
    {
     "name": "stdout",
     "output_type": "stream",
     "text": [
      "3\n",
      "4\n",
      "8\n",
      "0\n",
      "5\n",
      "1\n",
      "10\n",
      "17\n",
      "39\n"
     ]
    }
   ],
   "source": [
    "def findPoisonedDuration(timeSeries, duration):\n",
    "    res = 0\n",
    "    for i in range(1,len(timeSeries)):\n",
    "        if timeSeries[i] - timeSeries[i-1] < duration:\n",
    "            res += timeSeries[i] - timeSeries[i-1]\n",
    "        else:\n",
    "            res+=duration\n",
    "    return res+duration\n",
    "print(findPoisonedDuration([1,2],2))\n",
    "print(findPoisonedDuration([1,4],2))\n",
    "print(findPoisonedDuration([1,2,3,4],5))\n",
    "print(findPoisonedDuration([0],0))\n",
    "print(findPoisonedDuration([1],5))\n",
    "print(findPoisonedDuration([0],1))\n",
    "print(findPoisonedDuration([1,2,7,8],4))\n",
    "print(findPoisonedDuration([1,4,8],10))\n",
    "print(findPoisonedDuration([1,4,5,8,45,76,78,78],10))"
   ]
  },
  {
   "cell_type": "code",
   "execution_count": 98,
   "metadata": {},
   "outputs": [
    {
     "data": {
      "text/plain": [
       "[2, 3, 2, 4]"
      ]
     },
     "execution_count": 98,
     "metadata": {},
     "output_type": "execute_result"
    }
   ],
   "source": [
    "def countPoints(points, queries):\n",
    "    res = []\n",
    "    for circle in queries:\n",
    "        total = 0\n",
    "        for point in points:\n",
    "            if math.sqrt(((point[0]-circle[0])**2)+((point[1]-circle[1])**2)) <= circle[2]: total+=1\n",
    "        res.append(total)\n",
    "    return res\n",
    "points = [[1,1],[2,2],[3,3],[4,4],[5,5]]\n",
    "queries = [[1,2,2],[2,2,2],[4,3,2],[4,3,3]]\n",
    "countPoints(points,queries)"
   ]
  },
  {
   "cell_type": "code",
   "execution_count": 14,
   "metadata": {},
   "outputs": [
    {
     "name": "stdout",
     "output_type": "stream",
     "text": [
      "3\n",
      "1\n",
      "3\n",
      "3\n",
      "0\n",
      "15\n",
      "2\n",
      "1\n",
      "4\n"
     ]
    }
   ],
   "source": [
    "def lengthOfLongestSubstring(s):\n",
    "    last_seen = {}\n",
    "    l=0\n",
    "    max_length=0\n",
    "    for r in range(len(s)):\n",
    "        if s[r] in last_seen:\n",
    "            l=max(last_seen[s[r]], l)\n",
    "        \n",
    "        last_seen[s[r]]=r+1\n",
    "        max_length=max(max_length, r-l+1)\n",
    "    return max_length\n",
    "print(lengthOfLongestSubstring(\"abcabcbb\"))\n",
    "print(lengthOfLongestSubstring(\"bbbbb\"))\n",
    "print(lengthOfLongestSubstring(\"pwwkew\"))\n",
    "print(lengthOfLongestSubstring(\"dvdf\"))\n",
    "print(lengthOfLongestSubstring(\"\"))\n",
    "print(lengthOfLongestSubstring(\"1a1tuow9n*& a2mx)\"))\n",
    "print(lengthOfLongestSubstring(\"11111eeeee      \"))\n",
    "print(lengthOfLongestSubstring(' '))\n",
    "print(lengthOfLongestSubstring('abcaacbbbcbassbac'))"
   ]
  },
  {
   "cell_type": "code",
   "execution_count": 16,
   "metadata": {},
   "outputs": [
    {
     "name": "stdout",
     "output_type": "stream",
     "text": [
      "3\n",
      "1\n",
      "3\n",
      "3\n",
      "0\n",
      "7\n",
      "15\n",
      "2\n",
      "1\n",
      "4\n",
      "5\n"
     ]
    }
   ],
   "source": [
    "# My solution below outputs the correct results here and on a different PC\n",
    "# But the same exact code (+class) outputs a different result on LC\n",
    "def lengthOfLongestSubstring(s):\n",
    "    t = 0 \n",
    "    cnt = 0\n",
    "    dict = {}\n",
    "    \n",
    "    for i in range(len(s)):\n",
    "        if s[i] not in dict.values():\n",
    "            dict.update({i:s[i]})\n",
    "            cnt+=1\n",
    "        else:\n",
    "            if cnt > t: t=cnt\n",
    "            for j,v in list(dict.items()):\n",
    "                if v!= s[i]:\n",
    "                    dict.pop(j,None)\n",
    "                else:\n",
    "                    dict.pop(j,None)\n",
    "                    break\n",
    "            dict.update({i:s[i]})\n",
    "            cnt = len(dict)\n",
    "    if cnt>t:t=cnt\n",
    "    return t\n",
    "print(lengthOfLongestSubstring(\"abcabcbb\"))\n",
    "print(lengthOfLongestSubstring(\"bbbbb\"))\n",
    "print(lengthOfLongestSubstring(\"pwwkew\"))\n",
    "print(lengthOfLongestSubstring(\"dvdf\"))\n",
    "print(lengthOfLongestSubstring(\"\"))\n",
    "print(lengthOfLongestSubstring(\"wsslpluuwekuaxt\"))\n",
    "print(lengthOfLongestSubstring(\"1a1tuow9n*& a2mx)\"))\n",
    "print(lengthOfLongestSubstring(\"11111eeeee      \"))\n",
    "print(lengthOfLongestSubstring(' '))\n",
    "print(lengthOfLongestSubstring('abcaacbbbcbassbac'))\n",
    "print(lengthOfLongestSubstring(' s s s dfd asd'))"
   ]
  },
  {
   "cell_type": "code",
   "execution_count": 10,
   "metadata": {},
   "outputs": [],
   "source": [
    "\n",
    "def findLengthOfLCIS(nums):\n",
    "    \"\"\"\n",
    "    :type nums: List[int]\n",
    "    :rtype: int\n",
    "    \"\"\"\n",
    "    if len(nums) == 1: return 1\n",
    "    maxVal = 0 \n",
    "    cnt = 1 \n",
    "    holder  = [nums[0]]\n",
    "    for i in range(1,len(nums)):\n",
    "        if nums[i] > nums[i-1]:\n",
    "            holder.append(nums[i])\n",
    "            cnt += 1\n",
    "        else:\n",
    "            if cnt > maxVal: maxVal = cnt\n",
    "            cnt = 1\n",
    "            holder = [nums[i]]\n",
    "    if cnt > maxVal: maxVal = cnt\n",
    "    return maxVal"
   ]
  },
  {
   "cell_type": "code",
   "execution_count": 11,
   "metadata": {},
   "outputs": [],
   "source": [
    "def findMaxAverage(nums, k):\n",
    "    n = 0\n",
    "    t = 0\n",
    "    x = float('-inf')\n",
    "    for i in range(len(nums)):\n",
    "        t += nums[i]\n",
    "        if i >= k-1: \n",
    "            x = max(x, t/k)\n",
    "            t -= nums[n]\n",
    "            n += 1\n",
    "    return x\n",
    "        "
   ]
  },
  {
   "cell_type": "code",
   "execution_count": 13,
   "metadata": {},
   "outputs": [
    {
     "name": "stdout",
     "output_type": "stream",
     "text": [
      "3 3 [1, 12, -5, -6]\n",
      "4 3 [12, -5, -6, 50]\n",
      "5 3 [-5, -6, 50, 3]\n"
     ]
    }
   ],
   "source": [
    "def findMaxAverage(nums, k):\n",
    "    res = []\n",
    "    for i in range(k-1,len(nums)):\n",
    "        print(i)\n",
    "        #x = nums[i-(k-1):i+1]\n",
    "        #res.append(float(sum(x))/float(len(x)))\n",
    "    #return max(res)\n",
    "nums = [1,12,-5,-6,50,3]\n",
    "k = 4\n",
    "\n",
    "res = []\n",
    "for i in range(k-1,len(nums)):\n",
    "    x = nums[i-(k-1):i+1]\n",
    "    print(i,k-1,x)\n",
    "    \n",
    "    \n",
    "    #print(findMaxAverage(nums,k))"
   ]
  }
 ],
 "metadata": {
  "file_extension": ".py",
  "interpreter": {
   "hash": "3d597f4c481aa0f25dceb95d2a0067e73c0966dcbd003d741d821a7208527ecf"
  },
  "kernelspec": {
   "display_name": "Python 3.8.12 ('base')",
   "language": "python",
   "name": "python3"
  },
  "language_info": {
   "codemirror_mode": {
    "name": "ipython",
    "version": 3
   },
   "file_extension": ".py",
   "mimetype": "text/x-python",
   "name": "python",
   "nbconvert_exporter": "python",
   "pygments_lexer": "ipython3",
   "version": "3.8.12"
  },
  "mimetype": "text/x-python",
  "name": "python",
  "npconvert_exporter": "python",
  "pygments_lexer": "ipython3",
  "version": 3
 },
 "nbformat": 4,
 "nbformat_minor": 2
}
