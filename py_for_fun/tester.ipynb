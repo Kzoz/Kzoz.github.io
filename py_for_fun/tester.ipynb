{
 "cells": [
  {
   "cell_type": "code",
   "execution_count": 3,
   "metadata": {},
   "outputs": [
    {
     "data": {
      "text/plain": [
       "720"
      ]
     },
     "execution_count": 3,
     "metadata": {},
     "output_type": "execute_result"
    }
   ],
   "source": [
    "def factorial(number):\n",
    "     # Validate input\n",
    "     if not isinstance(number, int):\n",
    "         raise TypeError(\"Sorry. 'number' must be an integer.\")\n",
    "     if number < 0:\n",
    "         raise ValueError(\"Sorry. 'number' must be zero or positive.\")\n",
    "     # Calculate the factorial of number\n",
    "     def inner_factorial(number):\n",
    "         if number <= 1:\n",
    "             return 1\n",
    "         return number * inner_factorial(number - 1)\n",
    "     return inner_factorial(number)\n",
    "\n",
    "\n",
    "factorial(6)"
   ]
  },
  {
   "cell_type": "code",
   "execution_count": 16,
   "metadata": {},
   "outputs": [
    {
     "data": {
      "text/plain": [
       "(b'CONTINUE', 'received', 0)"
      ]
     },
     "execution_count": 16,
     "metadata": {},
     "output_type": "execute_result"
    }
   ],
   "source": [
    "#testing encapsulation\n",
    "import time\n",
    "def first():\n",
    "    data = bytes(b\"KANA6\")\n",
    "    sok = ''\n",
    "    def second(data,sok):\n",
    "        if data == bytes(b'KANA6'):\n",
    "            while data == bytes(b'KANA6'):\n",
    "                work =  21\n",
    "                time.sleep(0.02)\n",
    "                sok='received'\n",
    "                data = input(\"new data: \")\n",
    "                data = bytes(b''+data.encode('ascii'))\n",
    "                if data != bytes(b'KANA6'):\n",
    "                    break\n",
    "        return data,sok,work\n",
    "    \n",
    "    data,sok,work = second(data,sok)\n",
    "    \n",
    "    if data == bytes(b'CONTINUE'):\n",
    "        work = 0\n",
    "    return data,sok,work\n",
    "first()\n"
   ]
  },
  {
   "cell_type": "code",
   "execution_count": 11,
   "metadata": {},
   "outputs": [
    {
     "name": "stdout",
     "output_type": "stream",
     "text": [
      "'192.168.0.1'\n",
      "'sarah'\n",
      "'privatepassword'\n",
      "'192.168.20.2'\n",
      "'john'\n",
      "'password1'\n"
     ]
    }
   ],
   "source": [
    "f = open(r'test.txt' , 'r') #open file\n",
    "for x in f:\n",
    "    x=x.rstrip()\n",
    "    x = x.split(',')\n",
    "    ip,name, pwd = x\n",
    "    print(ip)\n",
    "    print(name)\n",
    "    print(pwd)\n",
    "\n"
   ]
  },
  {
   "cell_type": "code",
   "execution_count": 63,
   "metadata": {},
   "outputs": [
    {
     "data": {
      "text/plain": [
       "True"
      ]
     },
     "execution_count": 63,
     "metadata": {},
     "output_type": "execute_result"
    }
   ],
   "source": [
    "\n",
    "def isPalindrome(x):\n",
    "    y = str(x)\n",
    "    y = y[::-1]\n",
    "    if str(x) == y:\n",
    "        return True\n",
    "    else:\n",
    "        return False\n",
    "isPalindrome(121)"
   ]
  },
  {
   "cell_type": "code",
   "execution_count": 24,
   "metadata": {},
   "outputs": [
    {
     "name": "stdout",
     "output_type": "stream",
     "text": [
      "MC so far!\n",
      "1199\n"
     ]
    }
   ],
   "source": [
    "lst2 = {'IV':4,'IX':9,'XL':40,'XC':90,'CD':400,'CM':900}\n",
    "lst1 = {'I':1,'V':5,'X':10,'L':50,'C':100,'D':500,'M':1000}\n",
    "check = [item for item in lst2]\n",
    "check2 = [item for item in lst1]\n",
    "empty=[]\n",
    "cnt = 0\n",
    "\n",
    "\n",
    "for j in range(len(lst2)):\n",
    "    for x in check:\n",
    "        if x in a :\n",
    "            empty.append(x)\n",
    "            m = list(a)\n",
    "            for i in empty:\n",
    "                v = a.find(i)\n",
    "                del m[v:v+2]\n",
    "                a=''.join(m)\n",
    "                del empty[0]\n",
    "                cnt+=lst2.get(i)\n",
    "        indx = check.index(x)\n",
    "\n",
    "\n",
    "\n",
    "for j in range(len(lst1)):\n",
    "    for x in check2:\n",
    "        if x in a :\n",
    "            empty.append(x)\n",
    "            m = list(a)\n",
    "            for i in empty:\n",
    "                v = a.find(i)\n",
    "                del m[v]\n",
    "                a=''.join(m)\n",
    "                del empty[0]\n",
    "                cnt+=lst1.get(i)\n",
    "     \n",
    "\n",
    "        \n",
    "        \n",
    "            \n",
    "print(cnt)"
   ]
  },
  {
   "cell_type": "code",
   "execution_count": 27,
   "metadata": {},
   "outputs": [
    {
     "data": {
      "text/plain": [
       "3"
      ]
     },
     "execution_count": 27,
     "metadata": {},
     "output_type": "execute_result"
    }
   ],
   "source": [
    "def romanToInt(s):\n",
    "        map = {\"I\":1,\"V\":5,\"X\":10,\"L\":50,\"C\":100,\"D\":500,\"M\":1000}\n",
    "        ans = 0\n",
    "        for i in range(len(s)):\n",
    "            if i == len(s)-1:\n",
    "                ans += map[s[i]]\n",
    "            elif map[s[i+1]] > map[s[i]]:\n",
    "                \n",
    "                ans -= map[s[i]]\n",
    "            else:\n",
    "                ans += map[s[i]]\n",
    "        return ans\n",
    "romanToInt('III')"
   ]
  },
  {
   "cell_type": "code",
   "execution_count": null,
   "metadata": {},
   "outputs": [],
   "source": [
    "zip\n",
    "map\n",
    "dictionary\n"
   ]
  },
  {
   "cell_type": "code",
   "execution_count": 95,
   "metadata": {},
   "outputs": [
    {
     "name": "stdout",
     "output_type": "stream",
     "text": [
      "c\n",
      "fl\n",
      "\n",
      "aa\n"
     ]
    }
   ],
   "source": [
    "def longestCommonPrefix(strs):\n",
    "    empty =[]\n",
    "    res =[]\n",
    "    for a in strs:\n",
    "        for b in a:\n",
    "            if all(b in i for i in strs):\n",
    "                empty.append(b)\n",
    "                ty=''.join(empty)\n",
    "                #print(ty)\n",
    "                if all(ty in x for x in strs) and all(y.index(ty) == 0 for y in strs)and ty not in res:\n",
    "                    res=[]\n",
    "                    res.append(ty)\n",
    "    res=''.join(res)\n",
    "    return res\n",
    "print(longestCommonPrefix([\"cir\",\"car\"]))\n",
    "print(longestCommonPrefix([\"flower\",\"flow\",\"flight\"]))\n",
    "print(longestCommonPrefix([\"reflower\",\"flow\",\"flight\"]))\n",
    "print(longestCommonPrefix([\"aa\",\"aa\"]))"
   ]
  },
  {
   "cell_type": "code",
   "execution_count": 103,
   "metadata": {},
   "outputs": [
    {
     "name": "stdout",
     "output_type": "stream",
     "text": [
      "c\n",
      "fl\n",
      "\n",
      "aa\n"
     ]
    }
   ],
   "source": [
    "def longestCommonPrefix(strs):\n",
    "    word = \"\"\n",
    "    for i in range(len(strs[0])):\n",
    "        for s in strs:\n",
    "            if(i==len(s) or s[i]!=strs[0][i]):\n",
    "                return word\n",
    "        word+=strs[0][i]\n",
    "    return word\n",
    "print(longestCommonPrefix([\"cir\",\"car\"]))\n",
    "print(longestCommonPrefix([\"flower\",\"flow\",\"flight\"]))\n",
    "print(longestCommonPrefix([\"reflower\",\"flow\",\"flight\"]))\n",
    "print(longestCommonPrefix([\"aa\",\"aa\"]))"
   ]
  },
  {
   "cell_type": "code",
   "execution_count": 112,
   "metadata": {},
   "outputs": [
    {
     "name": "stdout",
     "output_type": "stream",
     "text": [
      "True\n",
      "True\n",
      "False\n",
      "False\n"
     ]
    }
   ],
   "source": [
    "def isValid(s):\n",
    "    a = \"()\" \n",
    "    b = '{}'\n",
    "    c = '[]'\n",
    "    d = [a,b,c]\n",
    "    \n",
    "    for i in range(len(s)):\n",
    "        if i%2 == 0 and ''.join(s[i:i+2]) not in d:\n",
    "            return False\n",
    "        elif i%2!= 0 and ''.join(s[i:i+2]) in d:\n",
    "            return True\n",
    "        else:\n",
    "            return True\n",
    "            \n",
    "\n",
    "print(isValid(\"()\"))\n",
    "print(isValid(\"()[]{}\"))\n",
    "print(isValid(\"(]\"))\n",
    "print(isValid(\"{[]}\"))"
   ]
  },
  {
   "cell_type": "code",
   "execution_count": 244,
   "metadata": {},
   "outputs": [
    {
     "data": {
      "text/plain": [
       "[1, 1, 2, 3, 4, 4]"
      ]
     },
     "execution_count": 244,
     "metadata": {},
     "output_type": "execute_result"
    }
   ],
   "source": [
    "def mergeTwoLists(list1, list2):\n",
    "    for i in list2:\n",
    "        if i != '':\n",
    "            list1.append(i)\n",
    "    return sorted(list1)\n",
    "mergeTwoLists([1,2,4],[1,3,4])"
   ]
  },
  {
   "cell_type": "code",
   "execution_count": 251,
   "metadata": {},
   "outputs": [
    {
     "name": "stdout",
     "output_type": "stream",
     "text": [
      "['1', '2', '4']\n",
      "['4', '3', '2', '2']\n",
      "['1', '0']\n"
     ]
    }
   ],
   "source": [
    "def plusOne(digits):\n",
    "    digits=[str(i) for i in digits]\n",
    "    digits=str(int(''.join(digits))+1)\n",
    "    digits=[i for i in digits]\n",
    "    return digits\n",
    "print(plusOne([1,2,3]))\n",
    "print(plusOne([4,3,2,1]))\n",
    "print(plusOne([9]))\n"
   ]
  },
  {
   "cell_type": "code",
   "execution_count": 278,
   "metadata": {},
   "outputs": [
    {
     "name": "stdout",
     "output_type": "stream",
     "text": [
      "True\n",
      "False\n",
      "True\n"
     ]
    }
   ],
   "source": [
    "def containsDuplicate(nums):\n",
    "    if len(nums)!= len(set(nums)):\n",
    "        return True\n",
    "    return False\n",
    "print(containsDuplicate([5,1,2,3,1]))\n",
    "print(containsDuplicate([1,2,3,4]))\n",
    "print(containsDuplicate([5,9,1,1,1,3,3,4,3,2,4,2]))"
   ]
  },
  {
   "cell_type": "code",
   "execution_count": 295,
   "metadata": {},
   "outputs": [
    {
     "name": "stdout",
     "output_type": "stream",
     "text": [
      "2\n"
     ]
    }
   ],
   "source": [
    "nums=[2,1]\n",
    "nums.sort(reverse=True)\n",
    "nums=set(nums)\n",
    "if len(nums) > 2:\n",
    "    print(nums[2])\n",
    "else:\n",
    "    print(max(nums))#"
   ]
  },
  {
   "cell_type": "code",
   "execution_count": 403,
   "metadata": {},
   "outputs": [
    {
     "data": {
      "text/plain": [
       "['adsdf', 'sfd']"
      ]
     },
     "execution_count": 403,
     "metadata": {},
     "output_type": "execute_result"
    }
   ],
   "source": [
    "def findWords(words):\n",
    "    row1 = ['q','w','e','r','t','y','u','i','o','p']\n",
    "    row2 = ['a','s','d','f','g','h','j','k','l']\n",
    "    row3 = ['z','x','c','v','b','n','m']\n",
    "    words2 = [] \n",
    "    words3 = []\n",
    "\n",
    "    for x in words:\n",
    "        for i in range(len(x)):\n",
    "            if x[i].lower() in row1:\n",
    "                x=x.replace(x[i],'1')\n",
    "            if x[i].lower() in row2:\n",
    "                x=x.replace(x[i],'2')\n",
    "            if x[i].lower() in row3:\n",
    "                x=x.replace(x[i],'3')\n",
    "                print(x,x[i])\n",
    "        words2.append(x)\n",
    "\n",
    "    words2 = [set(i) for i in words2]\n",
    "\n",
    "    for i in range(len(words)):\n",
    "        if len(words2[i]) == 1:\n",
    "            words3.append(words[i])\n",
    "    \n",
    "    return words3\n",
    "\n",
    "findWords([\"adsdf\",\"sfd\"])"
   ]
  },
  {
   "cell_type": "code",
   "execution_count": 423,
   "metadata": {},
   "outputs": [
    {
     "name": "stdout",
     "output_type": "stream",
     "text": [
      "5\n",
      "[3, 2, 1] holder\n",
      "3 third rank\n",
      "['Gold Medal', 'Silver Medal', 'Bronze Medal', 2, 1]\n",
      "10\n",
      "[3, 8, 4] holder\n",
      "8 third rank\n",
      "['Gold Medal', 3, 'Bronze Medal', 'Silver Medal', 4]\n"
     ]
    }
   ],
   "source": [
    "def findRelativeRanks(score):\n",
    "    holder = []\n",
    "    score = list(score)\n",
    "    st= score.index(max(score))\n",
    "    print(score[st])\n",
    "    score[st] = 'Gold Medal'\n",
    "\n",
    "    ndList = score[:st]+score[st+1:]\n",
    "    nd = max(ndList)\n",
    "    if nd in score:\n",
    "        score[score.index(nd)] = 'Silver Medal'\n",
    "    \n",
    "    for i in score:\n",
    "        if isinstance(i,int):\n",
    "            holder.append(i)\n",
    "    print(holder,'holder')\n",
    "    rd = max(holder)\n",
    "    print(rd,'third rank')\n",
    "    if rd in score:\n",
    "        score[score.index(rd)] = 'Bronze Medal'\n",
    "    #nd= score.index(max(score))\n",
    "    #score[nd] = “Silver Medal”\n",
    "\n",
    "    #rd= score.index(max(score))\n",
    "    #score[rd] = “Bronze Medal”\n",
    "\n",
    "    \n",
    "    return score\n",
    "print(findRelativeRanks([5,4,3,2,1]))\n",
    "print(findRelativeRanks([10,3,8,9,4]))\n",
    "#print(findRelativeRanks())\n",
    "#print(findRelativeRanks())\n"
   ]
  },
  {
   "cell_type": "code",
   "execution_count": 473,
   "metadata": {},
   "outputs": [
    {
     "name": "stdout",
     "output_type": "stream",
     "text": [
      "['Gold Medal', '5', 'Bronze Medal', 'Silver Medal', '4']\n"
     ]
    }
   ],
   "source": [
    "#def findRelativeRanks(score):\n",
    "score = [10,3,8,9,4]\n",
    "rank = [str(sorted(score, reverse=True).index(x)+1) for x in score ]\n",
    "for i in rank:\n",
    "    if i == '1':\n",
    "        rank[rank.index(i)] = 'Gold Medal'\n",
    "    if i == '2':\n",
    "        rank[rank.index(i)] = 'Silver Medal'\n",
    "    if i == '3'ze\n",
    "        rank[rank.index(i)] = 'Bronze Medal'\n",
    "        \n",
    "\n",
    "print(rank)"
   ]
  },
  {
   "cell_type": "code",
   "execution_count": 486,
   "metadata": {},
   "outputs": [
    {
     "name": "stdout",
     "output_type": "stream",
     "text": [
      "['Gold Medal', '5', 'Bronze Medal', 'Silver Medal', '4']\n"
     ]
    }
   ],
   "source": [
    "score = [10,3,8,9,4]\n",
    "rank = []\n",
    "for i in score:\n",
    "    x=str(sorted(score,reverse=True).index(i)+1)\n",
    "    if x == '1':\n",
    "        x='Gold Medal'\n",
    "    elif x=='2':\n",
    "        x='Silver Medal'\n",
    "    elif x=='3':\n",
    "        x='Bronze Medal'\n",
    "    rank.append(x)\n",
    "print(rank)"
   ]
  },
  {
   "cell_type": "code",
   "execution_count": 32,
   "metadata": {},
   "outputs": [
    {
     "data": {
      "text/plain": [
       "[[1, 2, 3], [1, 3, 2], [2, 1, 3], [2, 3, 1], [3, 1, 2], [3, 2, 1]]"
      ]
     },
     "execution_count": 32,
     "metadata": {},
     "output_type": "execute_result"
    }
   ],
   "source": [
    "def permute(nums):\n",
    "    if len(nums) == 0:\n",
    "        return []\n",
    "    if len(nums) == 1:\n",
    "        return [nums]\n",
    "    holder = []\n",
    "    for i in range(len(nums)):\n",
    "        x = nums[i]\n",
    "        remList = nums[:i] + nums[i+1:]\n",
    "\n",
    "        for j in permute(remList):\n",
    "            holder.append([x]+j)\n",
    "            \n",
    "\n",
    "    return holder\n",
    "            \n",
    "        \n",
    "permute([1,2,3])"
   ]
  },
  {
   "cell_type": "code",
   "execution_count": 97,
   "metadata": {},
   "outputs": [
    {
     "data": {
      "text/plain": [
       "[[1, 2, 3], [1, 3, 2], [2, 1, 3], [2, 3, 1], [3, 1, 2], [3, 2, 1]]"
      ]
     },
     "execution_count": 97,
     "metadata": {},
     "output_type": "execute_result"
    }
   ],
   "source": [
    "def ranDom(nums):\n",
    "\n",
    "    if len(nums)==0:\n",
    "        return []\n",
    "    if len(nums)==1:\n",
    "        return [nums]\n",
    "    \n",
    "\n",
    "\n",
    "    holder = []\n",
    "    for i in range(len(nums)):\n",
    "        x = nums[i]\n",
    "        remaining = nums[:i]+nums[i+1:]\n",
    "        \n",
    "        for j in ranDom(remaining):\n",
    "            holder.append([x]+j)\n",
    "    return holder\n",
    "ranDom([1,2,3])"
   ]
  },
  {
   "cell_type": "code",
   "execution_count": 2,
   "metadata": {},
   "outputs": [
    {
     "name": "stdout",
     "output_type": "stream",
     "text": [
      "[1, 2, 3]\n",
      "[1, 3, 2]\n",
      "[2, 1, 3]\n",
      "[2, 3, 1]\n",
      "[3, 1, 2]\n",
      "[3, 2, 1]\n"
     ]
    }
   ],
   "source": [
    "def permutation(lst):\n",
    " \n",
    "    # If lst is empty then there are no permutations\n",
    "    if len(lst) == 0:\n",
    "        return []\n",
    " \n",
    "    # If there is only one element in lst then, only\n",
    "    # one permutation is possible\n",
    "    if len(lst) == 1:\n",
    "        return [lst]\n",
    " \n",
    "    # Find the permutations for lst if there are\n",
    "    # more than 1 characters\n",
    " \n",
    "    l = [] # empty list that will store current permutation\n",
    " \n",
    "    # Iterate the input(lst) and calculate the permutation\n",
    "    for i in range(len(lst)):\n",
    "       m = lst[i]\n",
    " \n",
    "       # Extract lst[i] or m from the list.  remLst is\n",
    "       # remaining list\n",
    "       remLst = lst[:i] + lst[i+1:]\n",
    " \n",
    "       # Generating all permutations where m is first\n",
    "       # element\n",
    "       for p in permutation(remLst):\n",
    "           l.append([m] + p)\n",
    "    return l\n",
    " \n",
    " \n",
    "# Driver program to test above function\n",
    "#data = list('123')\n",
    "data = [1,2,3]\n",
    "for p in permutation(data):\n",
    "    print (p)"
   ]
  },
  {
   "cell_type": "code",
   "execution_count": null,
   "metadata": {},
   "outputs": [],
   "source": [
    "def majorityElement(nums):\n",
    "    for i in nums:\n",
    "        if i \n",
    "majorityElement([2,2,1,1,1,2,2])"
   ]
  },
  {
   "cell_type": "code",
   "execution_count": 50,
   "metadata": {},
   "outputs": [
    {
     "name": "stdout",
     "output_type": "stream",
     "text": [
      "num: 3 count: 2\n",
      "num: 4 count: 1\n",
      "3\n"
     ]
    }
   ],
   "source": [
    "nums = [3,3,4]\n",
    "#nums = [str(i) for i in nums]\n",
    "holder = set(nums)\n",
    "higherCount = 0\n",
    "ans = 0\n",
    "for i in holder:\n",
    "    x=nums.count(i)\n",
    "    print('num:',i,'count:',x)\n",
    "    if x>higherCount:\n",
    "        higherCount=x\n",
    "        ans = i\n",
    "\n",
    "print(ans)"
   ]
  },
  {
   "cell_type": "code",
   "execution_count": 86,
   "metadata": {},
   "outputs": [
    {
     "name": "stdout",
     "output_type": "stream",
     "text": [
      "amanaplanacanalpanama\n"
     ]
    },
    {
     "data": {
      "text/plain": [
       "True"
      ]
     },
     "execution_count": 86,
     "metadata": {},
     "output_type": "execute_result"
    }
   ],
   "source": [
    "def isPalindrome():\n",
    "    s=\"A man, a plan, a canal: Panama\"\n",
    "    s = (''.join(filter(str.isalnum, s))).lower()\n",
    "   \n",
    "    \n",
    "    if s == s[::-1]:\n",
    "        return True\n",
    "    else:\n",
    "        return False\n",
    "\n",
    "isPalindrome()"
   ]
  },
  {
   "cell_type": "code",
   "execution_count": null,
   "metadata": {},
   "outputs": [],
   "source": []
  }
 ],
 "metadata": {
  "file_extension": ".py",
  "interpreter": {
   "hash": "31f2aee4e71d21fbe5cf8b01ff0e069b9275f58929596ceb00d14d90e3e16cd6"
  },
  "kernelspec": {
   "display_name": "Python 3 (ipykernel)",
   "language": "python",
   "name": "python3"
  },
  "language_info": {
   "codemirror_mode": {
    "name": "ipython",
    "version": 3
   },
   "file_extension": ".py",
   "mimetype": "text/x-python",
   "name": "python",
   "nbconvert_exporter": "python",
   "pygments_lexer": "ipython3",
   "version": "3.8.12"
  },
  "mimetype": "text/x-python",
  "name": "python",
  "npconvert_exporter": "python",
  "pygments_lexer": "ipython3",
  "version": 3
 },
 "nbformat": 4,
 "nbformat_minor": 2
}
