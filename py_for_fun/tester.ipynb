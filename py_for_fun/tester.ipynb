{
 "cells": [
  {
   "cell_type": "code",
   "execution_count": 3,
   "metadata": {},
   "outputs": [
    {
     "data": {
      "text/plain": [
       "720"
      ]
     },
     "execution_count": 3,
     "metadata": {},
     "output_type": "execute_result"
    }
   ],
   "source": [
    "def factorial(number):\n",
    "     # Validate input\n",
    "     if not isinstance(number, int):\n",
    "         raise TypeError(\"Sorry. 'number' must be an integer.\")\n",
    "     if number < 0:\n",
    "         raise ValueError(\"Sorry. 'number' must be zero or positive.\")\n",
    "     # Calculate the factorial of number\n",
    "     def inner_factorial(number):\n",
    "         if number <= 1:\n",
    "             return 1\n",
    "         return number * inner_factorial(number - 1)\n",
    "     return inner_factorial(number)\n",
    "\n",
    "\n",
    "factorial(6)"
   ]
  },
  {
   "cell_type": "code",
   "execution_count": 16,
   "metadata": {},
   "outputs": [
    {
     "data": {
      "text/plain": [
       "(b'CONTINUE', 'received', 0)"
      ]
     },
     "execution_count": 16,
     "metadata": {},
     "output_type": "execute_result"
    }
   ],
   "source": [
    "#testing encapsulation\n",
    "import time\n",
    "def first():\n",
    "    data = bytes(b\"KANA6\")\n",
    "    sok = ''\n",
    "    def second(data,sok):\n",
    "        if data == bytes(b'KANA6'):\n",
    "            while data == bytes(b'KANA6'):\n",
    "                work =  21\n",
    "                time.sleep(0.02)\n",
    "                sok='received'\n",
    "                data = input(\"new data: \")\n",
    "                data = bytes(b''+data.encode('ascii'))\n",
    "                if data != bytes(b'KANA6'):\n",
    "                    break\n",
    "        return data,sok,work\n",
    "    \n",
    "    data,sok,work = second(data,sok)\n",
    "    \n",
    "    if data == bytes(b'CONTINUE'):\n",
    "        work = 0\n",
    "    return data,sok,work\n",
    "first()\n"
   ]
  }
 ],
 "metadata": {
  "file_extension": ".py",
  "interpreter": {
   "hash": "31f2aee4e71d21fbe5cf8b01ff0e069b9275f58929596ceb00d14d90e3e16cd6"
  },
  "kernelspec": {
   "display_name": "Python 3.7.3 64-bit",
   "language": "python",
   "name": "python3"
  },
  "language_info": {
   "codemirror_mode": {
    "name": "ipython",
    "version": 3
   },
   "file_extension": ".py",
   "mimetype": "text/x-python",
   "name": "python",
   "nbconvert_exporter": "python",
   "pygments_lexer": "ipython3",
   "version": "3.8.12"
  },
  "mimetype": "text/x-python",
  "name": "python",
  "npconvert_exporter": "python",
  "orig_nbformat": 2,
  "pygments_lexer": "ipython3",
  "version": 3
 },
 "nbformat": 4,
 "nbformat_minor": 2
}
