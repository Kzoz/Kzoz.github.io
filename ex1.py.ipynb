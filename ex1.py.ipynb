{
 "cells": [
  {
   "cell_type": "code",
   "execution_count": 12,
   "id": "1b93803d",
   "metadata": {
    "scrolled": true
   },
   "outputs": [
    {
     "name": "stdout",
     "output_type": "stream",
     "text": [
      "\n",
      " >sequence 1\n",
      "tatacttatattaaaattaatatagtgttataacccccacaaacatgatctcctgaatgg\n",
      "ctgttgcgaagtttcttctaccgagattatatcggattttcacaaaaaagaccgttgtct\n",
      "\n",
      " >sequence a\n",
      "tatacttatattaaaattaatatagtgttataacccccacaaacatgatctcctgaatgg\n",
      "ctgttgcgaagtttcttctaccgagattatatcggattttcacaaaaaagaccgttgtct\n",
      "\n",
      " >sequence b\n",
      "tatacttatattaaaattaatatagtgttataacccccacaaacatgatctcgtgaatgg\n",
      "ctgttgcgaagtttcttctaccgagattatatcggattttcacattttagaccgttgtct\n",
      "gtcagcagctagctacgtat\n",
      "\n",
      " >sequenceid-001 description\n",
      "tatgtgtgattcgtttaagtcttccaaaaatagatattactattctataataaggatgaa\n",
      "gtcccttattaggtttattagccgctcgactatatacagatcagca\n",
      "\n",
      " >sequenceid-002 description\n",
      "catgaccgttggagatagtgtagaccatctagcctgccaagaatgtaggtgagaaatgac\n",
      "aatagactgcctatataagatttgttataatttcctaattagttaataatacgttaaaaa\n",
      "ctgctaaaggcggtagtatagcaataaaaatcct\n",
      "\n",
      " >sequenceid-003 description\n",
      "tatttaagtagcgaaatggaagctacgtattccatagagcgcagtcgtcccattaacttc\n",
      "gtttaattttggaacc\n"
     ]
    }
   ],
   "source": [
    "# This method reverse them line by line. Might have the wrong result if the 2-3 under > sequence belong\n",
    "# to the same block\n",
    "\n",
    "with open('input1.fasta','r') as file:\n",
    "    lines =  [line.rstrip() for line in file]\n",
    "\n",
    "for i,j in enumerate(lines,start=1):\n",
    "    j=j.lower()\n",
    "    if j[0] == '>':\n",
    "        print('\\n',j)\n",
    "    else:\n",
    "        j = j[::-1]\n",
    "        print(j)"
   ]
  },
  {
   "cell_type": "code",
   "execution_count": 67,
   "id": "e287b683",
   "metadata": {},
   "outputs": [
    {
     "name": "stdout",
     "output_type": "stream",
     "text": [
      "\n",
      " >sequence 1\n",
      "ctgttgcgaagtttcttctaccgagattatatcggattttcacaaaaaagaccgttgtcttatacttatattaaaattaatatagtgttataacccccacaaacatgatctcctgaatgg\n",
      "\n",
      " >sequence a\n",
      "ctgttgcgaagtttcttctaccgagattatatcggattttcacaaaaaagaccgttgtcttatacttatattaaaattaatatagtgttataacccccacaaacatgatctcctgaatgg\n",
      "\n",
      " >sequence b\n",
      "gtcagcagctagctacgtatctgttgcgaagtttcttctaccgagattatatcggattttcacattttagaccgttgtcttatacttatattaaaattaatatagtgttataacccccacaaacatgatctcgtgaatgg\n",
      "\n",
      " >sequenceid-001 description\n",
      "gtcccttattaggtttattagccgctcgactatatacagatcagcatatgtgtgattcgtttaagtcttccaaaaatagatattactattctataataaggatgaa\n",
      "\n",
      " >sequenceid-002 description\n",
      "ctgctaaaggcggtagtatagcaataaaaatcctaatagactgcctatataagatttgttataatttcctaattagttaataatacgttaaaaacatgaccgttggagatagtgtagaccatctagcctgccaagaatgtaggtgagaaatgac\n",
      "\n",
      " >sequenceid-003 description\n",
      "gtttaattttggaacctatttaagtagcgaaatggaagctacgtattccatagagcgcagtcgtcccattaacttc\n"
     ]
    }
   ],
   "source": [
    "#by block\n",
    "\n",
    "with open('input1.fasta','r') as file:\n",
    "    lines =  [line.rstrip() for line in file]\n",
    "\n",
    "\n",
    "blockLine = []\n",
    "holder = ''\n",
    "for i in lines:\n",
    "    if not i.startswith('>'):  \n",
    "        holder+=i \n",
    "    else:\n",
    "        if holder!='':blockLine.append(holder)\n",
    "        blockLine.append(i)\n",
    "        holder=''\n",
    "if holder!='':blockLine.append(holder)\n",
    "for x in blockLine:\n",
    "    x=x.lower()\n",
    "    if x.startswith('>'):print('\\n',x)\n",
    "    else:\n",
    "        x = x[::-1]\n",
    "        print(x)"
   ]
  }
 ],
 "metadata": {
  "kernelspec": {
   "display_name": "Python 3.8.12 ('tensorflow')",
   "language": "python",
   "name": "python3"
  },
  "language_info": {
   "codemirror_mode": {
    "name": "ipython",
    "version": 3
   },
   "file_extension": ".py",
   "mimetype": "text/x-python",
   "name": "python",
   "nbconvert_exporter": "python",
   "pygments_lexer": "ipython3",
   "version": "3.8.12"
  },
  "vscode": {
   "interpreter": {
    "hash": "ee7d7838ef53998fd22ad7449b76e48b4013ea11e59d28ee193f2cd757746339"
   }
  }
 },
 "nbformat": 4,
 "nbformat_minor": 5
}
