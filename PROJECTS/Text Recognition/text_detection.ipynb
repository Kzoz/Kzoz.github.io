{
 "metadata": {
  "language_info": {
   "codemirror_mode": {
    "name": "ipython",
    "version": 3
   },
   "file_extension": ".py",
   "mimetype": "text/x-python",
   "name": "python",
   "nbconvert_exporter": "python",
   "pygments_lexer": "ipython3",
   "version": "3.8.10"
  },
  "orig_nbformat": 4,
  "kernelspec": {
   "name": "python3",
   "display_name": "Python 3.8.10 64-bit ('tensorflow': conda)"
  },
  "interpreter": {
   "hash": "eaf1095a0b5786be379c10cbb4ff56dfc90882fdd17afb3fb75f0780ed62257d"
  }
 },
 "nbformat": 4,
 "nbformat_minor": 2,
 "cells": [
  {
   "cell_type": "code",
   "execution_count": null,
   "metadata": {},
   "outputs": [],
   "source": [
    "import sys\n",
    "from PIL import Image\n",
    "import pyocr\n",
    "import pyocr.builders\n",
    "import cv2\n",
    "import datetime\n",
    "import glob\n",
    "import numpy as np\n",
    "import os"
   ]
  },
  {
   "cell_type": "code",
   "execution_count": null,
   "metadata": {},
   "outputs": [],
   "source": [
    "#Take a photo with the webcam and save it under the date+img_counter\n",
    "\n",
    "\n",
    "#Obtain the current date and time with now and transform it to string with seq\n",
    "# Concatenate the string to \"img\" in order to make image title\n",
    "now = datetime.datetime.now()\n",
    "seq = str(now.strftime(\"%Y%m%d%H%M\"))\n",
    "title = \"img\"+seq\n",
    "\n",
    "\n",
    "\n",
    "cam = cv2.VideoCapture(0) #Capture image with Camera at location 0\n",
    "cv2.namedWindow(\"Take Picture\") #Frame title\n",
    "\n",
    "img_counter = 0 #counter for image taken in the same date and/or timeframe\n",
    "while True:\n",
    "    ret, frame = cam.read()\n",
    "    if not ret:\n",
    "        print(\"failed to grab frame\")\n",
    "        break\n",
    "    cv2.imshow(\"test\", frame)\n",
    "\n",
    "    k = cv2.waitKey(1)\n",
    "    if k%256 == 27:\n",
    "        # ESC pressed (to stop camera)\n",
    "        print(\"Escape hit, closing...\")\n",
    "        break\n",
    "    elif k%256 == 32:\n",
    "        # SPACE pressed (to take a shot)\n",
    "        img_name = title + \"_{}.png\".format(img_counter)\n",
    "        cv2.imwrite(img_name, frame)\n",
    "        print(\"{} written!\".format(img_name))\n",
    "        img_counter += 1\n",
    "\n",
    "\n",
    "cam.release()\n",
    "\n",
    "cv2.destroyAllWindows()"
   ]
  },
  {
   "cell_type": "code",
   "execution_count": null,
   "metadata": {},
   "outputs": [],
   "source": [
    "#Image transformation to gray scale and save to new folder\n",
    "\n",
    "counter =0\n",
    "for infile in glob.glob(\"./*.jpg\"):     # Set path and open all .png images\n",
    "    counter+=1\n",
    "    print(counter)\n",
    "    file, ext = os.path.splitext(infile)\n",
    "    img_array = Image.open(infile)\n",
    "    img_array = np.array(img_array)\n",
    "    path = './grayscaled'\n",
    "\n",
    "    image = cv2.cvtColor(img_array, cv2.COLOR_BGR2GRAY) #graysacle images\n",
    "    cv2.imwrite(os.path.join(path , file+'.jpg'), image) #save grayscaled images to new path as .png\n",
    "\n",
    "print(\"----end----\")"
   ]
  },
  {
   "cell_type": "code",
   "execution_count": null,
   "metadata": {},
   "outputs": [],
   "source": [
    "## OCR program for word recognition\n",
    "tools = pyocr.get_available_tools()\n",
    "if len(tools) == 0:\n",
    "    print(\"No OCR tool found\")\n",
    "    sys.exit(1)\n",
    "\n",
    "tool = tools[0]\n",
    "print(\"Will use tool '%s'\" % (tool.get_name()))\n",
    "\n",
    "\n",
    "txt = tool.image_to_string(\n",
    "    #文字認識対象の画像image.pngを用意する\n",
    "    Image.open(\"./grayscaled/xyz.jpg\"),\n",
    "    lang=\"jpn\",\n",
    "    builder=pyocr.builders.TextBuilder(tesseract_layout=6)\n",
    ")\n",
    "\n",
    "print( txt )\n",
    "\n",
    "#僕のフォルダ構成は下記の通りです。\n",
    "\n",
    "#detectText/\n",
    "#- detect.py\n",
    "#- image.png "
   ]
  },
  {
   "cell_type": "code",
   "execution_count": null,
   "metadata": {
    "tags": [
     "outputPrepend"
    ]
   },
   "outputs": [],
   "source": [
    "#Same as above but extract text from all images in the folder\n",
    "\n",
    "tools = pyocr.get_available_tools()\n",
    "if len(tools) == 0:\n",
    "    print(\"No OCR tool found\")\n",
    "    sys.exit(1)\n",
    "\n",
    "tool = tools[0]\n",
    "print(\"Will use tool '%s'\" % (tool.get_name()))\n",
    "\n",
    "cnt = 0 # for number of text extracted images\n",
    "for infile in glob.glob(\"./*.jpg\"):     # Set path and open all .png (or .jpg) images\n",
    "    cnt+= 1\n",
    "    file, ext = os.path.splitext(infile)\n",
    "    img_array = Image.open(infile)\n",
    "    print(\"IMAGE No\",cnt,\"=\",file,\"\\n\")\n",
    "\n",
    "    txt = tool.image_to_string(     #pass image to text extractor\n",
    "        img_array,\n",
    "        lang=\"jpn\",\n",
    "        builder=pyocr.builders.TextBuilder(tesseract_layout=6)\n",
    "    )\n",
    "    print(txt) # print extracted text\n",
    "    print(\"__________________________________________________________\\n\\n\\n\")"
   ]
  }
 ]
}